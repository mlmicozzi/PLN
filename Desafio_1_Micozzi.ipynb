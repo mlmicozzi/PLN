{
  "cells": [
    {
      "cell_type": "markdown",
      "metadata": {
        "id": "j8ckpN7m5gh9"
      },
      "source": [
        "## Desafío 1 - Procesamiento del Lenguaje Natural I\n",
        "##### Docentes: Rodrigo Cárdenas / Nicolás  Vattuone\n",
        "##### Autora: María Luz Micozzi"
      ]
    },
    {
      "cell_type": "markdown",
      "metadata": {
        "id": "zq6j8LsYq1Dr"
      },
      "source": [
        "### Vectorización de texto y modelo de clasificación Naïve Bayes con el dataset 20 newsgroups"
      ]
    },
    {
      "cell_type": "code",
      "execution_count": 2,
      "metadata": {
        "id": "l7cXR6CI30ry"
      },
      "outputs": [],
      "source": [
        "from sklearn.feature_extraction.text import CountVectorizer, TfidfVectorizer\n",
        "from sklearn.metrics.pairwise import cosine_similarity\n",
        "from sklearn.naive_bayes import MultinomialNB, ComplementNB\n",
        "from sklearn.metrics import f1_score\n",
        "\n",
        "# 20newsgroups por ser un dataset clásico de NLP ya viene incluido y formateado\n",
        "# en sklearn\n",
        "from sklearn.datasets import fetch_20newsgroups\n",
        "import numpy as np"
      ]
    },
    {
      "cell_type": "markdown",
      "metadata": {
        "id": "yD-pVDWV_rQc"
      },
      "source": [
        "## Carga de datos"
      ]
    },
    {
      "cell_type": "code",
      "execution_count": 3,
      "metadata": {
        "id": "Ech9qJaUo9vK"
      },
      "outputs": [],
      "source": [
        "# cargamos los datos (ya separados de forma predeterminada en train y test)\n",
        "newsgroups_train = fetch_20newsgroups(subset='train', remove=('headers', 'footers', 'quotes'))\n",
        "newsgroups_test = fetch_20newsgroups(subset='test', remove=('headers', 'footers', 'quotes'))"
      ]
    },
    {
      "cell_type": "markdown",
      "metadata": {
        "id": "UxjSI7su_uWI"
      },
      "source": [
        "## Vectorización"
      ]
    },
    {
      "cell_type": "code",
      "execution_count": 4,
      "metadata": {
        "id": "-94VP0QYCzDn"
      },
      "outputs": [],
      "source": [
        "# instanciamos un vectorizador\n",
        "# ver diferentes parámetros de instanciación en la documentación de sklearn https://scikit-learn.org/stable/modules/generated/sklearn.feature_extraction.text.TfidfVectorizer.html\n",
        "tfidfvect = TfidfVectorizer()"
      ]
    },
    {
      "cell_type": "code",
      "execution_count": 5,
      "metadata": {
        "colab": {
          "base_uri": "https://localhost:8080/"
        },
        "id": "ftPlyanuak8n",
        "outputId": "632c3335-da01-4ffe-d1cd-24501853e6aa"
      },
      "outputs": [
        {
          "output_type": "stream",
          "name": "stdout",
          "text": [
            "I was wondering if anyone out there could enlighten me on this car I saw\n",
            "the other day. It was a 2-door sports car, looked to be from the late 60s/\n",
            "early 70s. It was called a Bricklin. The doors were really small. In addition,\n",
            "the front bumper was separate from the rest of the body. This is \n",
            "all I know. If anyone can tellme a model name, engine specs, years\n",
            "of production, where this car is made, history, or whatever info you\n",
            "have on this funky looking car, please e-mail.\n"
          ]
        }
      ],
      "source": [
        "# en el atributo `data` accedemos al texto\n",
        "print(newsgroups_train.data[0])"
      ]
    },
    {
      "cell_type": "code",
      "execution_count": 6,
      "metadata": {
        "id": "1zxcXV6aC_oL"
      },
      "outputs": [],
      "source": [
        "# con la interfaz habitual de sklearn podemos fitear el vectorizador\n",
        "# (obtener el vocabulario y calcular el vector IDF)\n",
        "# y transformar directamente los datos\n",
        "X_train = tfidfvect.fit_transform(newsgroups_train.data)\n",
        "# `X_train` la podemos denominar como la matriz documento-término"
      ]
    },
    {
      "cell_type": "code",
      "execution_count": 7,
      "metadata": {
        "colab": {
          "base_uri": "https://localhost:8080/"
        },
        "id": "4Sv7TXbda41-",
        "outputId": "17e5fbca-d135-4ec8-bc57-789c18bf4df5"
      },
      "outputs": [
        {
          "output_type": "stream",
          "name": "stdout",
          "text": [
            "<class 'scipy.sparse._csr.csr_matrix'>\n",
            "shape: (11314, 101631)\n",
            "Cantidad de documentos: 11314\n",
            "Tamaño del vocabulario (dimensionalidad de los vectores): 101631\n"
          ]
        }
      ],
      "source": [
        "# recordar que las vectorizaciones por conteos son esparsas\n",
        "# por ello sklearn convenientemente devuelve los vectores de documentos\n",
        "# como matrices esparsas\n",
        "print(type(X_train))\n",
        "print(f'shape: {X_train.shape}')\n",
        "print(f'Cantidad de documentos: {X_train.shape[0]}')\n",
        "print(f'Tamaño del vocabulario (dimensionalidad de los vectores): {X_train.shape[1]}')"
      ]
    },
    {
      "cell_type": "code",
      "execution_count": 8,
      "metadata": {
        "colab": {
          "base_uri": "https://localhost:8080/"
        },
        "id": "dgydNTZ2pAgR",
        "outputId": "c0661cb2-8ab7-415c-a0c7-64bec62e5bab"
      },
      "outputs": [
        {
          "output_type": "execute_result",
          "data": {
            "text/plain": [
              "25775"
            ]
          },
          "metadata": {},
          "execution_count": 8
        }
      ],
      "source": [
        "# una vez fiteado el vectorizador, podemos acceder a atributos como el vocabulario\n",
        "# aprendido. Es un diccionario que va de términos a índices.\n",
        "# El índice es la posición en el vector de documento.\n",
        "tfidfvect.vocabulary_['car']"
      ]
    },
    {
      "cell_type": "code",
      "execution_count": 9,
      "metadata": {
        "id": "xnTSZuvyrTcP"
      },
      "outputs": [],
      "source": [
        "# es muy útil tener el diccionario opuesto que va de índices a términos\n",
        "idx2word = {v: k for k,v in tfidfvect.vocabulary_.items()}"
      ]
    },
    {
      "cell_type": "code",
      "execution_count": 10,
      "metadata": {
        "colab": {
          "base_uri": "https://localhost:8080/"
        },
        "id": "swa-AgWrMSHM",
        "outputId": "007dc392-680b-4ff8-ebaa-87d741629d68"
      },
      "outputs": [
        {
          "output_type": "execute_result",
          "data": {
            "text/plain": [
              "array([ 7,  4,  4,  1, 14, 16, 13,  3,  2,  4])"
            ]
          },
          "metadata": {},
          "execution_count": 10
        }
      ],
      "source": [
        "# en `y_train` guardamos los targets que son enteros\n",
        "y_train = newsgroups_train.target\n",
        "y_train[:10]"
      ]
    },
    {
      "cell_type": "code",
      "execution_count": 11,
      "metadata": {
        "colab": {
          "base_uri": "https://localhost:8080/"
        },
        "id": "je5kxvQMDLvf",
        "outputId": "2bd19e65-6bb6-4471-c0bd-bb0e0fad4898"
      },
      "outputs": [
        {
          "output_type": "stream",
          "name": "stdout",
          "text": [
            "clases [ 0  1  2  3  4  5  6  7  8  9 10 11 12 13 14 15 16 17 18 19]\n"
          ]
        },
        {
          "output_type": "execute_result",
          "data": {
            "text/plain": [
              "['alt.atheism',\n",
              " 'comp.graphics',\n",
              " 'comp.os.ms-windows.misc',\n",
              " 'comp.sys.ibm.pc.hardware',\n",
              " 'comp.sys.mac.hardware',\n",
              " 'comp.windows.x',\n",
              " 'misc.forsale',\n",
              " 'rec.autos',\n",
              " 'rec.motorcycles',\n",
              " 'rec.sport.baseball',\n",
              " 'rec.sport.hockey',\n",
              " 'sci.crypt',\n",
              " 'sci.electronics',\n",
              " 'sci.med',\n",
              " 'sci.space',\n",
              " 'soc.religion.christian',\n",
              " 'talk.politics.guns',\n",
              " 'talk.politics.mideast',\n",
              " 'talk.politics.misc',\n",
              " 'talk.religion.misc']"
            ]
          },
          "metadata": {},
          "execution_count": 11
        }
      ],
      "source": [
        "# hay 20 clases correspondientes a los 20 grupos de noticias\n",
        "print(f'clases {np.unique(newsgroups_test.target)}')\n",
        "newsgroups_test.target_names"
      ]
    },
    {
      "cell_type": "markdown",
      "metadata": {
        "id": "SXCICFSd_y90"
      },
      "source": [
        "## Similaridad de documentos"
      ]
    },
    {
      "cell_type": "code",
      "execution_count": 12,
      "metadata": {
        "colab": {
          "base_uri": "https://localhost:8080/"
        },
        "id": "_pki_olShnyE",
        "outputId": "70af0dc1-dd25-4910-ce6a-dbba70ff466a"
      },
      "outputs": [
        {
          "output_type": "stream",
          "name": "stdout",
          "text": [
            "THE WHITE HOUSE\n",
            "\n",
            "                  Office of the Press Secretary\n",
            "                   (Pittsburgh, Pennslyvania)\n",
            "______________________________________________________________\n",
            "For Immediate Release                         April 17, 1993     \n",
            "\n",
            "             \n",
            "                  RADIO ADDRESS TO THE NATION \n",
            "                        BY THE PRESIDENT\n",
            "             \n",
            "                Pittsburgh International Airport\n",
            "                    Pittsburgh, Pennsylvania\n",
            "             \n",
            "             \n",
            "10:06 A.M. EDT\n",
            "             \n",
            "             \n",
            "             THE PRESIDENT:  Good morning.  My voice is coming to\n",
            "you this morning through the facilities of the oldest radio\n",
            "station in America, KDKA in Pittsburgh.  I'm visiting the city to\n",
            "meet personally with citizens here to discuss my plans for jobs,\n",
            "health care and the economy.  But I wanted first to do my weekly\n",
            "broadcast with the American people. \n",
            "             \n",
            "             I'm told this station first broadcast in 1920 when\n",
            "it reported that year's presidential elections.  Over the past\n",
            "seven decades presidents have found ways to keep in touch with\n",
            "the people, from whistle-stop tours to fire-side chats to the bus\n",
            "tour that I adopted, along with Vice President Gore, in last\n",
            "year's campaign.\n",
            "             \n",
            "             Every Saturday morning I take this time to talk with\n",
            "you, my fellow Americans, about the problems on your minds and\n",
            "what I'm doing to try and solve them.  It's my way of reporting\n",
            "to you and of giving you a way to hold me accountable.\n",
            "             \n",
            "             You sent me to Washington to get our government and\n",
            "economy moving after years of paralysis and policy and a bad\n",
            "experiment with trickle-down economics.  You know how important\n",
            "it is for us to make bold, comprehensive changes in the way we do\n",
            "business.  \n",
            "             \n",
            "             We live in a competitive global economy.  Nations\n",
            "rise and fall on the skills of their workers, the competitiveness\n",
            "of their companies, the imagination of their industries, and the\n",
            "cooperative experience and spirit that exists between business,\n",
            "labor and government.  Although many of the economies of the\n",
            "industrialized world are now suffering from slow growth, they've\n",
            "made many of the smart investments and the tough choices which\n",
            "our government has for too long ignored.  That's why many of them\n",
            "have been moving ahead and too many of our people have been\n",
            "falling behind.\n",
            "             \n",
            "             We have an economy today that even when it grows is\n",
            "not producing new jobs.  We've increased the debt of our nation\n",
            "by four times over the last 12 years, and we don't have much to\n",
            "show for it.  We know that wages of most working people have\n",
            "stopped rising, that most people are working longer work weeks\n",
            "and that too many families can no longer afford the escalating\n",
            "cost of health care.\n",
            "             \n",
            "             But we also know that, given the right tools, the\n",
            "right incentives and the right encouragement, our workers and\n",
            "businesses can make the kinds of products and profits our economy\n",
            "needs to expand opportunity and to make our communities better\n",
            "places to live.\n",
            "             \n",
            "             In many critical products today Americans are the\n",
            "low cost, high quality producers.  Our task is to make sure that\n",
            "we create more of those kinds of jobs.\n",
            "             \n",
            "             Just two months ago I gave Congress my plan for\n",
            "long-term jobs and economic growth.  It changes the old\n",
            "priorities in Washington and puts our emphasis where it needs to\n",
            "be -- on people's real needs, on increasing investments and jobs\n",
            "and education, on cutting the federal deficit, on stopping the\n",
            "waste which pays no dividends, and redirecting our precious\n",
            "resources toward investment that creates jobs now and lays the\n",
            "groundwork for robust economic growth in the future.\n",
            "             \n",
            "             These new directions passed the Congress in record\n",
            "time and created a new sense of hope and opportunity in our\n",
            "country.  Then the jobs plan I presented to Congress, which would\n",
            "create hundreds of thousands of jobs, most of them in the private\n",
            "sector in 1993 and 1994, passed the House of Representatives.  It\n",
            "now has the support of a majority of the United States Senate. \n",
            "But it's been held up by a filibuster of a minority in the\n",
            "Senate, just 43 senators.  They blocked a vote that they know\n",
            "would result in the passage of our bill and the creation of jobs.\n",
            "             \n",
            "             The issue isn't politics; the issue is people. \n",
            "Millions of Americans are waiting for this legislation and\n",
            "counting on it, counting on us in Washington.  But the jobs bill\n",
            "has been grounded by gridlock.  \n",
            "             \n",
            "             I know the American people are tired of business as\n",
            "usual and politics as usual.  I know they don't want us to spin\n",
            "or wheels.  They want the recovery to get moving.  So I have\n",
            "taken a first step to break this gridlock and gone the extra\n",
            "mile.  Yesterday I offered to cut the size of this plan by 25\n",
            "percent -- from $16 billion to $12 billion.  \n",
            "             \n",
            "             It's not what I'd hoped for.  With 16 million\n",
            "Americans looking for full-time work, I simply can't let the bill\n",
            "languish when I know that even a compromise bill will mean\n",
            "hundreds of thousands of jobs for our people.  The mandate is to\n",
            "act to achieve change and move the country forward.  By taking\n",
            "this initiative in the face of an unrelenting Senate talkathon, I\n",
            "think we can respond to your mandate and achieve a significant\n",
            "portion of our original goals.\n",
            "             \n",
            "             First, we want to keep the programs as much as\n",
            "possible that are needed to generate jobs and meet human needs,\n",
            "including highway and road construction, summer jobs for young\n",
            "people, immunization for children, construction of waste water\n",
            "sites, and aid to small businesses.  We also want to keep funding\n",
            "for extended unemployment compensation benefits, for people who\n",
            "have been unemployed for a long time because the economy isn't\n",
            "creating jobs.\n",
            "             \n",
            "             Second, I've recommended that all the other programs\n",
            "in the bill be cut across-the-board by a little more than 40\n",
            "percent.\n",
            "             \n",
            "             And third, I've recommended a new element in this\n",
            "program to help us immediately start our attempt to fight against\n",
            "crime by providing $200 million for cities and towns to rehire\n",
            "police officers who lost their jobs during the recession and put\n",
            "them back to work protecting our people.  I'm also going to fight\n",
            "for a tough crime bill because the people of this country need it\n",
            "and deserve it.\n",
            "             \n",
            "             Now, the people who are filibustering this bill --\n",
            "the Republican senators -- say they won't vote for it because it\n",
            "increases deficit spending, because there's extra spending this\n",
            "year that hasn't already been approved.  That sounds reasonable,\n",
            "doesn't it?  Here's what they don't say.  This program is more\n",
            "than paid for by budget cuts over my five-year budget, and this\n",
            "budget is well within the spending limits already approved by the\n",
            "Congress this year.\n",
            "             \n",
            "             It's amazing to me that many of these same senators\n",
            "who are filibustering the bill voted during the previous\n",
            "administration for billions of dollars of the same kind of\n",
            "emergency spending, and much of it was not designed to put the\n",
            "American people to work.  \n",
            "             \n",
            "             This is not about deficit spending.  We have offered\n",
            "a plan to cut the deficit.  This is about where your priorities\n",
            "are -- on people or on politics.  \n",
            "             \n",
            "             Keep in mind that our jobs bill is paid for dollar\n",
            "for dollar.  It is paid for by budget cuts.  And it's the\n",
            "soundest investment we can now make for ourselves and our\n",
            "children.  I urge all Americans to take another look at this jobs\n",
            "and investment program; to consider again the benefits for all of\n",
            "us when we've helped make more American partners working to\n",
            "ensure the future of our nation and the strength of our economy.\n",
            "             \n",
            "             You know, if every American who wanted a job had\n",
            "one, we wouldn't have a lot of the other problems we have in this\n",
            "country today.  This bill is not a miracle, it's a modest first\n",
            "step to try to set off a job creation explosion in this country\n",
            "again.  But it's a step we ought to take.  And it is fully paid\n",
            "for over the life of our budget.\n",
            "             \n",
            "             Tell your lawmakers what you think.  Tell them how\n",
            "important the bill is.  If it passes, we'll all be winners.\n",
            "             \n",
            "             Good morning, and thank you for listening.\n"
          ]
        }
      ],
      "source": [
        "# Veamos similaridad de documentos. Tomemos algún documento\n",
        "idx = 4811\n",
        "print(newsgroups_train.data[idx])"
      ]
    },
    {
      "cell_type": "code",
      "execution_count": 13,
      "metadata": {
        "id": "Ssa9bqJ-hA_v"
      },
      "outputs": [],
      "source": [
        "# midamos la similaridad coseno con todos los documentos de train\n",
        "cossim = cosine_similarity(X_train[idx], X_train)[0]"
      ]
    },
    {
      "cell_type": "code",
      "execution_count": 14,
      "metadata": {
        "colab": {
          "base_uri": "https://localhost:8080/"
        },
        "id": "p_mDA7p3AzcQ",
        "outputId": "0ea4fafb-0533-4363-91a6-2376e3c44718"
      },
      "outputs": [
        {
          "output_type": "execute_result",
          "data": {
            "text/plain": [
              "array([1.        , 0.70930477, 0.67474953, ..., 0.        , 0.        ,\n",
              "       0.        ])"
            ]
          },
          "metadata": {},
          "execution_count": 14
        }
      ],
      "source": [
        "# podemos ver los valores de similaridad ordenados de mayor a menos\n",
        "np.sort(cossim)[::-1]"
      ]
    },
    {
      "cell_type": "code",
      "execution_count": 15,
      "metadata": {
        "colab": {
          "base_uri": "https://localhost:8080/"
        },
        "id": "0OIhDA1jAryX",
        "outputId": "7c92d558-6033-4c74-ed6b-98cff5c47ae6"
      },
      "outputs": [
        {
          "output_type": "execute_result",
          "data": {
            "text/plain": [
              "array([4811, 6635, 4253, ..., 9019, 9016, 8748])"
            ]
          },
          "metadata": {},
          "execution_count": 15
        }
      ],
      "source": [
        "# y a qué documentos corresponden\n",
        "np.argsort(cossim)[::-1]"
      ]
    },
    {
      "cell_type": "code",
      "execution_count": 16,
      "metadata": {
        "id": "hP7qLS4ZBLps"
      },
      "outputs": [],
      "source": [
        "# los 5 documentos más similares:\n",
        "mostsim = np.argsort(cossim)[::-1][1:6]"
      ]
    },
    {
      "cell_type": "code",
      "execution_count": 17,
      "metadata": {
        "colab": {
          "base_uri": "https://localhost:8080/",
          "height": 35
        },
        "id": "QdJLHPJACvaj",
        "outputId": "12457621-e56a-4862-8169-fa5fa8149e79"
      },
      "outputs": [
        {
          "output_type": "execute_result",
          "data": {
            "text/plain": [
              "'talk.politics.misc'"
            ],
            "application/vnd.google.colaboratory.intrinsic+json": {
              "type": "string"
            }
          },
          "metadata": {},
          "execution_count": 17
        }
      ],
      "source": [
        "# el documento original pertenece a la clase:\n",
        "newsgroups_train.target_names[y_train[idx]]"
      ]
    },
    {
      "cell_type": "code",
      "execution_count": 18,
      "metadata": {
        "colab": {
          "base_uri": "https://localhost:8080/"
        },
        "id": "RWy_73epCbFG",
        "outputId": "84c90a5e-0297-437b-e6d6-2d6d0e05410d"
      },
      "outputs": [
        {
          "output_type": "stream",
          "name": "stdout",
          "text": [
            "talk.politics.misc\n",
            "talk.politics.misc\n",
            "talk.politics.misc\n",
            "talk.politics.misc\n",
            "talk.politics.misc\n"
          ]
        }
      ],
      "source": [
        "# y los 5 más similares son de las clases:\n",
        "for i in mostsim:\n",
        "  print(newsgroups_train.target_names[y_train[i]])"
      ]
    },
    {
      "cell_type": "markdown",
      "metadata": {
        "id": "zRoNnKwhBqzq"
      },
      "source": [
        "### Modelo de clasificación Naïve Bayes"
      ]
    },
    {
      "cell_type": "code",
      "execution_count": 19,
      "metadata": {
        "colab": {
          "base_uri": "https://localhost:8080/",
          "height": 80
        },
        "id": "TPM0thDaLk0R",
        "outputId": "764df65e-10da-4869-9a23-ee8aa76e037d"
      },
      "outputs": [
        {
          "output_type": "execute_result",
          "data": {
            "text/plain": [
              "MultinomialNB()"
            ],
            "text/html": [
              "<style>#sk-container-id-1 {\n",
              "  /* Definition of color scheme common for light and dark mode */\n",
              "  --sklearn-color-text: #000;\n",
              "  --sklearn-color-text-muted: #666;\n",
              "  --sklearn-color-line: gray;\n",
              "  /* Definition of color scheme for unfitted estimators */\n",
              "  --sklearn-color-unfitted-level-0: #fff5e6;\n",
              "  --sklearn-color-unfitted-level-1: #f6e4d2;\n",
              "  --sklearn-color-unfitted-level-2: #ffe0b3;\n",
              "  --sklearn-color-unfitted-level-3: chocolate;\n",
              "  /* Definition of color scheme for fitted estimators */\n",
              "  --sklearn-color-fitted-level-0: #f0f8ff;\n",
              "  --sklearn-color-fitted-level-1: #d4ebff;\n",
              "  --sklearn-color-fitted-level-2: #b3dbfd;\n",
              "  --sklearn-color-fitted-level-3: cornflowerblue;\n",
              "\n",
              "  /* Specific color for light theme */\n",
              "  --sklearn-color-text-on-default-background: var(--sg-text-color, var(--theme-code-foreground, var(--jp-content-font-color1, black)));\n",
              "  --sklearn-color-background: var(--sg-background-color, var(--theme-background, var(--jp-layout-color0, white)));\n",
              "  --sklearn-color-border-box: var(--sg-text-color, var(--theme-code-foreground, var(--jp-content-font-color1, black)));\n",
              "  --sklearn-color-icon: #696969;\n",
              "\n",
              "  @media (prefers-color-scheme: dark) {\n",
              "    /* Redefinition of color scheme for dark theme */\n",
              "    --sklearn-color-text-on-default-background: var(--sg-text-color, var(--theme-code-foreground, var(--jp-content-font-color1, white)));\n",
              "    --sklearn-color-background: var(--sg-background-color, var(--theme-background, var(--jp-layout-color0, #111)));\n",
              "    --sklearn-color-border-box: var(--sg-text-color, var(--theme-code-foreground, var(--jp-content-font-color1, white)));\n",
              "    --sklearn-color-icon: #878787;\n",
              "  }\n",
              "}\n",
              "\n",
              "#sk-container-id-1 {\n",
              "  color: var(--sklearn-color-text);\n",
              "}\n",
              "\n",
              "#sk-container-id-1 pre {\n",
              "  padding: 0;\n",
              "}\n",
              "\n",
              "#sk-container-id-1 input.sk-hidden--visually {\n",
              "  border: 0;\n",
              "  clip: rect(1px 1px 1px 1px);\n",
              "  clip: rect(1px, 1px, 1px, 1px);\n",
              "  height: 1px;\n",
              "  margin: -1px;\n",
              "  overflow: hidden;\n",
              "  padding: 0;\n",
              "  position: absolute;\n",
              "  width: 1px;\n",
              "}\n",
              "\n",
              "#sk-container-id-1 div.sk-dashed-wrapped {\n",
              "  border: 1px dashed var(--sklearn-color-line);\n",
              "  margin: 0 0.4em 0.5em 0.4em;\n",
              "  box-sizing: border-box;\n",
              "  padding-bottom: 0.4em;\n",
              "  background-color: var(--sklearn-color-background);\n",
              "}\n",
              "\n",
              "#sk-container-id-1 div.sk-container {\n",
              "  /* jupyter's `normalize.less` sets `[hidden] { display: none; }`\n",
              "     but bootstrap.min.css set `[hidden] { display: none !important; }`\n",
              "     so we also need the `!important` here to be able to override the\n",
              "     default hidden behavior on the sphinx rendered scikit-learn.org.\n",
              "     See: https://github.com/scikit-learn/scikit-learn/issues/21755 */\n",
              "  display: inline-block !important;\n",
              "  position: relative;\n",
              "}\n",
              "\n",
              "#sk-container-id-1 div.sk-text-repr-fallback {\n",
              "  display: none;\n",
              "}\n",
              "\n",
              "div.sk-parallel-item,\n",
              "div.sk-serial,\n",
              "div.sk-item {\n",
              "  /* draw centered vertical line to link estimators */\n",
              "  background-image: linear-gradient(var(--sklearn-color-text-on-default-background), var(--sklearn-color-text-on-default-background));\n",
              "  background-size: 2px 100%;\n",
              "  background-repeat: no-repeat;\n",
              "  background-position: center center;\n",
              "}\n",
              "\n",
              "/* Parallel-specific style estimator block */\n",
              "\n",
              "#sk-container-id-1 div.sk-parallel-item::after {\n",
              "  content: \"\";\n",
              "  width: 100%;\n",
              "  border-bottom: 2px solid var(--sklearn-color-text-on-default-background);\n",
              "  flex-grow: 1;\n",
              "}\n",
              "\n",
              "#sk-container-id-1 div.sk-parallel {\n",
              "  display: flex;\n",
              "  align-items: stretch;\n",
              "  justify-content: center;\n",
              "  background-color: var(--sklearn-color-background);\n",
              "  position: relative;\n",
              "}\n",
              "\n",
              "#sk-container-id-1 div.sk-parallel-item {\n",
              "  display: flex;\n",
              "  flex-direction: column;\n",
              "}\n",
              "\n",
              "#sk-container-id-1 div.sk-parallel-item:first-child::after {\n",
              "  align-self: flex-end;\n",
              "  width: 50%;\n",
              "}\n",
              "\n",
              "#sk-container-id-1 div.sk-parallel-item:last-child::after {\n",
              "  align-self: flex-start;\n",
              "  width: 50%;\n",
              "}\n",
              "\n",
              "#sk-container-id-1 div.sk-parallel-item:only-child::after {\n",
              "  width: 0;\n",
              "}\n",
              "\n",
              "/* Serial-specific style estimator block */\n",
              "\n",
              "#sk-container-id-1 div.sk-serial {\n",
              "  display: flex;\n",
              "  flex-direction: column;\n",
              "  align-items: center;\n",
              "  background-color: var(--sklearn-color-background);\n",
              "  padding-right: 1em;\n",
              "  padding-left: 1em;\n",
              "}\n",
              "\n",
              "\n",
              "/* Toggleable style: style used for estimator/Pipeline/ColumnTransformer box that is\n",
              "clickable and can be expanded/collapsed.\n",
              "- Pipeline and ColumnTransformer use this feature and define the default style\n",
              "- Estimators will overwrite some part of the style using the `sk-estimator` class\n",
              "*/\n",
              "\n",
              "/* Pipeline and ColumnTransformer style (default) */\n",
              "\n",
              "#sk-container-id-1 div.sk-toggleable {\n",
              "  /* Default theme specific background. It is overwritten whether we have a\n",
              "  specific estimator or a Pipeline/ColumnTransformer */\n",
              "  background-color: var(--sklearn-color-background);\n",
              "}\n",
              "\n",
              "/* Toggleable label */\n",
              "#sk-container-id-1 label.sk-toggleable__label {\n",
              "  cursor: pointer;\n",
              "  display: flex;\n",
              "  width: 100%;\n",
              "  margin-bottom: 0;\n",
              "  padding: 0.5em;\n",
              "  box-sizing: border-box;\n",
              "  text-align: center;\n",
              "  align-items: start;\n",
              "  justify-content: space-between;\n",
              "  gap: 0.5em;\n",
              "}\n",
              "\n",
              "#sk-container-id-1 label.sk-toggleable__label .caption {\n",
              "  font-size: 0.6rem;\n",
              "  font-weight: lighter;\n",
              "  color: var(--sklearn-color-text-muted);\n",
              "}\n",
              "\n",
              "#sk-container-id-1 label.sk-toggleable__label-arrow:before {\n",
              "  /* Arrow on the left of the label */\n",
              "  content: \"▸\";\n",
              "  float: left;\n",
              "  margin-right: 0.25em;\n",
              "  color: var(--sklearn-color-icon);\n",
              "}\n",
              "\n",
              "#sk-container-id-1 label.sk-toggleable__label-arrow:hover:before {\n",
              "  color: var(--sklearn-color-text);\n",
              "}\n",
              "\n",
              "/* Toggleable content - dropdown */\n",
              "\n",
              "#sk-container-id-1 div.sk-toggleable__content {\n",
              "  max-height: 0;\n",
              "  max-width: 0;\n",
              "  overflow: hidden;\n",
              "  text-align: left;\n",
              "  /* unfitted */\n",
              "  background-color: var(--sklearn-color-unfitted-level-0);\n",
              "}\n",
              "\n",
              "#sk-container-id-1 div.sk-toggleable__content.fitted {\n",
              "  /* fitted */\n",
              "  background-color: var(--sklearn-color-fitted-level-0);\n",
              "}\n",
              "\n",
              "#sk-container-id-1 div.sk-toggleable__content pre {\n",
              "  margin: 0.2em;\n",
              "  border-radius: 0.25em;\n",
              "  color: var(--sklearn-color-text);\n",
              "  /* unfitted */\n",
              "  background-color: var(--sklearn-color-unfitted-level-0);\n",
              "}\n",
              "\n",
              "#sk-container-id-1 div.sk-toggleable__content.fitted pre {\n",
              "  /* unfitted */\n",
              "  background-color: var(--sklearn-color-fitted-level-0);\n",
              "}\n",
              "\n",
              "#sk-container-id-1 input.sk-toggleable__control:checked~div.sk-toggleable__content {\n",
              "  /* Expand drop-down */\n",
              "  max-height: 200px;\n",
              "  max-width: 100%;\n",
              "  overflow: auto;\n",
              "}\n",
              "\n",
              "#sk-container-id-1 input.sk-toggleable__control:checked~label.sk-toggleable__label-arrow:before {\n",
              "  content: \"▾\";\n",
              "}\n",
              "\n",
              "/* Pipeline/ColumnTransformer-specific style */\n",
              "\n",
              "#sk-container-id-1 div.sk-label input.sk-toggleable__control:checked~label.sk-toggleable__label {\n",
              "  color: var(--sklearn-color-text);\n",
              "  background-color: var(--sklearn-color-unfitted-level-2);\n",
              "}\n",
              "\n",
              "#sk-container-id-1 div.sk-label.fitted input.sk-toggleable__control:checked~label.sk-toggleable__label {\n",
              "  background-color: var(--sklearn-color-fitted-level-2);\n",
              "}\n",
              "\n",
              "/* Estimator-specific style */\n",
              "\n",
              "/* Colorize estimator box */\n",
              "#sk-container-id-1 div.sk-estimator input.sk-toggleable__control:checked~label.sk-toggleable__label {\n",
              "  /* unfitted */\n",
              "  background-color: var(--sklearn-color-unfitted-level-2);\n",
              "}\n",
              "\n",
              "#sk-container-id-1 div.sk-estimator.fitted input.sk-toggleable__control:checked~label.sk-toggleable__label {\n",
              "  /* fitted */\n",
              "  background-color: var(--sklearn-color-fitted-level-2);\n",
              "}\n",
              "\n",
              "#sk-container-id-1 div.sk-label label.sk-toggleable__label,\n",
              "#sk-container-id-1 div.sk-label label {\n",
              "  /* The background is the default theme color */\n",
              "  color: var(--sklearn-color-text-on-default-background);\n",
              "}\n",
              "\n",
              "/* On hover, darken the color of the background */\n",
              "#sk-container-id-1 div.sk-label:hover label.sk-toggleable__label {\n",
              "  color: var(--sklearn-color-text);\n",
              "  background-color: var(--sklearn-color-unfitted-level-2);\n",
              "}\n",
              "\n",
              "/* Label box, darken color on hover, fitted */\n",
              "#sk-container-id-1 div.sk-label.fitted:hover label.sk-toggleable__label.fitted {\n",
              "  color: var(--sklearn-color-text);\n",
              "  background-color: var(--sklearn-color-fitted-level-2);\n",
              "}\n",
              "\n",
              "/* Estimator label */\n",
              "\n",
              "#sk-container-id-1 div.sk-label label {\n",
              "  font-family: monospace;\n",
              "  font-weight: bold;\n",
              "  display: inline-block;\n",
              "  line-height: 1.2em;\n",
              "}\n",
              "\n",
              "#sk-container-id-1 div.sk-label-container {\n",
              "  text-align: center;\n",
              "}\n",
              "\n",
              "/* Estimator-specific */\n",
              "#sk-container-id-1 div.sk-estimator {\n",
              "  font-family: monospace;\n",
              "  border: 1px dotted var(--sklearn-color-border-box);\n",
              "  border-radius: 0.25em;\n",
              "  box-sizing: border-box;\n",
              "  margin-bottom: 0.5em;\n",
              "  /* unfitted */\n",
              "  background-color: var(--sklearn-color-unfitted-level-0);\n",
              "}\n",
              "\n",
              "#sk-container-id-1 div.sk-estimator.fitted {\n",
              "  /* fitted */\n",
              "  background-color: var(--sklearn-color-fitted-level-0);\n",
              "}\n",
              "\n",
              "/* on hover */\n",
              "#sk-container-id-1 div.sk-estimator:hover {\n",
              "  /* unfitted */\n",
              "  background-color: var(--sklearn-color-unfitted-level-2);\n",
              "}\n",
              "\n",
              "#sk-container-id-1 div.sk-estimator.fitted:hover {\n",
              "  /* fitted */\n",
              "  background-color: var(--sklearn-color-fitted-level-2);\n",
              "}\n",
              "\n",
              "/* Specification for estimator info (e.g. \"i\" and \"?\") */\n",
              "\n",
              "/* Common style for \"i\" and \"?\" */\n",
              "\n",
              ".sk-estimator-doc-link,\n",
              "a:link.sk-estimator-doc-link,\n",
              "a:visited.sk-estimator-doc-link {\n",
              "  float: right;\n",
              "  font-size: smaller;\n",
              "  line-height: 1em;\n",
              "  font-family: monospace;\n",
              "  background-color: var(--sklearn-color-background);\n",
              "  border-radius: 1em;\n",
              "  height: 1em;\n",
              "  width: 1em;\n",
              "  text-decoration: none !important;\n",
              "  margin-left: 0.5em;\n",
              "  text-align: center;\n",
              "  /* unfitted */\n",
              "  border: var(--sklearn-color-unfitted-level-1) 1pt solid;\n",
              "  color: var(--sklearn-color-unfitted-level-1);\n",
              "}\n",
              "\n",
              ".sk-estimator-doc-link.fitted,\n",
              "a:link.sk-estimator-doc-link.fitted,\n",
              "a:visited.sk-estimator-doc-link.fitted {\n",
              "  /* fitted */\n",
              "  border: var(--sklearn-color-fitted-level-1) 1pt solid;\n",
              "  color: var(--sklearn-color-fitted-level-1);\n",
              "}\n",
              "\n",
              "/* On hover */\n",
              "div.sk-estimator:hover .sk-estimator-doc-link:hover,\n",
              ".sk-estimator-doc-link:hover,\n",
              "div.sk-label-container:hover .sk-estimator-doc-link:hover,\n",
              ".sk-estimator-doc-link:hover {\n",
              "  /* unfitted */\n",
              "  background-color: var(--sklearn-color-unfitted-level-3);\n",
              "  color: var(--sklearn-color-background);\n",
              "  text-decoration: none;\n",
              "}\n",
              "\n",
              "div.sk-estimator.fitted:hover .sk-estimator-doc-link.fitted:hover,\n",
              ".sk-estimator-doc-link.fitted:hover,\n",
              "div.sk-label-container:hover .sk-estimator-doc-link.fitted:hover,\n",
              ".sk-estimator-doc-link.fitted:hover {\n",
              "  /* fitted */\n",
              "  background-color: var(--sklearn-color-fitted-level-3);\n",
              "  color: var(--sklearn-color-background);\n",
              "  text-decoration: none;\n",
              "}\n",
              "\n",
              "/* Span, style for the box shown on hovering the info icon */\n",
              ".sk-estimator-doc-link span {\n",
              "  display: none;\n",
              "  z-index: 9999;\n",
              "  position: relative;\n",
              "  font-weight: normal;\n",
              "  right: .2ex;\n",
              "  padding: .5ex;\n",
              "  margin: .5ex;\n",
              "  width: min-content;\n",
              "  min-width: 20ex;\n",
              "  max-width: 50ex;\n",
              "  color: var(--sklearn-color-text);\n",
              "  box-shadow: 2pt 2pt 4pt #999;\n",
              "  /* unfitted */\n",
              "  background: var(--sklearn-color-unfitted-level-0);\n",
              "  border: .5pt solid var(--sklearn-color-unfitted-level-3);\n",
              "}\n",
              "\n",
              ".sk-estimator-doc-link.fitted span {\n",
              "  /* fitted */\n",
              "  background: var(--sklearn-color-fitted-level-0);\n",
              "  border: var(--sklearn-color-fitted-level-3);\n",
              "}\n",
              "\n",
              ".sk-estimator-doc-link:hover span {\n",
              "  display: block;\n",
              "}\n",
              "\n",
              "/* \"?\"-specific style due to the `<a>` HTML tag */\n",
              "\n",
              "#sk-container-id-1 a.estimator_doc_link {\n",
              "  float: right;\n",
              "  font-size: 1rem;\n",
              "  line-height: 1em;\n",
              "  font-family: monospace;\n",
              "  background-color: var(--sklearn-color-background);\n",
              "  border-radius: 1rem;\n",
              "  height: 1rem;\n",
              "  width: 1rem;\n",
              "  text-decoration: none;\n",
              "  /* unfitted */\n",
              "  color: var(--sklearn-color-unfitted-level-1);\n",
              "  border: var(--sklearn-color-unfitted-level-1) 1pt solid;\n",
              "}\n",
              "\n",
              "#sk-container-id-1 a.estimator_doc_link.fitted {\n",
              "  /* fitted */\n",
              "  border: var(--sklearn-color-fitted-level-1) 1pt solid;\n",
              "  color: var(--sklearn-color-fitted-level-1);\n",
              "}\n",
              "\n",
              "/* On hover */\n",
              "#sk-container-id-1 a.estimator_doc_link:hover {\n",
              "  /* unfitted */\n",
              "  background-color: var(--sklearn-color-unfitted-level-3);\n",
              "  color: var(--sklearn-color-background);\n",
              "  text-decoration: none;\n",
              "}\n",
              "\n",
              "#sk-container-id-1 a.estimator_doc_link.fitted:hover {\n",
              "  /* fitted */\n",
              "  background-color: var(--sklearn-color-fitted-level-3);\n",
              "}\n",
              "</style><div id=\"sk-container-id-1\" class=\"sk-top-container\"><div class=\"sk-text-repr-fallback\"><pre>MultinomialNB()</pre><b>In a Jupyter environment, please rerun this cell to show the HTML representation or trust the notebook. <br />On GitHub, the HTML representation is unable to render, please try loading this page with nbviewer.org.</b></div><div class=\"sk-container\" hidden><div class=\"sk-item\"><div class=\"sk-estimator fitted sk-toggleable\"><input class=\"sk-toggleable__control sk-hidden--visually\" id=\"sk-estimator-id-1\" type=\"checkbox\" checked><label for=\"sk-estimator-id-1\" class=\"sk-toggleable__label fitted sk-toggleable__label-arrow\"><div><div>MultinomialNB</div></div><div><a class=\"sk-estimator-doc-link fitted\" rel=\"noreferrer\" target=\"_blank\" href=\"https://scikit-learn.org/1.6/modules/generated/sklearn.naive_bayes.MultinomialNB.html\">?<span>Documentation for MultinomialNB</span></a><span class=\"sk-estimator-doc-link fitted\">i<span>Fitted</span></span></div></label><div class=\"sk-toggleable__content fitted\"><pre>MultinomialNB()</pre></div> </div></div></div></div>"
            ]
          },
          "metadata": {},
          "execution_count": 19
        }
      ],
      "source": [
        "# es muy fácil instanciar un modelo de clasificación Naïve Bayes y entrenarlo con sklearn\n",
        "clf = MultinomialNB()\n",
        "clf.fit(X_train, y_train)"
      ]
    },
    {
      "cell_type": "code",
      "execution_count": 20,
      "metadata": {
        "id": "NrQjzM48Mu4T"
      },
      "outputs": [],
      "source": [
        "# con nuestro vectorizador ya fiteado en train, vectorizamos los textos\n",
        "# del conjunto de test\n",
        "X_test = tfidfvect.transform(newsgroups_test.data)\n",
        "y_test = newsgroups_test.target\n",
        "y_pred =  clf.predict(X_test)"
      ]
    },
    {
      "cell_type": "code",
      "execution_count": 21,
      "metadata": {
        "colab": {
          "base_uri": "https://localhost:8080/"
        },
        "id": "UkGJhetEPdA4",
        "outputId": "6ad95951-8a97-491e-c5d0-bec027625f4f"
      },
      "outputs": [
        {
          "output_type": "execute_result",
          "data": {
            "text/plain": [
              "0.5854345727938506"
            ]
          },
          "metadata": {},
          "execution_count": 21
        }
      ],
      "source": [
        "# el F1-score es una metrica adecuada para reportar desempeño de modelos de claificación\n",
        "# es robusta al desbalance de clases. El promediado 'macro' es el promedio de los\n",
        "# F1-score de cada clase. El promedio 'micro' es equivalente a la accuracy que no\n",
        "# es una buena métrica cuando los datasets son desbalanceados\n",
        "f1_score(y_test, y_pred, average='macro')"
      ]
    },
    {
      "cell_type": "markdown",
      "metadata": {
        "id": "McArD4rSDR2K"
      },
      "source": [
        "### Consigna del desafío 1"
      ]
    },
    {
      "cell_type": "markdown",
      "metadata": {
        "id": "lJgf6GQIIEH1"
      },
      "source": [
        "**1**. Vectorizar documentos. Tomar 5 documentos al azar y medir similaridad con el resto de los documentos.\n",
        "Estudiar los 5 documentos más similares de cada uno analizar si tiene sentido\n",
        "la similaridad según el contenido del texto y la etiqueta de clasificación.\n",
        "\n",
        "**2**. Entrenar modelos de clasificación Naïve Bayes para maximizar el desempeño de clasificación\n",
        "(f1-score macro) en el conjunto de datos de test. Considerar cambiar parámteros\n",
        "de instanciación del vectorizador y los modelos y probar modelos de Naïve Bayes Multinomial\n",
        "y ComplementNB.\n",
        "\n",
        "**3**. Transponer la matriz documento-término. De esa manera se obtiene una matriz\n",
        "término-documento que puede ser interpretada como una colección de vectorización de palabras.\n",
        "Estudiar ahora similaridad entre palabras tomando 5 palabras y estudiando sus 5 más similares. **La elección de palabras no debe ser al azar para evitar la aparición de términos poco interpretables, elegirlas \"manualmente\"**.\n"
      ]
    },
    {
      "cell_type": "code",
      "source": [
        "# imports\n",
        "import random\n",
        "import pandas as pd\n",
        "from sklearn.pipeline import Pipeline\n",
        "from sklearn.model_selection import RandomizedSearchCV\n",
        "from sklearn.metrics import classification_report"
      ],
      "metadata": {
        "id": "7mPGzrz8UP7C"
      },
      "execution_count": 22,
      "outputs": []
    },
    {
      "cell_type": "markdown",
      "metadata": {
        "id": "uPjLbz5E5giP"
      },
      "source": [
        "### 1. Vectorizar documetos"
      ]
    },
    {
      "cell_type": "code",
      "source": [
        "random.seed(42)\n",
        "\n",
        "# Elegimos 5 índices aleatorios\n",
        "random_indexes = random.sample(range(len(newsgroups_train.data)), 5)\n",
        "\n",
        "random_indexes"
      ],
      "metadata": {
        "colab": {
          "base_uri": "https://localhost:8080/"
        },
        "id": "a4rTVJ5H9bDO",
        "outputId": "c3aa27dc-4601-4f29-fdec-1064ac8fd913"
      },
      "execution_count": 23,
      "outputs": [
        {
          "output_type": "execute_result",
          "data": {
            "text/plain": [
              "[10476, 1824, 409, 4506, 4012]"
            ]
          },
          "metadata": {},
          "execution_count": 23
        }
      ]
    },
    {
      "cell_type": "code",
      "source": [
        "# Función para mostrars índice, categoría y parte del documento\n",
        "def show_document(i=0):\n",
        "    print(f\"Índice: {i}\")\n",
        "    categoria = newsgroups_train.target_names[newsgroups_train.target[i]]\n",
        "    print(f\"Categoría: {categoria}\")\n",
        "    print(\" \")\n",
        "    print(newsgroups_train.data[i][:2000])\n",
        "\n",
        "# Función para mostrar documentos similares\n",
        "def show_most_similar_documents(i=0, n=5):\n",
        "  # Medimos la similaridad coseno con todos los documentos de train\n",
        "  cossim = cosine_similarity(X_train[i], X_train)[0]\n",
        "\n",
        "  # Obtenemos los 5 documentos más similares:\n",
        "  mostsim = np.argsort(cossim)[::-1][1:6]\n",
        "\n",
        "  # Mostramos los 5 documentoss más similares\n",
        "  for idx in mostsim:\n",
        "    show_document(idx)\n",
        "    print(\"-\" * 100)"
      ],
      "metadata": {
        "id": "o0g0cqzvHSJw"
      },
      "execution_count": 24,
      "outputs": []
    },
    {
      "cell_type": "markdown",
      "source": [
        "#### Primer documento"
      ],
      "metadata": {
        "id": "37r8-UfxGhWN"
      }
    },
    {
      "cell_type": "code",
      "source": [
        "index = random_indexes[0]\n",
        "# Mostramos el documento\n",
        "show_document(i=index)"
      ],
      "metadata": {
        "colab": {
          "base_uri": "https://localhost:8080/"
        },
        "id": "yJTePdfdAgUQ",
        "outputId": "f4be75cd-49e3-4725-b58a-3162600a00e7"
      },
      "execution_count": 25,
      "outputs": [
        {
          "output_type": "stream",
          "name": "stdout",
          "text": [
            "Índice: 10476\n",
            "Categoría: rec.sport.hockey\n",
            " \n",
            "This is a general question for US readers:\n",
            "\n",
            "How extensive is the playoff coverage down there?  In Canada, it is almost\n",
            "impossible not to watch a series on TV (ie the only two series I have not had\n",
            "an opportunity to watch this year are Wash-NYI and Chi-Stl, the latter because\n",
            "I'm in the wrong time zone!).  We (in Canada) are basically swamped with \n",
            "coverage, and I wonder how many series/games are televised nationally or even\n",
            "locally in the US and how much precedence they take over, say, local news if\n",
            "the games go into double-OT.\n",
            "\n",
            "Email me so as not to waste bandwidth, please.  My news feed is kind of slow\n",
            "anyways.\n"
          ]
        }
      ]
    },
    {
      "cell_type": "code",
      "source": [
        "# Mostramos los 5 documentos más similares\n",
        "show_most_similar_documents(i=index, n=5)"
      ],
      "metadata": {
        "colab": {
          "base_uri": "https://localhost:8080/"
        },
        "id": "oWJB9qRTAgKa",
        "outputId": "c2186bba-9644-4dcb-93dd-17cd05563cd9"
      },
      "execution_count": 26,
      "outputs": [
        {
          "output_type": "stream",
          "name": "stdout",
          "text": [
            "Índice: 5064\n",
            "Categoría: rec.sport.hockey\n",
            " \n",
            "\n",
            "I only have one comment on this:  You call this a *classic* playoff year\n",
            "and yet you don't include a Chicago-Detroit series.  C'mon, I'm a Boston\n",
            "fan and I even realize that Chicago-Detroit games are THE most exciting\n",
            "games to watch.\n",
            "----------------------------------------------------------------------------------------------------\n",
            "Índice: 9623\n",
            "Categoría: talk.politics.mideast\n",
            " \n",
            "Accounts of Anti-Armenian Human Right Violations in Azerbaijan #012\n",
            "                 Prelude to Current Events in Nagorno-Karabakh\n",
            "\n",
            "        +---------------------------------------------------------+\n",
            "        |                                                         |\n",
            "        |  I saw a naked girl with her hair down. They were       |\n",
            "        |  dragging her. She kept falling because they were       |\n",
            "        |  pushing her and kicking her. She fell down, it was     |\n",
            "        |  muddy there, and later other witnesses who saw it from |\n",
            "        |  their balconies told us, they seized her by the hair   |\n",
            "        |  and dragged her a couple of blocks, as far as the      |\n",
            "        |  mortgage bank, that's a good block and a half or two   |\n",
            "        |  from here. I know this for sure because I saw it       |\n",
            "        |  myself.                                                |\n",
            "        |                                                         |\n",
            "        +---------------------------------------------------------+\n",
            "\n",
            "\n",
            "DEPOSITION OF TATYANA MIKHAILOVNA ARUTUNIAN (NEZHINTSEVA)\n",
            "\n",
            "   Born 1932\n",
            "   Train Conductor\n",
            "   Azerbaijani Railroad\n",
            "\n",
            "   Resident at Building 13/15, Apartment 27\n",
            "   Microdistrict No. 3\n",
            "   Sumgait [Azerbaijan]\n",
            "\n",
            "I hadn't lived very long in Sumgait, only eight years. I moved there from\n",
            "Novosibirsk. My son entered the Baku Nautical School, and so I transferred\n",
            "to Azerbaijan. Later I met someone and married him, and now my name is\n",
            "Arutunian, my husband's name . . .\n",
            "\n",
            "That there would be a massacre was not discussed openly, but there were hints \n",
            "and gibes, so to speak, at the Armenian people, and they were mocking the \n",
            "Russians, too. I was constantly aware of it at work, and not just this past \n",
            "year. I couldn't find a definite place for myself in the pool at work because \n",
            "I, I'll just say it, couldn't steal, couldn't deceive, and couldn't be \n",
            "involved in bribe-taking. And when I asked for decent working conditions they \n",
            "told me, \"Leave, don't keep the others from working, you \n",
            "----------------------------------------------------------------------------------------------------\n",
            "Índice: 10575\n",
            "Categoría: sci.crypt\n",
            " \n",
            "\n",
            "I am not an expert in the cryptography science, but some basic things\n",
            "seem evident to me, things which this Clinton Clipper do not address.\n",
            "The all pertain to opportunites for abuse, and conclusions based on what\n",
            "I have seen the membership of this group (except for two notable persons)\n",
            "agree to.  If anything bad is possible by the government in theory, it\n",
            "almost always ends up happening in fact.  So the key is to make abuse\n",
            "IMPOSSIBLE.  Question authority, and remember power DOES corrupt.\n",
            "\n",
            "I think one has to regard this whole idea in the sense that it WILL be\n",
            "expanded to include other data forms, such as data transfer and stored\n",
            "data. and as such should be treated as if it were expanded (or such\n",
            "expansion will be almost impossible to stop, using Clipper as a precident).\n",
            "There was a hint of that in the proposal, remember.  That said, please\n",
            "bear with me, I am not very articulate, so I take more words to say\n",
            "what others could say much more briefly.  Thank you.\n",
            "\n",
            "\n",
            "As I suggested this is NOW.  The hint is in the proposal that this or\n",
            "similar proposals are being considered for other forms of encryptions\n",
            "such as data transfer, data files, and such, largely dependent on how\n",
            "this thing is accepted or flies.  I think one would be wise to treat\n",
            "this in the manner one would when (not if) it gets expanded to other\n",
            "areas than cellular phones.  I think this is guaranteed to happen, if\n",
            "this proposal gets by.  Salami politics.  It has been and is used in\n",
            "several other areas, it is certain to be used here.  Government is not\n",
            "going to easily give up on the idea that they should be able to eavesedrop\n",
            "whenever they want to.  'Court order required' has proven to be a rather\n",
            "flimsy guarantee.  If the case warrants, they can always sieze the\n",
            "material, and force one to give the key, or sit in jail forever on\n",
            "periodically renewed contempt charges.  So it is not denying the justice\n",
            "system the information, nor the ability to lock someone up if guilty\n",
            "(or refuses to divulge the means to access\n",
            "----------------------------------------------------------------------------------------------------\n",
            "Índice: 10836\n",
            "Categoría: alt.atheism\n",
            " \n",
            "Archive-name: atheism/faq\n",
            "Alt-atheism-archive-name: faq\n",
            "Last-modified: 5 April 1993\n",
            "Version: 1.1\n",
            "\n",
            "                    Alt.Atheism Frequently-Asked Questions\n",
            "\n",
            "This file contains responses to articles which occur repeatedly in\n",
            "alt.atheism.  Points covered here are ones which are not covered in the\n",
            "\"Introduction to Atheism\"; you are advised to read that article as well\n",
            "before posting.\n",
            "\n",
            "These answers are not intended to be exhaustive or definitive. The purpose of\n",
            "the periodic FAQ postings is not to stifle debate, but to raise its level. If\n",
            "you have something to say concerning one of these questions and which isn't\n",
            "covered by the answer given, please feel free to make your point.\n",
            "\n",
            "Overview of contents:\n",
            "\n",
            "   \"What is the purpose of this newsgroup?\"\n",
            "   \"Hitler was an atheist!\"\n",
            "   \"The Bible proves it\"\n",
            "   \"Pascal's Wager\"\n",
            "   \"What is Occam's Razor?\"\n",
            "   \"Why it's good to believe in Jesus\"\n",
            "   \"Why I know that God exists\"\n",
            "   \"Einstein and \"God does not play dice\"\"\n",
            "   \"Everyone worships something\"\n",
            "   \"Why there must be a causeless cause\"\n",
            "   \"The universe is so complex it must have been designed\"\n",
            "   \"Independent evidence that the Bible is true\"\n",
            "   \"Godel's Incompleteness Theorem\"\n",
            "   \"George Bush on atheism and patriotism\"\n",
            "   \"I know where hell is!\"\n",
            "   \"Biblical contradictions wanted\"\n",
            "   \"The USA is a Christian nation\"\n",
            "   \"The USA is not a Christian nation\"\n",
            "\n",
            "----------------------------------------------------------------------\n",
            "\n",
            "Subject: What is the purpose of this newsgroup?\n",
            "\n",
            "Typical posting:\n",
            "\n",
            "Why have a newsgroup about atheism?  Why do atheists organize in groups?  \n",
            "What is there to discuss?\n",
            "\n",
            "Response:\n",
            "\n",
            "Many things are discussed here, including:\n",
            "\n",
            "* Whether it is reasonable to feign theism in order to avoid upsetting one's\n",
            "  family\n",
            "* Prayer in schools\n",
            "* Discrimination against atheists\n",
            "* Sunday trading laws\n",
            "* The Satanic Child Abuse myth\n",
            "* Whether one should be an overt atheist or 'stay in the closet'\n",
            "* How religious societies prey (sic) on new college students\n",
            "* How to get rid of\n",
            "----------------------------------------------------------------------------------------------------\n",
            "Índice: 2350\n",
            "Categoría: sci.crypt\n",
            " \n",
            "Archive-name: net-privacy/part1\n",
            "Last-modified: 1993/3/3\n",
            "Version: 2.1\n",
            "\n",
            "\n",
            "IDENTITY, PRIVACY, and ANONYMITY on the INTERNET\n",
            "================================================\n",
            "\n",
            "(c) 1993 L. Detweiler.  Not for commercial use except by permission\n",
            "from author, otherwise may be freely copied.  Not to be altered. \n",
            "Please credit if quoted.\n",
            "\n",
            "SUMMARY\n",
            "=======\n",
            "\n",
            "Information on email and account privacy, anonymous mailing and \n",
            "posting, encryption, and other privacy and rights issues associated\n",
            "with use of the Internet and global networks in general.\n",
            "\n",
            "(Search for <#.#> for exact section. Search for '_' (underline) for\n",
            "next section.)\n",
            "\n",
            "PART 1\n",
            "====== (this file)\n",
            "\n",
            "Identity\n",
            "--------\n",
            "<1.1> What is `identity' on the internet?\n",
            "<1.2> Why is identity (un)important on the internet?\n",
            "<1.3> How does my email address (not) identify me and my background?\n",
            "<1.4> How can I find out more about somebody from their email address?\n",
            "<1.5> Why is identification (un)stable on the internet? \n",
            "<1.6> What is the future of identification on the internet?\n",
            "\n",
            "Privacy\n",
            "-------\n",
            "<2.1> What is `privacy' on the internet?\n",
            "<2.2> Why is privacy (un)important on the internet?\n",
            "<2.3> How (in)secure are internet networks?\n",
            "<2.4> How (in)secure is my account?\n",
            "<2.5> How (in)secure are my files and directories?\n",
            "<2.6> How (in)secure is X Windows?\n",
            "<2.7> How (in)secure is my email?\n",
            "<2.8> How am I (not) liable for my email and postings?\n",
            "<2.9> How do I provide more/less information to others on my identity?\n",
            "<2.10> Who is my sysadmin?  What does s/he know about me?\n",
            "<2.11> Why is privacy (un)stable on the internet?\n",
            "<2.12> What is the future of privacy on the internet?\n",
            "\n",
            "Anonymity\n",
            "---------\n",
            "<3.1> What is `anonymity' on the internet?\n",
            "<3.2> Why is `anonymity' (un)important on the internet?\n",
            "<3.3> How can anonymity be protected on the internet?\n",
            "<3.4> What is `anonymous mail'?\n",
            "<3.5> What is `anonymous posting'?\n",
            "<3.6> Why is anonymity (un)stable on the internet?\n",
            "<3.7> What is the future of anonymity on the internet?\n",
            "\n",
            "\n",
            "PART 2\n",
            "====== (next file)\n",
            "\n",
            "Resourc\n",
            "----------------------------------------------------------------------------------------------------\n"
          ]
        }
      ]
    },
    {
      "cell_type": "markdown",
      "source": [
        "***Análisis:***\n",
        "\n",
        "- **Índice: 5064 - Categoría: rec.sport.hockey**\n",
        "\n",
        "  El documento tiene la misma categoría que el original, además podemos observar que comparten palabras como playoff, games y series.\n",
        "---\n",
        "- **Índice: 9623 - Categoría: talk.politics.mideast**\n",
        "- **Índice: 10575 - Categoría: sci.crypt**\n",
        "- **Índice: 10836 - Categoría: alt.atheism**\n",
        "- **Índice: 2350 - Categoría: sci.crypt**\n",
        "\n",
        "  Los documentos tienen categorías muy diferentes al documento original, y a simple vista no se observan términos significativos que sean similares. Tal vez hay alguna similitud en la redacción / tono o compartan palabras de uso general.\n",
        "\n",
        "\n",
        "\n"
      ],
      "metadata": {
        "id": "ldDdhQF5J5YR"
      }
    },
    {
      "cell_type": "markdown",
      "source": [
        "#### Segundo documento"
      ],
      "metadata": {
        "id": "sWN2vkTMKFmT"
      }
    },
    {
      "cell_type": "code",
      "source": [
        "index = random_indexes[1]\n",
        "# Mostramos el documento\n",
        "show_document(i=index)"
      ],
      "metadata": {
        "colab": {
          "base_uri": "https://localhost:8080/"
        },
        "id": "AmdwD4KHAf9w",
        "outputId": "f4cb25ff-04a9-4e50-e480-d0c623d52510"
      },
      "execution_count": 27,
      "outputs": [
        {
          "output_type": "stream",
          "name": "stdout",
          "text": [
            "Índice: 1824\n",
            "Categoría: comp.sys.mac.hardware\n",
            " \n",
            "\n",
            "\n",
            "\tI think this kind of comparison is pretty useless in general.  The\n",
            "processor is only good when a good computer is designed around it adn the\n",
            "computer is used in its designed purpose.  Comparing processor speed is\n",
            "pretty dumb because all you have to do is just increase the clock speed\n",
            "to increase speed among other things.\n",
            "\n",
            "\tI mean how can you say a 040 is faster than a 486 without \n",
            "giving is operational conditions?  Can you say the same when \n",
            "you are running a program that uses a lot of transidental functions.\n",
            "Knowing that 040 does not have transidental functions building in to \n",
            "its FPU and 486 does, can you say that 040 is still faster?\n",
            "\n",
            "\tAnyway, I hope people do not decided upon wether a computers\n",
            "is good or not solely on its processor.  Or how fast a processor is\n",
            "based on its name, because one can alway do a certain things to a\n",
            "processor to speed it up.  \n",
            "\n",
            "\tBut if we restrict our arguements to, for example, pure\n",
            "processor architectural issues.  Or how one processor will work\n",
            "well and another will not based on its design, then we can get\n",
            "somewhere with our discussions.  \n",
            "\n",
            "- Chung Yang\n"
          ]
        }
      ]
    },
    {
      "cell_type": "code",
      "source": [
        "# Mostramos los 5 documentos más similares\n",
        "show_most_similar_documents(i=index, n=5)"
      ],
      "metadata": {
        "colab": {
          "base_uri": "https://localhost:8080/"
        },
        "id": "nlkI_se5J_06",
        "outputId": "437618c7-089d-4edb-fe92-0d1538239331"
      },
      "execution_count": 28,
      "outputs": [
        {
          "output_type": "stream",
          "name": "stdout",
          "text": [
            "Índice: 9921\n",
            "Categoría: comp.sys.mac.hardware\n",
            " \n",
            "dhk@ubbpc.uucp (Dave Kitabjian) writes ...\n",
            "\n",
            "040 486 030 386 020 286\n",
            "\n",
            "\n",
            "060 fastest, then Pentium, with the first versions of the PowerPC\n",
            "somewhere in the vicinity.\n",
            "\n",
            "\n",
            "No.  Computer speed is only partly dependent of processor/clock speed.\n",
            "Memory system speed play a large role as does video system speed and\n",
            "I/O speed.  As processor clock rates go up, the speed of the memory\n",
            "system becomes the greatest factor in the overall system speed.  If\n",
            "you have a 50MHz processor, it can be reading another word from memory\n",
            "every 20ns.  Sure, you can put all 20ns memory in your computer, but\n",
            "it will cost 10 times as much as the slower 80ns SIMMs.\n",
            "\n",
            "And roughly, the 68040 is twice as fast at a given clock\n",
            "speed as is the 68030.\n",
            "\n",
            "----------------------------------------------------------------------------------------------------\n",
            "Índice: 6364\n",
            "Categoría: comp.sys.mac.hardware\n",
            " \n",
            "Well folks, after some thought the answer struck me flat in the face:\n",
            "\n",
            "\"Why would Apple release a Duo Dock with a processor of its own?\"\n",
            "\n",
            "Here's why- People have hounded Apple for a notebook with a 68040 processor\n",
            "in it. Apple can't deliver that right now because the 040 saps too much\n",
            "power, radiates far too much heat, and is too large for a notebook. How\n",
            "does one get around that without designing a new chipset? Use existing\n",
            "PowerBook technology to your best advantage. The Duo Dock gives Apple a\n",
            "unique ability to give users that 040 power in a \"Semi-Portable\" fashion.\n",
            "By plunking the 040 into the Dock, you've got \"quadra\" power at your desk.\n",
            "On the road, that 33mhz 68030 should be able to handle most of your needs.\n",
            "Okay, not the BEST solution, but its an answer to a no-win situation. :-)\n",
            "So, does this mean one will be able to use the PowerBook's processor in\n",
            "parallel to the dock's processor? Okay, we're getting REALLY hypothetical\n",
            "now... \n",
            "----------------------------------------------------------------------------------------------------\n",
            "Índice: 5509\n",
            "Categoría: comp.sys.mac.hardware\n",
            " \n",
            "rvenkate@ux4.cso.uiuc.edu (Ravikuma Venkateswar) writes ...\n",
            "\n",
            "Benchmarks are for marketing dweebs and CPU envy.  OK, if it will make\n",
            "you happy, the 486 is faster than the 040.  BFD.  Both architectures\n",
            "are nearing then end of their lifetimes.  And especially with the x86\n",
            "architecture: good riddance.\n",
            "\n",
            "\n",
            "The point being the processor speed is only one of many aspects of a\n",
            "computers performance.  Clock speed, processor, memory speed, CPU\n",
            "architecture, I/O systems, even the application program all contribute \n",
            "to the overall system performance.\n",
            "\n",
            "\n",
            "Look them up yourself.\n",
            "\n",
            "----------------------------------------------------------------------------------------------------\n",
            "Índice: 2641\n",
            "Categoría: comp.sys.mac.hardware\n",
            " \n",
            "\n",
            "    I think this is mostly the fault of the people who write up the\n",
            "literature and price lists being confused themselves. Since there are\n",
            "two possible processor configurations and one of the them doesn't have\n",
            "an FPU it does seem to be an option, even though it really isn't.\n",
            "\n",
            "\n",
            "    Well, then allow me to end your confusion. The C650 ONLY come with\n",
            "an LC040 in the base 4/80 configuration. If you are not getting this\n",
            "configuration then you are getting an FPU.\n",
            "\n",
            "\n",
            "    Good question. I have been wondering that since Feb. 10th.\n",
            "\n",
            " \n",
            "    This is possible, but an option is something that you are supposed\n",
            "to be able to request when you want it. What Apple has done is given the\n",
            "buyer a CHOICE between configurations and not an OPTION.\n",
            "\n",
            "\n",
            "    This is not unclear at all. In fact Apple has included in the ROMs\n",
            "of those machines with LC040s code to recognize the presence of the full\n",
            "040's FPU and use it. Thereby making the upgrade as easy as switching\n",
            "chips. You pop the LC040 out and pop in a full '040.\n",
            "\n",
            "\n",
            "    They did? I think I would double-check this. It has been stated\n",
            "countless times in this newsgroup by two of the Centris hardware\n",
            "designers that the LC040 and the full '040 are pin compatible and that\n",
            "the C610 can be upgraded to a full '040.\n",
            "----------------------------------------------------------------------------------------------------\n",
            "Índice: 4359\n",
            "Categoría: comp.sys.mac.hardware\n",
            " \n",
            "If you get the Centris 650 with CD configuration, you are getting a Mac with\n",
            "a 68RC040 processor that has built-in math coprocessor support.  My \n",
            "understanding is that the \"optional fpu\" refers to your option of purchasing\n",
            "the Centris 650 4/80 without FPU OR one of the other configurations WITH FPU.\n",
            "\n",
            "Apple does not offer an upgrade from the non-FPU system to become an FPU\n",
            "system.  And, it is unclear whether the '040 processor on the non-FPU system\n",
            "(a 68LC040) can be replaced with a 68RC040 supplied by another vendor.\n",
            "Apple did send a memo out at one point sating that the Centris 610, which ONLY\n",
            "comes with a non-FPU 68LC040 processor CANNOT be upgraded to support an FPU -\n",
            "the pin configurations of the two chips apparently do not match so you cannot\n",
            "swap one for another (again, according to Apple's memo).\n",
            "\n",
            "Hope that helps.\n",
            "----------------------------------------------------------------------------------------------------\n"
          ]
        }
      ]
    },
    {
      "cell_type": "markdown",
      "source": [
        "***Análisis:***\n",
        "\n",
        "- **Índice: 9921 - Categoría: comp.sys.mac.hardware**\n",
        "- **Índice: 6364 - Categoría: comp.sys.mac.hardware**\n",
        "- **Índice: 5509 - Categoría: comp.sys.mac.hardware**\n",
        "- **Índice: 2614 - Categoría: comp.sys.mac.hardware**\n",
        "- **Índice: 4359 - Categoría: comp.sys.mac.hardware**\n",
        "\n",
        "  Todos los documentos tienen la misma categoría que el original, además de compartir muchas palabras iguales o relacionadas, como computer, memory, entre otras."
      ],
      "metadata": {
        "id": "_m9g1wrcKD8R"
      }
    },
    {
      "cell_type": "markdown",
      "source": [
        "#### Tercer documento"
      ],
      "metadata": {
        "id": "cF91b7kbRtyu"
      }
    },
    {
      "cell_type": "code",
      "source": [
        "index = random_indexes[2]\n",
        "# Mostramos el documento\n",
        "show_document(i=index)"
      ],
      "metadata": {
        "colab": {
          "base_uri": "https://localhost:8080/"
        },
        "id": "diWHV1cTRuhD",
        "outputId": "7a57face-45bc-481c-a38a-d141aeb2e8cb"
      },
      "execution_count": 29,
      "outputs": [
        {
          "output_type": "stream",
          "name": "stdout",
          "text": [
            "Índice: 409\n",
            "Categoría: comp.graphics\n",
            " \n",
            "I can't fiqure this out.  I have properly compiled pov on a unix machine\n",
            "running SunOS 4.1.3  The problem is that when I run the sample .pov files and\n",
            "use the EXACT same parameters when compiling different .tga outputs.  Some\n",
            "of the .tga's are okay, and other's are unrecognizable by any software.\n"
          ]
        }
      ]
    },
    {
      "cell_type": "code",
      "source": [
        "# Mostramos los 5 documentos más similares\n",
        "show_most_similar_documents(i=index, n=5)"
      ],
      "metadata": {
        "colab": {
          "base_uri": "https://localhost:8080/"
        },
        "id": "G_wHdMsfRuLk",
        "outputId": "ea852950-53b1-47dc-ee60-fa7f7f651f31"
      },
      "execution_count": 30,
      "outputs": [
        {
          "output_type": "stream",
          "name": "stdout",
          "text": [
            "Índice: 3444\n",
            "Categoría: comp.graphics\n",
            " \n",
            "Hi, I'm just getting into PoVRay and I was wondering if there is a graphic\n",
            "package that outputs .POV files.  Any help would be appreciated.\n",
            "Thanks.\n",
            "\n",
            "Later'ish\n",
            "Craig\n",
            "\n",
            "----------------------------------------------------------------------------------------------------\n",
            "Índice: 5799\n",
            "Categoría: comp.graphics\n",
            " \n",
            "I finally got a 24 bit viewer for my POVRAY generated .TGA files.\n",
            "\n",
            "It was written in C by Sean Malloy and he kindly sent me a copy.  He\n",
            "wrote it for the same purpose, to view .TGA files using his SpeedStar 24.\n",
            "\n",
            "It ONLY works with the SpeedStar 24 and I cannot send copies since it is\n",
            "not my program.  I believe the author may release a version at a future\n",
            "time when the program is more developed.   He may or may not comment on\n",
            "this, as he pleases.\n",
            "\n",
            "Thanks to all who were helpful.\n",
            "\n",
            "Regards,\n",
            "----------------------------------------------------------------------------------------------------\n",
            "Índice: 5905\n",
            "Categoría: comp.graphics\n",
            " \n",
            "\n",
            "Hallo POV-Renderers !\n",
            "I've got a BocaX3 Card. Now I try to get POV displaying True Colors\n",
            "while rendering. I've tried most of the options and UNIVESA-Driver\n",
            "but what happens isn't correct.\n",
            "Can anybody help me ?\n",
            "\n",
            "----------------------------------------------------------------------------------------------------\n",
            "Índice: 1764\n",
            "Categoría: comp.graphics\n",
            " \n",
            "hi guys\n",
            " like all people in this group i'm a fans of fractal and render sw\n",
            " my favourite are fractint pov & 3dstudio 2.0 \n",
            " now listen my ideas\n",
            " i'have just starting now to be able to use 3dstudio quite well\n",
            " so i'm simulating a full animation of a f1 grand prix\n",
            " unfortanatly just some lap(10?)\n",
            " i' m very interested about all kind of .prj .3ds and so on\n",
            " concerning about cars or parts of its (motors wheel ...)\n",
            " (dxf are good enough)\n",
            " does anyone have object to give me to complete my hard animation\n",
            "\n",
            "\n",
            " anyway any exchanges about object material project will\n",
            " be VERY APRECIATE!!!!!\n",
            "\n",
            " is there a ftp site where I can find its?\n",
            "\n",
            " i' m looking for .pov files too\n",
            " (i 'm interested about cpu time comparision rendering images on\n",
            " pov & 3dstusio)\n",
            "\n",
            " thank to all\n",
            "\n",
            "----------------------------------------------------------------------------------------------------\n",
            "Índice: 3364\n",
            "Categoría: comp.graphics\n",
            " \n",
            "Does anyone know of a good way (standard PC application/PD utility) to\n",
            "convert tif/img/tga files into LaserJet III format.  We would also like to\n",
            "do the same, converting to HPGL (HP plotter) files.\n",
            "\n",
            "Please email any response.\n",
            "\n",
            "Is this the correct group?\n",
            "\n",
            "Thanks in advance.  Michael.\n",
            "----------------------------------------------------------------------------------------------------\n"
          ]
        }
      ]
    },
    {
      "cell_type": "markdown",
      "source": [
        "***Análisis:***\n",
        "\n",
        "- **Índice: 3444 - Categoría: comp.graphics**\n",
        "- **Índice: 5799 - Categoría: comp.graphics**\n",
        "- **Índice: 5905 - Categoría: comp.graphics**\n",
        "- **Índice: 1764 - Categoría: comp.graphics**\n",
        "- **Índice: 3364 - Categoría: comp.graphics**\n",
        "\n",
        "  Todos los documentos tienen la misma categoría que el original, además de compartir muchas palabras iguales o relacionadas, como pov, files, entre otras."
      ],
      "metadata": {
        "id": "iqCRH35cRvDc"
      }
    },
    {
      "cell_type": "markdown",
      "source": [
        "#### Cuarto documento"
      ],
      "metadata": {
        "id": "uli3xVm-SZbm"
      }
    },
    {
      "cell_type": "code",
      "source": [
        "index = random_indexes[3]\n",
        "# Mostramos el segundo documento\n",
        "show_document(i=index)"
      ],
      "metadata": {
        "colab": {
          "base_uri": "https://localhost:8080/"
        },
        "id": "cfYeD_wMSZ8X",
        "outputId": "63190f6f-48b7-4949-8251-f8d7708e25d4"
      },
      "execution_count": 31,
      "outputs": [
        {
          "output_type": "stream",
          "name": "stdout",
          "text": [
            "Índice: 4506\n",
            "Categoría: rec.autos\n",
            " \n",
            "\n",
            "This does sound good, but I heard it tends to leave more grit, etc in the \n",
            "oil pan.  Also, I've been told to change the old when it's hot before the\n",
            "grit has much time to settle.\n",
            "\n",
            "Any opinions?\n",
            "\n"
          ]
        }
      ]
    },
    {
      "cell_type": "code",
      "source": [
        "# Mostramos los 5 documentos similares\n",
        "show_most_similar_documents(i=index, n=5)"
      ],
      "metadata": {
        "colab": {
          "base_uri": "https://localhost:8080/"
        },
        "id": "FiebGPyzSaJ2",
        "outputId": "cb26ea35-e083-4844-a159-0bc20a3ea131"
      },
      "execution_count": 32,
      "outputs": [
        {
          "output_type": "stream",
          "name": "stdout",
          "text": [
            "Índice: 4211\n",
            "Categoría: rec.motorcycles\n",
            " \n",
            "\n",
            "\n",
            "It's normal for the BMW K bikes to use a little oil in the first few thousand \n",
            "miles.  I don't know why.  I've had three new K bikes, and all three used a\n",
            "bit of oil when new - max maybe .4 quart in first 1000 miles; this soon quits\n",
            "and by the time I had 10,000 miles on them the oil consumption was about zero.\n",
            "I've been told that the harder you run the bike (within reason) the sooner\n",
            "it stops using any oil.\n",
            "\n",
            "----------------------------------------------------------------------------------------------------\n",
            "Índice: 5928\n",
            "Categoría: comp.sys.mac.hardware\n",
            " \n",
            "or\n",
            "there\n",
            "\n",
            "\n",
            "Okay, I guess its time for a quick explanation of Mac sound.\n",
            "\n",
            "The original documentation for the sound hardware (IM-3) documents how to\n",
            "make sound by directly accessing hardware.  Basically, you jam values\n",
            "into all the even bytes from SoundBase to SoundBase+0x170. This was\n",
            "because\n",
            "of how the Mac 128 (and some later machines) generated sound was by\n",
            "scanning\n",
            "this block and D/Aing every even byte (the odd bytes went to the floppy on\n",
            "some machines).\n",
            "\n",
            "When the Mac II (and Apple Sound Chip) was invented, it was designed to\n",
            "generate stereo sound. It was also designed to be compatible with we had\n",
            "once\n",
            "documented. So storing bytes at the even values at SoundBase meant \"I\n",
            "want to\n",
            "play a mono sound\" and so it was emulated. But Apple had since retracted\n",
            "the\n",
            "documentation on SoundBase and decided not to document the lowest layers\n",
            "of\n",
            "sound generation. So apple never explained where to stuff bytes if you\n",
            "want\n",
            "to make stereo sound.\n",
            "\n",
            "Enter game developers. The sound driver and current sound manager are\n",
            "inconveniently lame for making games. Furthermore, people who port from\n",
            "the\n",
            "IBM don't want to learn more APIs. So, it has become popular for game\n",
            "writers to write to SoundBase to make sound, since it is very easy.\n",
            "\n",
            "Since the Mac II, Apple has had many different kind of sound output\n",
            "hardware,\n",
            "and the only things they have in common are that writing to SoundBase\n",
            "works.\n",
            "On some hardware, (Mac II, IIx, IIcx, IIci at least), writing to SoundBase\n",
            "gets you mono sound through both speakers. On some Macs (Quadra\n",
            "700/900/950\n",
            "at least) writing to SoundBase gets you mono sound on the left channel\n",
            "only.\n",
            "Both are technically correct interpretations of the original\n",
            "specification,\n",
            "but one is obviously preferable for asthetic reasons.\n",
            "\n",
            "If developers use the Sound Manager (and I think the sound driver), mono\n",
            "sounds will (typically) come out through both channels regardless of the\n",
            "underlying hardware. It is possible to specify you want to generate left\n",
            "channel only, but no one does. If develo\n",
            "----------------------------------------------------------------------------------------------------\n",
            "Índice: 6224\n",
            "Categoría: rec.autos\n",
            " \n",
            "Archive-name: rec-autos/part5\n",
            "\n",
            "[this article is one of a pair of articles containing commonly\n",
            "asked automotive questions; the other article contains questions\n",
            "more geared to the automotive enthusiast, and so is not crossposted\n",
            "to misc.consumers.  -- rpw]\n",
            "\n",
            "   [changes as of 14 April 1993: revised brake fluid section, as\n",
            "    non-silicone DOT-5 fluids are now apparently available -- rpw]\n",
            "\n",
            "                 Commonly Asked Automotive Questions\n",
            "\n",
            "\n",
            "Tire Questions:\n",
            "\n",
            "Q:  What do the funny numbers on the sides of my tires mean?\n",
            "\n",
            "A:  Typically, you will see something like 195/60HR14.  the 195 is the\n",
            "    overall width of the tire in millimeters, the tread is usually\n",
            "    narrower.  The 60 is the `aspect ratio'; it indicates the height of the\n",
            "    sidewall of the tire relative to the overall width.  Our example tire\n",
            "    has a sidewall height of 0.60 * 195 ~= 117 mm.  The 14 is the wheel\n",
            "    diameter in inches; there are also some special tires called `TRX'\n",
            "    tires which have three digit metric wheel diameter designations, like\n",
            "    390, which is in millimeters.  The R means Radial, and the H is a speed\n",
            "    rating indicating the highest speed at which the tire, when properly\n",
            "    inflated and carrying an appropriate load, may safely operate.  Common\n",
            "    speed ratings are S (112MPH), T (118MPH), H (130MPH), and V (up to\n",
            "    150MPH.)\n",
            "\n",
            "    Recent changes to the method for specifying tire sizes move the speed\n",
            "    rating to a different part of the designation; you may therefore find\n",
            "    designations like 195/60R14 85H; the 85 indicates the per-tire load\n",
            "    associated with the speed rating -- exceeding this load in continuous\n",
            "    operation at the rated speed is dangerous practice.  What follows is\n",
            "    a table showing a number of `load indices' and corresponding maximum\n",
            "    per-tire loads:\n",
            "\n",
            "    Load Index       50   51   88   89   112   113   145   149   157\n",
            "    Max Load (Kg)   190  195  560  580  1120  1150  2900  3250  4125\n",
            "\n",
            "    Note that the usual mass vs. weight confusion occurs in thi\n",
            "----------------------------------------------------------------------------------------------------\n",
            "Índice: 5171\n",
            "Categoría: rec.autos\n",
            " \n",
            "\n",
            "If the tire has a leak you should fix it. \n",
            "\n",
            "\n",
            "Doesn't work too well if the engine is hot, its more accurate to check the\n",
            "oil when the engine is cool, i.e. not when you are at a gas station.\n",
            "----------------------------------------------------------------------------------------------------\n",
            "Índice: 9491\n",
            "Categoría: rec.autos\n",
            " \n",
            "My friend brought a subaru SVX recently.  I had drove it for couples times and I\n",
            "think its a great car, esp on snow.  However when she took it to a local Subaru\n",
            "dealer for a oil change, the bill came out to be about 80 dollars.  The dealer\n",
            "told us it is because to change the oil filter on a SVX it is necessary to\n",
            "disassemble a metal cover under the engine and that took an hour of labour.\n",
            "At first, we think we are being ripped off so she phone to a dealer in Toronto\n",
            "but found out the they are charging roughly the same price.  So is there any\n",
            "SVX owner out there that has the same problem ?  And if the oil change story is\n",
            "true, then the engineer of Subaru looks pretty stubid to me. By the way, the car\n",
            "looks great.\n",
            "----------------------------------------------------------------------------------------------------\n"
          ]
        }
      ]
    },
    {
      "cell_type": "markdown",
      "source": [
        "***Análisis:***\n",
        "\n",
        "- **Índice: 4211 - Categoría: rec.motorcycles**\n",
        "\n",
        "  El documento tiene una categoría muy similar y relacionada al original, además de compartir palabras iguales o relacionadas, como oil.\n",
        "---\n",
        "- **Índice: 5928 - Categoría: comp.sys.mac.hardware**\n",
        "\n",
        "  EL documento tiene categoría muy diferente al documento original, y a simple vista no se observan términos significativos que sean similares. Tal vez hay alguna similitud en la redacción / tono o compartan palabras de uso general.\n",
        "---\n",
        "- **Índice: 6224 - Categoría: rec.autos**\n",
        "- **Índice: 5171 - Categoría: rec.autos**\n",
        "- **Índice: 9491 - Categoría: rec.autos**\n",
        "\n",
        "  Los documentos tienen la misma categoría que el original, además de compartir palabras iguales o relacionadas, como oil."
      ],
      "metadata": {
        "id": "TDhtJ1CISalf"
      }
    },
    {
      "cell_type": "markdown",
      "source": [
        "#### Quinto documento"
      ],
      "metadata": {
        "id": "IRWpRieCSbBB"
      }
    },
    {
      "cell_type": "code",
      "source": [
        "index = random_indexes[4]\n",
        "# Mostramos el segundo documento\n",
        "show_document(i=index)"
      ],
      "metadata": {
        "colab": {
          "base_uri": "https://localhost:8080/"
        },
        "id": "ONSu50slSb0p",
        "outputId": "823150b7-1f9b-4172-d048-5ee137e5cbfe"
      },
      "execution_count": 33,
      "outputs": [
        {
          "output_type": "stream",
          "name": "stdout",
          "text": [
            "Índice: 4012\n",
            "Categoría: rec.sport.hockey\n",
            " \n",
            "For those Leaf fans who are concerned, the following players are slated for\n",
            "return on Thursday's Winnipeg-Toronto game :\n",
            "    Peter Zezel, John Cullen\n",
            "\n",
            "  Mark Osborne and Dave Ellett are questionable to return on Thursday.\n"
          ]
        }
      ]
    },
    {
      "cell_type": "code",
      "source": [
        "# Mostramos los 5 documentos similares\n",
        "show_most_similar_documents(i=index, n=5)"
      ],
      "metadata": {
        "colab": {
          "base_uri": "https://localhost:8080/"
        },
        "id": "CVDQ6dIESdod",
        "outputId": "0ca2c0ad-059f-4a0e-f4e4-1441ec43e531"
      },
      "execution_count": 34,
      "outputs": [
        {
          "output_type": "stream",
          "name": "stdout",
          "text": [
            "Índice: 6599\n",
            "Categoría: soc.religion.christian\n",
            " \n",
            "True.\n",
            "\n",
            "Also read 2 Peter 3:16\n",
            "\n",
            "Peter warns that the scriptures are often hard to understand by those who\n",
            "are not learned on the subject.\n",
            "----------------------------------------------------------------------------------------------------\n",
            "Índice: 10644\n",
            "Categoría: rec.sport.hockey\n",
            " \n",
            "In  <1qvos8$r78@cl.msu.>, vergolin@euler.lbs.msu.edu (David Vergolini) writes...\n",
            "\n",
            "There's quite a few Wings fans lurking about here, they just tend\n",
            "to be low key and thoughtful rather than woofers.  I suppose every\n",
            "family must have a Roger Clinton, though.  But remember (to paraphrase\n",
            "one of my favorite Star Trek lines), \"if we adopt the ways of the Leaf\n",
            "fans, we are as bad as the Leaf fans\".\n",
            "\n",
            "Ron\n",
            "----------------------------------------------------------------------------------------------------\n",
            "Índice: 7478\n",
            "Categoría: rec.sport.hockey\n",
            " \n",
            "Toronto                          1 1 1--3\n",
            "Detroit                          1 4 1--6\n",
            "First period\n",
            "     1, Detroit, Yzerman 1 (Gallant, Ciccarelli) 4:48.\n",
            "     2, Toronto, Cullen 1 (Clark, Gill) 10:44.\n",
            "Second period\n",
            "     3, Detroit, Sheppard 1 (Probert, Coffey) pp, 5:04.\n",
            "     4, Detroit, Burr 1 (Racine) sh, 6:42.\n",
            "     5, Detroit, Chiasson 1 (Coffey) pp,11:00.\n",
            "     6, Detroit, Howe 1 (Yzerman, Drake) 14:46.\n",
            "     7, Toronto, Gilmour 1 (Borschevsky, Ellett) pp, 19:59.\n",
            "Third period\n",
            "     8, Detroit, Racine 1 (Primeau, Drake) 5:10.\n",
            "     9, Toronto, Lefebvre 1 (Cullen, Pearson) 7:45.\n",
            "\n",
            "Detroit: 6    Power play: 6-2   Special goals:  pp: 2  sh: 1  Total: 3\n",
            "Scorer            G    A   Pts\n",
            "---------------  ---  ---  ---\n",
            "Burr               1    0    1\n",
            "Chiasson           1    0    1\n",
            "Ciccarelli         0    1    1\n",
            "Coffey             0    2    2\n",
            "Drake              0    2    2\n",
            "Gallant            0    1    1\n",
            "Howe               1    0    1\n",
            "Primeau            0    1    1\n",
            "Probert            0    1    1\n",
            "Racine             1    1    2\n",
            "Sheppard           1    0    1\n",
            "Yzerman            1    1    2\n",
            "\n",
            "Toronto: 3    Power play: 5-1\n",
            "Scorer            G    A   Pts\n",
            "---------------  ---  ---  ---\n",
            "Borschevsky        0    1    1\n",
            "Clark              0    1    1\n",
            "Cullen             1    1    2\n",
            "Ellett             0    1    1\n",
            "Gill               0    1    1\n",
            "Gilmour            1    0    1\n",
            "Lefebvre           1    0    1\n",
            "Pearson            0    1    1\n",
            "\n",
            "-----------------------------------------\n",
            "Winnipeg                         1 0 1--2\n",
            "Vancouver                        2 0 2--4\n",
            "First period\n",
            "     1, Vancouver, Adams 1 (Linden, Bure) pp, 1:23.\n",
            "     2, Vancouver, Craven 1 (Bure, Murzyn) 9:56.\n",
            "     3, Winnipeg, Steen 1 (Shannon, Housley) pp, 17:53.\n",
            "Second period\n",
            "     No scoring.\n",
            "Third period\n",
            "     4, Winnipeg, King 1 (Barnes) 3:43.\n",
            "     5, Vancouver, Linden 1(Courtnall, McLean) 12:16.\n",
            "     6, Vancouver, Ronning 1 (Courtnall) 18:31.\n",
            "\n",
            "Vancouver: 4    Power play: 6-1\n",
            "Scorer            G    A   Pts\n",
            "---------------  ---  ---\n",
            "----------------------------------------------------------------------------------------------------\n",
            "Índice: 7308\n",
            "Categoría: rec.sport.hockey\n",
            " \n",
            "Detroit is a very disciplined team.  There's a lot of Europeans\n",
            "in Detroit which would make the game fast, so Toronto would have\n",
            "to slow the game down, which means drawing penalties, as a last\n",
            "resort anyway.  Toronto will be a good team as soon as they get\n",
            "more good players.  Toronto is just an average team, Detroit isn't\n",
            "Ballard screwed Toronto when he was owner.  Everyone knows that.\n",
            "and it's going to take time for Toronto to become a real force.\n",
            "I expect Gilmour to be burnt out next year.  He can't pull the\n",
            "whole team forever.\n",
            "----------------------------------------------------------------------------------------------------\n",
            "Índice: 10792\n",
            "Categoría: rec.sport.baseball\n",
            " \n",
            "\n",
            "\n",
            "The tribe will be in town from April 16 to the 19th.\n",
            "There are ALWAYS tickets available! (Though they are playing Toronto,\n",
            "and many Toronto fans make the trip to Cleveland as it is easier to\n",
            "get tickets in Cleveland than in Toronto.  Either way, I seriously\n",
            "doubt they will sell out until the end of the season.)\n",
            "\n",
            "----------------------------------------------------------------------------------------------------\n"
          ]
        }
      ]
    },
    {
      "cell_type": "markdown",
      "source": [
        "***Análisis:***\n",
        "\n",
        "- **Índice: 6599 - Categoría: soc.religion.christian**\n",
        "\n",
        "  EL documento tiene categoría muy diferente al documento original, y a simple vista no se observan términos significativos que sean similares. Tal vez hay alguna similitud en la redacción / tono o compartan palabras de uso general.\n",
        "---\n",
        "- **Índice: 10644 - Categoría: rec.sport.hockey**\n",
        "- **Índice: 7478 - Categoría: rec.sport.hockey**\n",
        "- **Índice: 7308 - Categoría: rec.sport.hockey**\n",
        "\n",
        "  Los documentos tienen la misma categoría que el original, además de compartir palabras iguales o relacionadas, como Toronto, players, game, fans.\n",
        "---\n",
        "- **Índice: 10792 - Categoría: rec.sport.baseball**\n",
        "\n",
        "  El documento tiene una categoría muy similar y relacionada al original, además de compartir palabras iguales o relacionadas, como Toronto, players, game."
      ],
      "metadata": {
        "id": "mcB3QLOsSd9o"
      }
    },
    {
      "cell_type": "markdown",
      "source": [
        "Salvo en algunos casos particulares como por ejemplo el primer documento, podemos ver que en general los textos identificados como similares tienen la misma categoría o una categoría similar, y además comparten vocabulario y son parecidos en su redacción.\n",
        "\n",
        "Es destacable también que si bien el primer y último documento tienen la misma categoría (rec.sport.hockey), para el primero se ve un resultado bastante más pobre a la hora de estudiar los documentos similares."
      ],
      "metadata": {
        "id": "bQYyhnHLCxrj"
      }
    },
    {
      "cell_type": "markdown",
      "source": [
        "### 2. Entrenar modelos de clasificación Naïve Bayes"
      ],
      "metadata": {
        "id": "79ZGx_CXS1pM"
      }
    },
    {
      "cell_type": "markdown",
      "source": [
        "Se realizará una búsqueda aleatoria de hiperparámetros utilizando RandomizedSearchCV. El modelo se basa en un pipeline que incluye un TfidfVectorizer para la representación de texto y un clasificador Naive Bayes (MultinomialNB o ComplementNB).\n",
        "\n",
        "Parámetros del vectorizador:\n",
        "\n",
        "- max_df: valores entre 0.5 y 1.0,\n",
        "- min_df: desde 1 hasta 5,\n",
        "- ngram_range: unigramas y bigramas,\n",
        "- stop_words: con y sin eliminación de palabras vacías en inglés,\n",
        "- sublinear_tf: con y sin escalado logarítmico.\n",
        "\n",
        "También se exploran distintos valores para el parámetro alpha del clasificador (0.001, 0.01, 0.1, 0.5, 1.0).\n",
        "\n",
        "La búsqueda se hará sobre 50 combinaciones aleatorias, usando validación cruzada de 5 pliegues. La métrica utilizada para evaluar el rendimiento de cada configuración será el F1-score macro.\n"
      ],
      "metadata": {
        "id": "-bsN_S1OLkYp"
      }
    },
    {
      "cell_type": "code",
      "source": [
        "# Crear un pipeline\n",
        "pipeline = Pipeline([\n",
        "    ('tfidf', TfidfVectorizer()),\n",
        "    ('clf', MultinomialNB())\n",
        "])\n",
        "\n",
        "# Definir el espacio de búsqueda\n",
        "param_distributions = {\n",
        "    'tfidf__max_df': np.linspace(0.5, 1.0, 5),\n",
        "    'tfidf__min_df': [1, 2, 3, 5],\n",
        "    'tfidf__ngram_range': [(1,1), (1,2)],\n",
        "    'tfidf__stop_words': ['english', None],\n",
        "    'tfidf__sublinear_tf': [True, False],\n",
        "    'clf': [MultinomialNB(), ComplementNB()],\n",
        "    'clf__alpha': [0.001, 0.01, 0.1, 0.5, 1.0]\n",
        "}\n",
        "\n",
        "# Randomized search\n",
        "search = RandomizedSearchCV(\n",
        "    pipeline,\n",
        "    param_distributions=param_distributions,\n",
        "    n_iter=50,\n",
        "    scoring='f1_macro',\n",
        "    cv=5,\n",
        "    verbose=1,\n",
        "    n_jobs=-1,\n",
        "    random_state=42\n",
        ")"
      ],
      "metadata": {
        "id": "dvZTWqVOTUzh"
      },
      "execution_count": 35,
      "outputs": []
    },
    {
      "cell_type": "code",
      "source": [
        "# Entrenamos\n",
        "y_train = newsgroups_train.target\n",
        "y_test = newsgroups_test.target\n",
        "search.fit(newsgroups_train.data, y_train)"
      ],
      "metadata": {
        "id": "OxYKBK85dK4J",
        "colab": {
          "base_uri": "https://localhost:8080/",
          "height": 207
        },
        "outputId": "c50043a0-b822-4c39-e991-9c1a00eb763b"
      },
      "execution_count": 36,
      "outputs": [
        {
          "output_type": "stream",
          "name": "stdout",
          "text": [
            "Fitting 5 folds for each of 50 candidates, totalling 250 fits\n"
          ]
        },
        {
          "output_type": "execute_result",
          "data": {
            "text/plain": [
              "RandomizedSearchCV(cv=5,\n",
              "                   estimator=Pipeline(steps=[('tfidf', TfidfVectorizer()),\n",
              "                                             ('clf', MultinomialNB())]),\n",
              "                   n_iter=50, n_jobs=-1,\n",
              "                   param_distributions={'clf': [MultinomialNB(),\n",
              "                                                ComplementNB()],\n",
              "                                        'clf__alpha': [0.001, 0.01, 0.1, 0.5,\n",
              "                                                       1.0],\n",
              "                                        'tfidf__max_df': array([0.5  , 0.625, 0.75 , 0.875, 1.   ]),\n",
              "                                        'tfidf__min_df': [1, 2, 3, 5],\n",
              "                                        'tfidf__ngram_range': [(1, 1), (1, 2)],\n",
              "                                        'tfidf__stop_words': ['english', None],\n",
              "                                        'tfidf__sublinear_tf': [True, False]},\n",
              "                   random_state=42, scoring='f1_macro', verbose=1)"
            ],
            "text/html": [
              "<style>#sk-container-id-2 {\n",
              "  /* Definition of color scheme common for light and dark mode */\n",
              "  --sklearn-color-text: #000;\n",
              "  --sklearn-color-text-muted: #666;\n",
              "  --sklearn-color-line: gray;\n",
              "  /* Definition of color scheme for unfitted estimators */\n",
              "  --sklearn-color-unfitted-level-0: #fff5e6;\n",
              "  --sklearn-color-unfitted-level-1: #f6e4d2;\n",
              "  --sklearn-color-unfitted-level-2: #ffe0b3;\n",
              "  --sklearn-color-unfitted-level-3: chocolate;\n",
              "  /* Definition of color scheme for fitted estimators */\n",
              "  --sklearn-color-fitted-level-0: #f0f8ff;\n",
              "  --sklearn-color-fitted-level-1: #d4ebff;\n",
              "  --sklearn-color-fitted-level-2: #b3dbfd;\n",
              "  --sklearn-color-fitted-level-3: cornflowerblue;\n",
              "\n",
              "  /* Specific color for light theme */\n",
              "  --sklearn-color-text-on-default-background: var(--sg-text-color, var(--theme-code-foreground, var(--jp-content-font-color1, black)));\n",
              "  --sklearn-color-background: var(--sg-background-color, var(--theme-background, var(--jp-layout-color0, white)));\n",
              "  --sklearn-color-border-box: var(--sg-text-color, var(--theme-code-foreground, var(--jp-content-font-color1, black)));\n",
              "  --sklearn-color-icon: #696969;\n",
              "\n",
              "  @media (prefers-color-scheme: dark) {\n",
              "    /* Redefinition of color scheme for dark theme */\n",
              "    --sklearn-color-text-on-default-background: var(--sg-text-color, var(--theme-code-foreground, var(--jp-content-font-color1, white)));\n",
              "    --sklearn-color-background: var(--sg-background-color, var(--theme-background, var(--jp-layout-color0, #111)));\n",
              "    --sklearn-color-border-box: var(--sg-text-color, var(--theme-code-foreground, var(--jp-content-font-color1, white)));\n",
              "    --sklearn-color-icon: #878787;\n",
              "  }\n",
              "}\n",
              "\n",
              "#sk-container-id-2 {\n",
              "  color: var(--sklearn-color-text);\n",
              "}\n",
              "\n",
              "#sk-container-id-2 pre {\n",
              "  padding: 0;\n",
              "}\n",
              "\n",
              "#sk-container-id-2 input.sk-hidden--visually {\n",
              "  border: 0;\n",
              "  clip: rect(1px 1px 1px 1px);\n",
              "  clip: rect(1px, 1px, 1px, 1px);\n",
              "  height: 1px;\n",
              "  margin: -1px;\n",
              "  overflow: hidden;\n",
              "  padding: 0;\n",
              "  position: absolute;\n",
              "  width: 1px;\n",
              "}\n",
              "\n",
              "#sk-container-id-2 div.sk-dashed-wrapped {\n",
              "  border: 1px dashed var(--sklearn-color-line);\n",
              "  margin: 0 0.4em 0.5em 0.4em;\n",
              "  box-sizing: border-box;\n",
              "  padding-bottom: 0.4em;\n",
              "  background-color: var(--sklearn-color-background);\n",
              "}\n",
              "\n",
              "#sk-container-id-2 div.sk-container {\n",
              "  /* jupyter's `normalize.less` sets `[hidden] { display: none; }`\n",
              "     but bootstrap.min.css set `[hidden] { display: none !important; }`\n",
              "     so we also need the `!important` here to be able to override the\n",
              "     default hidden behavior on the sphinx rendered scikit-learn.org.\n",
              "     See: https://github.com/scikit-learn/scikit-learn/issues/21755 */\n",
              "  display: inline-block !important;\n",
              "  position: relative;\n",
              "}\n",
              "\n",
              "#sk-container-id-2 div.sk-text-repr-fallback {\n",
              "  display: none;\n",
              "}\n",
              "\n",
              "div.sk-parallel-item,\n",
              "div.sk-serial,\n",
              "div.sk-item {\n",
              "  /* draw centered vertical line to link estimators */\n",
              "  background-image: linear-gradient(var(--sklearn-color-text-on-default-background), var(--sklearn-color-text-on-default-background));\n",
              "  background-size: 2px 100%;\n",
              "  background-repeat: no-repeat;\n",
              "  background-position: center center;\n",
              "}\n",
              "\n",
              "/* Parallel-specific style estimator block */\n",
              "\n",
              "#sk-container-id-2 div.sk-parallel-item::after {\n",
              "  content: \"\";\n",
              "  width: 100%;\n",
              "  border-bottom: 2px solid var(--sklearn-color-text-on-default-background);\n",
              "  flex-grow: 1;\n",
              "}\n",
              "\n",
              "#sk-container-id-2 div.sk-parallel {\n",
              "  display: flex;\n",
              "  align-items: stretch;\n",
              "  justify-content: center;\n",
              "  background-color: var(--sklearn-color-background);\n",
              "  position: relative;\n",
              "}\n",
              "\n",
              "#sk-container-id-2 div.sk-parallel-item {\n",
              "  display: flex;\n",
              "  flex-direction: column;\n",
              "}\n",
              "\n",
              "#sk-container-id-2 div.sk-parallel-item:first-child::after {\n",
              "  align-self: flex-end;\n",
              "  width: 50%;\n",
              "}\n",
              "\n",
              "#sk-container-id-2 div.sk-parallel-item:last-child::after {\n",
              "  align-self: flex-start;\n",
              "  width: 50%;\n",
              "}\n",
              "\n",
              "#sk-container-id-2 div.sk-parallel-item:only-child::after {\n",
              "  width: 0;\n",
              "}\n",
              "\n",
              "/* Serial-specific style estimator block */\n",
              "\n",
              "#sk-container-id-2 div.sk-serial {\n",
              "  display: flex;\n",
              "  flex-direction: column;\n",
              "  align-items: center;\n",
              "  background-color: var(--sklearn-color-background);\n",
              "  padding-right: 1em;\n",
              "  padding-left: 1em;\n",
              "}\n",
              "\n",
              "\n",
              "/* Toggleable style: style used for estimator/Pipeline/ColumnTransformer box that is\n",
              "clickable and can be expanded/collapsed.\n",
              "- Pipeline and ColumnTransformer use this feature and define the default style\n",
              "- Estimators will overwrite some part of the style using the `sk-estimator` class\n",
              "*/\n",
              "\n",
              "/* Pipeline and ColumnTransformer style (default) */\n",
              "\n",
              "#sk-container-id-2 div.sk-toggleable {\n",
              "  /* Default theme specific background. It is overwritten whether we have a\n",
              "  specific estimator or a Pipeline/ColumnTransformer */\n",
              "  background-color: var(--sklearn-color-background);\n",
              "}\n",
              "\n",
              "/* Toggleable label */\n",
              "#sk-container-id-2 label.sk-toggleable__label {\n",
              "  cursor: pointer;\n",
              "  display: flex;\n",
              "  width: 100%;\n",
              "  margin-bottom: 0;\n",
              "  padding: 0.5em;\n",
              "  box-sizing: border-box;\n",
              "  text-align: center;\n",
              "  align-items: start;\n",
              "  justify-content: space-between;\n",
              "  gap: 0.5em;\n",
              "}\n",
              "\n",
              "#sk-container-id-2 label.sk-toggleable__label .caption {\n",
              "  font-size: 0.6rem;\n",
              "  font-weight: lighter;\n",
              "  color: var(--sklearn-color-text-muted);\n",
              "}\n",
              "\n",
              "#sk-container-id-2 label.sk-toggleable__label-arrow:before {\n",
              "  /* Arrow on the left of the label */\n",
              "  content: \"▸\";\n",
              "  float: left;\n",
              "  margin-right: 0.25em;\n",
              "  color: var(--sklearn-color-icon);\n",
              "}\n",
              "\n",
              "#sk-container-id-2 label.sk-toggleable__label-arrow:hover:before {\n",
              "  color: var(--sklearn-color-text);\n",
              "}\n",
              "\n",
              "/* Toggleable content - dropdown */\n",
              "\n",
              "#sk-container-id-2 div.sk-toggleable__content {\n",
              "  max-height: 0;\n",
              "  max-width: 0;\n",
              "  overflow: hidden;\n",
              "  text-align: left;\n",
              "  /* unfitted */\n",
              "  background-color: var(--sklearn-color-unfitted-level-0);\n",
              "}\n",
              "\n",
              "#sk-container-id-2 div.sk-toggleable__content.fitted {\n",
              "  /* fitted */\n",
              "  background-color: var(--sklearn-color-fitted-level-0);\n",
              "}\n",
              "\n",
              "#sk-container-id-2 div.sk-toggleable__content pre {\n",
              "  margin: 0.2em;\n",
              "  border-radius: 0.25em;\n",
              "  color: var(--sklearn-color-text);\n",
              "  /* unfitted */\n",
              "  background-color: var(--sklearn-color-unfitted-level-0);\n",
              "}\n",
              "\n",
              "#sk-container-id-2 div.sk-toggleable__content.fitted pre {\n",
              "  /* unfitted */\n",
              "  background-color: var(--sklearn-color-fitted-level-0);\n",
              "}\n",
              "\n",
              "#sk-container-id-2 input.sk-toggleable__control:checked~div.sk-toggleable__content {\n",
              "  /* Expand drop-down */\n",
              "  max-height: 200px;\n",
              "  max-width: 100%;\n",
              "  overflow: auto;\n",
              "}\n",
              "\n",
              "#sk-container-id-2 input.sk-toggleable__control:checked~label.sk-toggleable__label-arrow:before {\n",
              "  content: \"▾\";\n",
              "}\n",
              "\n",
              "/* Pipeline/ColumnTransformer-specific style */\n",
              "\n",
              "#sk-container-id-2 div.sk-label input.sk-toggleable__control:checked~label.sk-toggleable__label {\n",
              "  color: var(--sklearn-color-text);\n",
              "  background-color: var(--sklearn-color-unfitted-level-2);\n",
              "}\n",
              "\n",
              "#sk-container-id-2 div.sk-label.fitted input.sk-toggleable__control:checked~label.sk-toggleable__label {\n",
              "  background-color: var(--sklearn-color-fitted-level-2);\n",
              "}\n",
              "\n",
              "/* Estimator-specific style */\n",
              "\n",
              "/* Colorize estimator box */\n",
              "#sk-container-id-2 div.sk-estimator input.sk-toggleable__control:checked~label.sk-toggleable__label {\n",
              "  /* unfitted */\n",
              "  background-color: var(--sklearn-color-unfitted-level-2);\n",
              "}\n",
              "\n",
              "#sk-container-id-2 div.sk-estimator.fitted input.sk-toggleable__control:checked~label.sk-toggleable__label {\n",
              "  /* fitted */\n",
              "  background-color: var(--sklearn-color-fitted-level-2);\n",
              "}\n",
              "\n",
              "#sk-container-id-2 div.sk-label label.sk-toggleable__label,\n",
              "#sk-container-id-2 div.sk-label label {\n",
              "  /* The background is the default theme color */\n",
              "  color: var(--sklearn-color-text-on-default-background);\n",
              "}\n",
              "\n",
              "/* On hover, darken the color of the background */\n",
              "#sk-container-id-2 div.sk-label:hover label.sk-toggleable__label {\n",
              "  color: var(--sklearn-color-text);\n",
              "  background-color: var(--sklearn-color-unfitted-level-2);\n",
              "}\n",
              "\n",
              "/* Label box, darken color on hover, fitted */\n",
              "#sk-container-id-2 div.sk-label.fitted:hover label.sk-toggleable__label.fitted {\n",
              "  color: var(--sklearn-color-text);\n",
              "  background-color: var(--sklearn-color-fitted-level-2);\n",
              "}\n",
              "\n",
              "/* Estimator label */\n",
              "\n",
              "#sk-container-id-2 div.sk-label label {\n",
              "  font-family: monospace;\n",
              "  font-weight: bold;\n",
              "  display: inline-block;\n",
              "  line-height: 1.2em;\n",
              "}\n",
              "\n",
              "#sk-container-id-2 div.sk-label-container {\n",
              "  text-align: center;\n",
              "}\n",
              "\n",
              "/* Estimator-specific */\n",
              "#sk-container-id-2 div.sk-estimator {\n",
              "  font-family: monospace;\n",
              "  border: 1px dotted var(--sklearn-color-border-box);\n",
              "  border-radius: 0.25em;\n",
              "  box-sizing: border-box;\n",
              "  margin-bottom: 0.5em;\n",
              "  /* unfitted */\n",
              "  background-color: var(--sklearn-color-unfitted-level-0);\n",
              "}\n",
              "\n",
              "#sk-container-id-2 div.sk-estimator.fitted {\n",
              "  /* fitted */\n",
              "  background-color: var(--sklearn-color-fitted-level-0);\n",
              "}\n",
              "\n",
              "/* on hover */\n",
              "#sk-container-id-2 div.sk-estimator:hover {\n",
              "  /* unfitted */\n",
              "  background-color: var(--sklearn-color-unfitted-level-2);\n",
              "}\n",
              "\n",
              "#sk-container-id-2 div.sk-estimator.fitted:hover {\n",
              "  /* fitted */\n",
              "  background-color: var(--sklearn-color-fitted-level-2);\n",
              "}\n",
              "\n",
              "/* Specification for estimator info (e.g. \"i\" and \"?\") */\n",
              "\n",
              "/* Common style for \"i\" and \"?\" */\n",
              "\n",
              ".sk-estimator-doc-link,\n",
              "a:link.sk-estimator-doc-link,\n",
              "a:visited.sk-estimator-doc-link {\n",
              "  float: right;\n",
              "  font-size: smaller;\n",
              "  line-height: 1em;\n",
              "  font-family: monospace;\n",
              "  background-color: var(--sklearn-color-background);\n",
              "  border-radius: 1em;\n",
              "  height: 1em;\n",
              "  width: 1em;\n",
              "  text-decoration: none !important;\n",
              "  margin-left: 0.5em;\n",
              "  text-align: center;\n",
              "  /* unfitted */\n",
              "  border: var(--sklearn-color-unfitted-level-1) 1pt solid;\n",
              "  color: var(--sklearn-color-unfitted-level-1);\n",
              "}\n",
              "\n",
              ".sk-estimator-doc-link.fitted,\n",
              "a:link.sk-estimator-doc-link.fitted,\n",
              "a:visited.sk-estimator-doc-link.fitted {\n",
              "  /* fitted */\n",
              "  border: var(--sklearn-color-fitted-level-1) 1pt solid;\n",
              "  color: var(--sklearn-color-fitted-level-1);\n",
              "}\n",
              "\n",
              "/* On hover */\n",
              "div.sk-estimator:hover .sk-estimator-doc-link:hover,\n",
              ".sk-estimator-doc-link:hover,\n",
              "div.sk-label-container:hover .sk-estimator-doc-link:hover,\n",
              ".sk-estimator-doc-link:hover {\n",
              "  /* unfitted */\n",
              "  background-color: var(--sklearn-color-unfitted-level-3);\n",
              "  color: var(--sklearn-color-background);\n",
              "  text-decoration: none;\n",
              "}\n",
              "\n",
              "div.sk-estimator.fitted:hover .sk-estimator-doc-link.fitted:hover,\n",
              ".sk-estimator-doc-link.fitted:hover,\n",
              "div.sk-label-container:hover .sk-estimator-doc-link.fitted:hover,\n",
              ".sk-estimator-doc-link.fitted:hover {\n",
              "  /* fitted */\n",
              "  background-color: var(--sklearn-color-fitted-level-3);\n",
              "  color: var(--sklearn-color-background);\n",
              "  text-decoration: none;\n",
              "}\n",
              "\n",
              "/* Span, style for the box shown on hovering the info icon */\n",
              ".sk-estimator-doc-link span {\n",
              "  display: none;\n",
              "  z-index: 9999;\n",
              "  position: relative;\n",
              "  font-weight: normal;\n",
              "  right: .2ex;\n",
              "  padding: .5ex;\n",
              "  margin: .5ex;\n",
              "  width: min-content;\n",
              "  min-width: 20ex;\n",
              "  max-width: 50ex;\n",
              "  color: var(--sklearn-color-text);\n",
              "  box-shadow: 2pt 2pt 4pt #999;\n",
              "  /* unfitted */\n",
              "  background: var(--sklearn-color-unfitted-level-0);\n",
              "  border: .5pt solid var(--sklearn-color-unfitted-level-3);\n",
              "}\n",
              "\n",
              ".sk-estimator-doc-link.fitted span {\n",
              "  /* fitted */\n",
              "  background: var(--sklearn-color-fitted-level-0);\n",
              "  border: var(--sklearn-color-fitted-level-3);\n",
              "}\n",
              "\n",
              ".sk-estimator-doc-link:hover span {\n",
              "  display: block;\n",
              "}\n",
              "\n",
              "/* \"?\"-specific style due to the `<a>` HTML tag */\n",
              "\n",
              "#sk-container-id-2 a.estimator_doc_link {\n",
              "  float: right;\n",
              "  font-size: 1rem;\n",
              "  line-height: 1em;\n",
              "  font-family: monospace;\n",
              "  background-color: var(--sklearn-color-background);\n",
              "  border-radius: 1rem;\n",
              "  height: 1rem;\n",
              "  width: 1rem;\n",
              "  text-decoration: none;\n",
              "  /* unfitted */\n",
              "  color: var(--sklearn-color-unfitted-level-1);\n",
              "  border: var(--sklearn-color-unfitted-level-1) 1pt solid;\n",
              "}\n",
              "\n",
              "#sk-container-id-2 a.estimator_doc_link.fitted {\n",
              "  /* fitted */\n",
              "  border: var(--sklearn-color-fitted-level-1) 1pt solid;\n",
              "  color: var(--sklearn-color-fitted-level-1);\n",
              "}\n",
              "\n",
              "/* On hover */\n",
              "#sk-container-id-2 a.estimator_doc_link:hover {\n",
              "  /* unfitted */\n",
              "  background-color: var(--sklearn-color-unfitted-level-3);\n",
              "  color: var(--sklearn-color-background);\n",
              "  text-decoration: none;\n",
              "}\n",
              "\n",
              "#sk-container-id-2 a.estimator_doc_link.fitted:hover {\n",
              "  /* fitted */\n",
              "  background-color: var(--sklearn-color-fitted-level-3);\n",
              "}\n",
              "</style><div id=\"sk-container-id-2\" class=\"sk-top-container\"><div class=\"sk-text-repr-fallback\"><pre>RandomizedSearchCV(cv=5,\n",
              "                   estimator=Pipeline(steps=[(&#x27;tfidf&#x27;, TfidfVectorizer()),\n",
              "                                             (&#x27;clf&#x27;, MultinomialNB())]),\n",
              "                   n_iter=50, n_jobs=-1,\n",
              "                   param_distributions={&#x27;clf&#x27;: [MultinomialNB(),\n",
              "                                                ComplementNB()],\n",
              "                                        &#x27;clf__alpha&#x27;: [0.001, 0.01, 0.1, 0.5,\n",
              "                                                       1.0],\n",
              "                                        &#x27;tfidf__max_df&#x27;: array([0.5  , 0.625, 0.75 , 0.875, 1.   ]),\n",
              "                                        &#x27;tfidf__min_df&#x27;: [1, 2, 3, 5],\n",
              "                                        &#x27;tfidf__ngram_range&#x27;: [(1, 1), (1, 2)],\n",
              "                                        &#x27;tfidf__stop_words&#x27;: [&#x27;english&#x27;, None],\n",
              "                                        &#x27;tfidf__sublinear_tf&#x27;: [True, False]},\n",
              "                   random_state=42, scoring=&#x27;f1_macro&#x27;, verbose=1)</pre><b>In a Jupyter environment, please rerun this cell to show the HTML representation or trust the notebook. <br />On GitHub, the HTML representation is unable to render, please try loading this page with nbviewer.org.</b></div><div class=\"sk-container\" hidden><div class=\"sk-item sk-dashed-wrapped\"><div class=\"sk-label-container\"><div class=\"sk-label fitted sk-toggleable\"><input class=\"sk-toggleable__control sk-hidden--visually\" id=\"sk-estimator-id-2\" type=\"checkbox\" ><label for=\"sk-estimator-id-2\" class=\"sk-toggleable__label fitted sk-toggleable__label-arrow\"><div><div>RandomizedSearchCV</div></div><div><a class=\"sk-estimator-doc-link fitted\" rel=\"noreferrer\" target=\"_blank\" href=\"https://scikit-learn.org/1.6/modules/generated/sklearn.model_selection.RandomizedSearchCV.html\">?<span>Documentation for RandomizedSearchCV</span></a><span class=\"sk-estimator-doc-link fitted\">i<span>Fitted</span></span></div></label><div class=\"sk-toggleable__content fitted\"><pre>RandomizedSearchCV(cv=5,\n",
              "                   estimator=Pipeline(steps=[(&#x27;tfidf&#x27;, TfidfVectorizer()),\n",
              "                                             (&#x27;clf&#x27;, MultinomialNB())]),\n",
              "                   n_iter=50, n_jobs=-1,\n",
              "                   param_distributions={&#x27;clf&#x27;: [MultinomialNB(),\n",
              "                                                ComplementNB()],\n",
              "                                        &#x27;clf__alpha&#x27;: [0.001, 0.01, 0.1, 0.5,\n",
              "                                                       1.0],\n",
              "                                        &#x27;tfidf__max_df&#x27;: array([0.5  , 0.625, 0.75 , 0.875, 1.   ]),\n",
              "                                        &#x27;tfidf__min_df&#x27;: [1, 2, 3, 5],\n",
              "                                        &#x27;tfidf__ngram_range&#x27;: [(1, 1), (1, 2)],\n",
              "                                        &#x27;tfidf__stop_words&#x27;: [&#x27;english&#x27;, None],\n",
              "                                        &#x27;tfidf__sublinear_tf&#x27;: [True, False]},\n",
              "                   random_state=42, scoring=&#x27;f1_macro&#x27;, verbose=1)</pre></div> </div></div><div class=\"sk-parallel\"><div class=\"sk-parallel-item\"><div class=\"sk-item\"><div class=\"sk-label-container\"><div class=\"sk-label fitted sk-toggleable\"><input class=\"sk-toggleable__control sk-hidden--visually\" id=\"sk-estimator-id-3\" type=\"checkbox\" ><label for=\"sk-estimator-id-3\" class=\"sk-toggleable__label fitted sk-toggleable__label-arrow\"><div><div>best_estimator_: Pipeline</div></div></label><div class=\"sk-toggleable__content fitted\"><pre>Pipeline(steps=[(&#x27;tfidf&#x27;,\n",
              "                 TfidfVectorizer(max_df=np.float64(1.0), ngram_range=(1, 2),\n",
              "                                 stop_words=&#x27;english&#x27;)),\n",
              "                (&#x27;clf&#x27;, ComplementNB(alpha=0.1))])</pre></div> </div></div><div class=\"sk-serial\"><div class=\"sk-item\"><div class=\"sk-serial\"><div class=\"sk-item\"><div class=\"sk-estimator fitted sk-toggleable\"><input class=\"sk-toggleable__control sk-hidden--visually\" id=\"sk-estimator-id-4\" type=\"checkbox\" ><label for=\"sk-estimator-id-4\" class=\"sk-toggleable__label fitted sk-toggleable__label-arrow\"><div><div>TfidfVectorizer</div></div><div><a class=\"sk-estimator-doc-link fitted\" rel=\"noreferrer\" target=\"_blank\" href=\"https://scikit-learn.org/1.6/modules/generated/sklearn.feature_extraction.text.TfidfVectorizer.html\">?<span>Documentation for TfidfVectorizer</span></a></div></label><div class=\"sk-toggleable__content fitted\"><pre>TfidfVectorizer(max_df=np.float64(1.0), ngram_range=(1, 2),\n",
              "                stop_words=&#x27;english&#x27;)</pre></div> </div></div><div class=\"sk-item\"><div class=\"sk-estimator fitted sk-toggleable\"><input class=\"sk-toggleable__control sk-hidden--visually\" id=\"sk-estimator-id-5\" type=\"checkbox\" ><label for=\"sk-estimator-id-5\" class=\"sk-toggleable__label fitted sk-toggleable__label-arrow\"><div><div>ComplementNB</div></div><div><a class=\"sk-estimator-doc-link fitted\" rel=\"noreferrer\" target=\"_blank\" href=\"https://scikit-learn.org/1.6/modules/generated/sklearn.naive_bayes.ComplementNB.html\">?<span>Documentation for ComplementNB</span></a></div></label><div class=\"sk-toggleable__content fitted\"><pre>ComplementNB(alpha=0.1)</pre></div> </div></div></div></div></div></div></div></div></div></div></div>"
            ]
          },
          "metadata": {},
          "execution_count": 36
        }
      ]
    },
    {
      "cell_type": "code",
      "source": [
        "# Vemos el top 5 de mejores párametros encontrados\n",
        "pd.set_option('display.max_colwidth', None)\n",
        "\n",
        "results_df = pd.DataFrame(search.cv_results_)\n",
        "top_results = results_df.sort_values(by='mean_test_score', ascending=False).head(5)\n",
        "\n",
        "print(\"\\nTop 5 combinaciones de hiperparámetros:\")\n",
        "print(top_results[['mean_test_score', 'params']])"
      ],
      "metadata": {
        "id": "AXkMXNpxWJBu",
        "colab": {
          "base_uri": "https://localhost:8080/"
        },
        "outputId": "4c2af727-1706-4e79-e07b-827e9889572b"
      },
      "execution_count": 37,
      "outputs": [
        {
          "output_type": "stream",
          "name": "stdout",
          "text": [
            "\n",
            "Top 5 combinaciones de hiperparámetros:\n",
            "    mean_test_score  \\\n",
            "6          0.778489   \n",
            "49         0.764499   \n",
            "22         0.760426   \n",
            "31         0.759381   \n",
            "19         0.758518   \n",
            "\n",
            "                                                                                                                                                                                params  \n",
            "6     {'tfidf__sublinear_tf': False, 'tfidf__stop_words': 'english', 'tfidf__ngram_range': (1, 2), 'tfidf__min_df': 1, 'tfidf__max_df': 1.0, 'clf__alpha': 0.1, 'clf': ComplementNB()}  \n",
            "49        {'tfidf__sublinear_tf': False, 'tfidf__stop_words': None, 'tfidf__ngram_range': (1, 1), 'tfidf__min_df': 1, 'tfidf__max_df': 0.75, 'clf__alpha': 0.1, 'clf': ComplementNB()}  \n",
            "22   {'tfidf__sublinear_tf': True, 'tfidf__stop_words': 'english', 'tfidf__ngram_range': (1, 2), 'tfidf__min_df': 2, 'tfidf__max_df': 0.875, 'clf__alpha': 1.0, 'clf': ComplementNB()}  \n",
            "31  {'tfidf__sublinear_tf': False, 'tfidf__stop_words': 'english', 'tfidf__ngram_range': (1, 1), 'tfidf__min_df': 1, 'tfidf__max_df': 1.0, 'clf__alpha': 0.01, 'clf': MultinomialNB()}  \n",
            "19          {'tfidf__sublinear_tf': True, 'tfidf__stop_words': None, 'tfidf__ngram_range': (1, 2), 'tfidf__min_df': 2, 'tfidf__max_df': 0.5, 'clf__alpha': 0.1, 'clf': ComplementNB()}  \n"
          ]
        }
      ]
    },
    {
      "cell_type": "markdown",
      "source": [
        "Luego de realizar la búsqueda se obtuvo la mejor combinación de parámetros en la iteración número 6. Esta configuración alcanzó un puntaje promedio de F1 macro de aproximadamente 0.7784 en el entrenamiento.\n",
        "\n",
        "Los parámetros óptimos encontrados fueron los siguientes:\n",
        "\n",
        "- sublinear_tf: False\n",
        "- stop_words: english\n",
        "- ngram_range: (1, 2)\n",
        "- min_df: 1\n",
        "- max_df: 1.0\n",
        "- clasificador: ComplementNB()\n",
        "- alpha: 0.1"
      ],
      "metadata": {
        "id": "GsxI0QBgZmJ0"
      }
    },
    {
      "cell_type": "code",
      "source": [
        "# Evaluamos el mejor modelo\n",
        "best_model = search.best_estimator_\n",
        "y_pred = best_model.predict(newsgroups_test.data)\n",
        "\n",
        "# F1-score\n",
        "f1_best_model = f1_score(y_test, y_pred, average='macro')\n",
        "print(f\"F1-score (macro): {f1_best_model:.4f}\")\n",
        "\n",
        "# Classification report\n",
        "print(\"Reporte de clasificación:\")\n",
        "print(classification_report(y_test, y_pred, target_names=newsgroups_test.target_names))"
      ],
      "metadata": {
        "id": "NhGt5Bu7TUmk",
        "colab": {
          "base_uri": "https://localhost:8080/"
        },
        "outputId": "3f22ef91-1562-4818-a3c6-302d63f712ce"
      },
      "execution_count": 38,
      "outputs": [
        {
          "output_type": "stream",
          "name": "stdout",
          "text": [
            "F1-score (macro): 0.7098\n",
            "Reporte de clasificación:\n",
            "                          precision    recall  f1-score   support\n",
            "\n",
            "             alt.atheism       0.34      0.48      0.39       319\n",
            "           comp.graphics       0.73      0.72      0.73       389\n",
            " comp.os.ms-windows.misc       0.69      0.62      0.65       394\n",
            "comp.sys.ibm.pc.hardware       0.66      0.69      0.67       392\n",
            "   comp.sys.mac.hardware       0.79      0.71      0.75       385\n",
            "          comp.windows.x       0.80      0.80      0.80       395\n",
            "            misc.forsale       0.78      0.79      0.78       390\n",
            "               rec.autos       0.81      0.74      0.77       396\n",
            "         rec.motorcycles       0.82      0.77      0.79       398\n",
            "      rec.sport.baseball       0.93      0.84      0.88       397\n",
            "        rec.sport.hockey       0.88      0.94      0.91       399\n",
            "               sci.crypt       0.77      0.81      0.79       396\n",
            "         sci.electronics       0.73      0.58      0.64       393\n",
            "                 sci.med       0.80      0.79      0.80       396\n",
            "               sci.space       0.76      0.80      0.78       394\n",
            "  soc.religion.christian       0.60      0.87      0.71       398\n",
            "      talk.politics.guns       0.60      0.71      0.65       364\n",
            "   talk.politics.mideast       0.78      0.84      0.81       376\n",
            "      talk.politics.misc       0.68      0.45      0.54       310\n",
            "      talk.religion.misc       0.52      0.23      0.32       251\n",
            "\n",
            "                accuracy                           0.72      7532\n",
            "               macro avg       0.72      0.71      0.71      7532\n",
            "            weighted avg       0.73      0.72      0.72      7532\n",
            "\n"
          ]
        }
      ]
    },
    {
      "cell_type": "markdown",
      "source": [
        "Se logró una mejora significativa al pasar del modelo original (MultinomialNB sin ajuste de hiperparámetros con F1 macro de **0.5854**) a un modelo ComplementNB con búsqueda aleatoria de hiperparámetros, alcanzando un F1 macro de **0.7098**.\n",
        "\n",
        "El reporte de clasificación muestra un rendimiento especialmente alto en categorías como 'rec.sport.hockey' y 'rec.sport.baseball', mientras que las clases con peores resultados fueron 'alt.atheism' y 'talk.religion.misc'.\n"
      ],
      "metadata": {
        "id": "hnnCk8LJHGKy"
      }
    },
    {
      "cell_type": "markdown",
      "source": [
        "### 3. Transponer la matriz documento-término"
      ],
      "metadata": {
        "id": "4Byji9g1TGdo"
      }
    },
    {
      "cell_type": "markdown",
      "source": [
        "Se tomaron las siguientes palabras de los documentos elegidos al azar del punto 1: **canada** - **hope** - **oil** - **software** - **player**"
      ],
      "metadata": {
        "id": "3f-aP1Urh_nX"
      }
    },
    {
      "cell_type": "code",
      "source": [
        "# Transponemos la matriz\n",
        "X_T = X_train.T\n",
        "\n",
        "words = ['canada', 'hope', 'oil', 'software', 'player']\n",
        "\n",
        "word_indices = [tfidfvect.vocabulary_.get(word) for word in words if word in tfidfvect.vocabulary_]\n",
        "\n",
        "# Aplicamos cosine similarity a las palabras seleccionadas para buscar las palabras similares\n",
        "word_similarity = cosine_similarity(X_T[word_indices], X_T)\n",
        "\n",
        "# Mostramos para cada palabra las 5 más similares\n",
        "for i, word in enumerate(words):\n",
        "    if word in tfidfvect.vocabulary_:\n",
        "        similarity_scores = word_similarity[i]\n",
        "        most_similar_indices = np.argsort(similarity_scores)[::-1][1:6]  # excluye la palabra consigo misma\n",
        "        most_similar_words = [(tfidfvect.get_feature_names_out()[idx], similarity_scores[idx])\n",
        "                              for idx in most_similar_indices]\n",
        "\n",
        "        print(f\"\\nPalabras con mayor similitud a '{word}':\")\n",
        "        for similar_word, score in most_similar_words:\n",
        "            print(f\"  {similar_word:<15} Similitud: {score:.4f}\")"
      ],
      "metadata": {
        "id": "emplUZZWTV6v",
        "colab": {
          "base_uri": "https://localhost:8080/"
        },
        "outputId": "267d2530-7ca2-43c7-f56f-e73b88608cfc"
      },
      "execution_count": 40,
      "outputs": [
        {
          "output_type": "stream",
          "name": "stdout",
          "text": [
            "\n",
            "Palabras con mayor similitud a 'canada':\n",
            "  olympiahalle    Similitud: 0.2643\n",
            "  xs1100          Similitud: 0.2062\n",
            "  censured        Similitud: 0.2012\n",
            "  sweden          Similitud: 0.1959\n",
            "  uncirculated    Similitud: 0.1955\n",
            "\n",
            "Palabras con mayor similitud a 'hope':\n",
            "  helps           Similitud: 0.3336\n",
            "  nobles          Similitud: 0.2003\n",
            "  to              Similitud: 0.1505\n",
            "  binyamin        Similitud: 0.1442\n",
            "  ellected        Similitud: 0.1442\n",
            "\n",
            "Palabras con mayor similitud a 'oil':\n",
            "  presurized      Similitud: 0.2701\n",
            "  volitiles       Similitud: 0.2701\n",
            "  prolonging      Similitud: 0.2674\n",
            "  decant          Similitud: 0.2663\n",
            "  quart           Similitud: 0.2609\n",
            "\n",
            "Palabras con mayor similitud a 'software':\n",
            "  maturity        Similitud: 0.2296\n",
            "  humphrey        Similitud: 0.2216\n",
            "  repeatable      Similitud: 0.2040\n",
            "  hardware        Similitud: 0.1676\n",
            "  standdown       Similitud: 0.1667\n",
            "\n",
            "Palabras con mayor similitud a 'player':\n",
            "  grounder        Similitud: 0.2802\n",
            "  sac             Similitud: 0.2360\n",
            "  team            Similitud: 0.2254\n",
            "  credited        Similitud: 0.2178\n",
            "  players         Similitud: 0.2131\n"
          ]
        }
      ]
    },
    {
      "cell_type": "markdown",
      "source": [
        "***Análisis***\n",
        "\n",
        "- **canada**  \n",
        "  olympiahalle y sweden indican asociaciones geográficas o culturales, posiblemente relacionadas con eventos o localizaciones en países con tradición deportiva o política. XS1100 puede referirse al modelo de motocicleta mencionado en la categoría rec.motorcycles, aunque no parece haber una relación semátinca directa con canada\n",
        "\n",
        "- **hope**  \n",
        "  helps y nobles reflejan vínculos con el apoyo, la generosidad y el impulso positivo, sugiriendo un contexto de asistencia o valores elevados.\n",
        "\n",
        "- **oil**  \n",
        "  pressurized y volitiles apuntan a características físicas o químicas propias del aceite, como presión y volatilidad, dentro de un marco industrial o científico. Quart puede referirse a una medida de aceite.\n",
        "\n",
        "- **software**  \n",
        "  maturity y hardware conectan el término con etapas de desarrollo tecnológico y su relación con componentes físicos, en un entorno de ingeniería o producto. Humphrey podría referirse a Watts Humphrey, reconodido en el mundo del software.\n",
        "\n",
        "- **player**  \n",
        "  grounder, sac, team y player parecen estar asociadas a lo deportivo, en particular al baseball, una de las categorías de los documentos del dataset.\n",
        "\n",
        "En conclusión, si bien las medidas de similitud encontradas son bajas, en general es posible encontrar una relación entre las palabras dentro del contexto de los textos analizados."
      ],
      "metadata": {
        "id": "P0r1psC5RxyB"
      }
    }
  ],
  "metadata": {
    "colab": {
      "provenance": []
    },
    "kernelspec": {
      "display_name": "Python 3",
      "name": "python3"
    },
    "language_info": {
      "codemirror_mode": {
        "name": "ipython",
        "version": 3
      },
      "file_extension": ".py",
      "mimetype": "text/x-python",
      "name": "python",
      "nbconvert_exporter": "python",
      "pygments_lexer": "ipython3",
      "version": "3.10.13"
    }
  },
  "nbformat": 4,
  "nbformat_minor": 0
}
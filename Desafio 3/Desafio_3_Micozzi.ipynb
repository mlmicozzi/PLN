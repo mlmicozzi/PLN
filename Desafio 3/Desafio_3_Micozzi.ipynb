{
  "cells": [
    {
      "cell_type": "markdown",
      "metadata": {
        "id": "g3yeJGnCYxuF"
      },
      "source": [
        "<img src=\"https://github.com/hernancontigiani/ceia_memorias_especializacion/raw/master/Figures/logoFIUBA.jpg\" width=\"500\" align=\"center\">\n",
        "\n",
        "\n",
        "## Desafío 3 - Procesamiento del Lenguaje Natural I\n",
        "##### Docentes: Rodrigo Cárdenas / Nicolás  Vattuone\n",
        "##### Autora: María Luz Micozzi\n",
        "\n",
        "## Modelo de lenguaje con tokenización por caracteres"
      ]
    },
    {
      "cell_type": "markdown",
      "metadata": {
        "id": "Iv5PEwGzZA9-"
      },
      "source": [
        "### Consigna\n",
        "- Seleccionar un corpus de texto sobre el cual entrenar el modelo de lenguaje.\n",
        "- Realizar el pre-procesamiento adecuado para tokenizar el corpus, estructurar el dataset y separar entre datos de entrenamiento y validación.\n",
        "- Proponer arquitecturas de redes neuronales basadas en unidades recurrentes para implementar un modelo de lenguaje.\n",
        "- Con el o los modelos que consideren adecuados, generar nuevas secuencias a partir de secuencias de contexto con las estrategias de greedy search y beam search determístico y estocástico. En este último caso observar el efecto de la temperatura en la generación de secuencias.\n",
        "\n",
        "\n",
        "### Sugerencias\n",
        "- Durante el entrenamiento, guiarse por el descenso de la perplejidad en los datos de validación para finalizar el entrenamiento. Para ello se provee un callback.\n",
        "- Explorar utilizar SimpleRNN (celda de Elman), LSTM y GRU.\n",
        "- rmsprop es el optimizador recomendado para la buena convergencia. No obstante se pueden explorar otros.\n"
      ]
    },
    {
      "cell_type": "code",
      "execution_count": null,
      "metadata": {
        "id": "Y-QdFbHZYj7C"
      },
      "outputs": [],
      "source": [
        "import numpy as np\n",
        "import pandas as pd\n",
        "import matplotlib.pyplot as plt\n",
        "import seaborn as sns\n",
        "import time\n",
        "\n",
        "from tensorflow import keras\n",
        "from tensorflow.keras.utils import pad_sequences\n",
        "from keras.layers import Dropout\n",
        "\n",
        "import re\n",
        "import os\n",
        "import gzip\n",
        "import shutil\n",
        "import requests"
      ]
    },
    {
      "cell_type": "markdown",
      "metadata": {
        "id": "xTvXlEKQZdqx"
      },
      "source": [
        "## Preparación de los datos\n",
        "El corpus seleccionado es una colección de subtítulos de películas y series traducidos al español obtenidos de la web [OPUS](https://opus.nlpl.eu/OpenSubtitles/en&es/v2024/OpenSubtitles). Los mismos fueron recolectados desde el sitio [opensubtitles](https://www.opensubtitles.org/).\n",
        "\n",
        "Se utilizará la versión más liviana para optimizar el tiempo y la memoria."
      ]
    },
    {
      "cell_type": "code",
      "execution_count": null,
      "metadata": {
        "colab": {
          "base_uri": "https://localhost:8080/"
        },
        "id": "7amy6uUaBLVD",
        "outputId": "3c38e6db-8783-4168-e1df-5b9ae5baaf92"
      },
      "outputs": [
        {
          "output_type": "stream",
          "name": "stdout",
          "text": [
            "Descargando archivo .gz...\n",
            "Descarga completada.\n",
            "Descomprimiendo archivo .gz...\n",
            "Descompresión completada.\n"
          ]
        }
      ],
      "source": [
        "# Obtenemos el archivo txt con los subtitulos\n",
        "\n",
        "url = \"https://object.pouta.csc.fi/OPUS-OpenSubtitles/v1/mono/es.txt.gz\"\n",
        "gz_path = \"sub-es.txt.gz\"\n",
        "txt_path = \"sub-es.txt\"\n",
        "\n",
        "# Descargar\n",
        "if not os.path.exists(gz_path):\n",
        "    print(\"Descargando archivo .gz...\")\n",
        "    response = requests.get(url)\n",
        "    response.raise_for_status()\n",
        "    with open(gz_path, \"wb\") as f:\n",
        "        f.write(response.content)\n",
        "    print(\"Descarga completada.\")\n",
        "else:\n",
        "    print(\"El archivo .gz ya existe.\")\n",
        "\n",
        "# Descomprimir\n",
        "if not os.path.exists(txt_path):\n",
        "    print(\"Descomprimiendo archivo .gz...\")\n",
        "    with gzip.open(gz_path, 'rt', encoding='utf-8') as f_in:\n",
        "        with open(txt_path, 'w', encoding='utf-8') as f_out:\n",
        "            f_out.write(f_in.read())\n",
        "    print(\"Descompresión completada.\")\n",
        "else:\n",
        "    print(\"El archivo .txt ya está descomprimido.\")"
      ]
    },
    {
      "cell_type": "code",
      "execution_count": null,
      "metadata": {
        "id": "b9RPJsWJGwS7"
      },
      "outputs": [],
      "source": [
        "# Leemos el archivo y limpiamos el texto\n",
        "\n",
        "with open(\"sub-es.txt\", \"r\", encoding=\"utf-8\") as f:\n",
        "    text = f.read()\n",
        "\n",
        "def preprocess(text):\n",
        "    text = text.lower() # Convertir todo el texto a minúsculas\n",
        "    text = re.sub(r\"<.*?>\", \"\", text) # Eliminar etiquetas\n",
        "    text = re.sub(r\"[^a-záéíóúüñ¿¡!?.,;:\\-()\\\"'\\s]\", \"\", text) # Eliminar cualquier carácter que no sea letra, puntuación o espacio\n",
        "    text = re.sub(r\"\\s+\", \" \", text).strip() # Reemplazar múltiples espacios/saltos por uno solo y elimina espacios extremos\n",
        "    return text\n",
        "\n",
        "clean_text = preprocess(text)"
      ]
    },
    {
      "cell_type": "code",
      "execution_count": null,
      "metadata": {
        "id": "Fhn0IFeVG0_f",
        "colab": {
          "base_uri": "https://localhost:8080/",
          "height": 70
        },
        "outputId": "86d01fe0-bc10-4573-e4d5-c0aad0f28473"
      },
      "outputs": [
        {
          "output_type": "execute_result",
          "data": {
            "text/plain": [
              "'sr. bond, sr. bond, qué bueno que lo encontré. llamaron de su oficina. estarán enviando un helicóptero para recogerlo. algún tipo de emergencia. generalmente lo es. gracias. buenas tardes, sr. bond. no se preocupe por el piloto. era uno de los menos útiles. está ahora volando por aerolíneas por control remoto. piénselo bien, . es una larga caída. estuve esperando este momento, sr. bond. y espero disfrutarlo al máximo. en serio, no tiene respeto por los muertos? adiós, sr. bond. espero que haya t'"
            ],
            "application/vnd.google.colaboratory.intrinsic+json": {
              "type": "string"
            }
          },
          "metadata": {},
          "execution_count": 4
        }
      ],
      "source": [
        "clean_text[:500]"
      ]
    },
    {
      "cell_type": "code",
      "source": [
        "print(f'Tamaño: {len(clean_text)}.')"
      ],
      "metadata": {
        "id": "bMGHqrSCEKzZ",
        "colab": {
          "base_uri": "https://localhost:8080/"
        },
        "outputId": "c1e82d2b-395c-40cc-f6e9-91bd129ba861"
      },
      "execution_count": null,
      "outputs": [
        {
          "output_type": "stream",
          "name": "stdout",
          "text": [
            "Tamaño: 65855203.\n"
          ]
        }
      ]
    },
    {
      "cell_type": "markdown",
      "source": [
        "El corpus original luego de la limpieza cuenta con más de 65 millones de caracteres, lo cual resultaba excesivo para entrenar y probar modelos en entornos con recursos limitados.  \n",
        "Por eso, se redujo el corpus para facilitar el preprocesamiento, reducir el uso de memoria y agilizar la experimentación.\n"
      ],
      "metadata": {
        "id": "pTeftcAVGDci"
      }
    },
    {
      "cell_type": "code",
      "source": [
        "max_chars = 400_000\n",
        "clean_text = clean_text[:max_chars]"
      ],
      "metadata": {
        "id": "IyiVzJcfFRQI"
      },
      "execution_count": null,
      "outputs": []
    },
    {
      "cell_type": "markdown",
      "metadata": {
        "id": "cP1JdiOIKQWi"
      },
      "source": [
        "### Elegir el tamaño del contexto"
      ]
    },
    {
      "cell_type": "code",
      "execution_count": null,
      "metadata": {
        "id": "wumBNwdjJM3j"
      },
      "outputs": [],
      "source": [
        "# seleccionamos el tamaño de contexto\n",
        "max_context_size = 100"
      ]
    },
    {
      "cell_type": "code",
      "execution_count": null,
      "metadata": {
        "id": "573Cg5n7VhWw"
      },
      "outputs": [],
      "source": [
        "# en este caso el vocabulario es el conjunto único de caracteres que existe en todo el texto\n",
        "chars_vocab = set(clean_text)"
      ]
    },
    {
      "cell_type": "code",
      "execution_count": null,
      "metadata": {
        "id": "VwTK6xgLJd8q",
        "colab": {
          "base_uri": "https://localhost:8080/"
        },
        "outputId": "58f07a32-2469-47c6-d717-2d8880101609"
      },
      "outputs": [
        {
          "output_type": "stream",
          "name": "stdout",
          "text": [
            "El vocabulario tiene 47 caracteres.\n"
          ]
        }
      ],
      "source": [
        "# longitud de vocabulario de caracteres\n",
        "print(f'El vocabulario tiene {len(chars_vocab)} caracteres.')"
      ]
    },
    {
      "cell_type": "code",
      "execution_count": null,
      "metadata": {
        "id": "2W0AeQjXV1Ou"
      },
      "outputs": [],
      "source": [
        "# Construimos los dicionarios que asignan índices a caracteres y viceversa.\n",
        "# El diccionario `char2idx` servirá como tokenizador.\n",
        "char2idx = {k: v for v,k in enumerate(chars_vocab)}\n",
        "idx2char = {v: k for k,v in char2idx.items()}"
      ]
    },
    {
      "cell_type": "markdown",
      "metadata": {
        "id": "2oIUjVU0LB0r"
      },
      "source": [
        "###  Tokenizar"
      ]
    },
    {
      "cell_type": "code",
      "execution_count": null,
      "metadata": {
        "id": "h07G3srdJppo"
      },
      "outputs": [],
      "source": [
        "# tokenizamos el texto completo\n",
        "tokenized_text = [char2idx[ch] for ch in clean_text]"
      ]
    },
    {
      "cell_type": "code",
      "execution_count": null,
      "metadata": {
        "id": "PwGVSKOiJ5bj",
        "colab": {
          "base_uri": "https://localhost:8080/"
        },
        "outputId": "98c00fc3-7f17-4cec-d327-a64aa05c0408"
      },
      "outputs": [
        {
          "output_type": "execute_result",
          "data": {
            "text/plain": [
              "[30, 22, 7, 36, 11, 23, 35, 24, 9, 36, 30, 22, 7, 36, 11, 23, 35, 24, 9, 36]"
            ]
          },
          "metadata": {},
          "execution_count": 12
        }
      ],
      "source": [
        "tokenized_text[:20]"
      ]
    },
    {
      "cell_type": "markdown",
      "metadata": {
        "id": "pfpYcaypKcI9"
      },
      "source": [
        "### Organizando y estructurando el dataset"
      ]
    },
    {
      "cell_type": "code",
      "execution_count": null,
      "metadata": {
        "id": "WSSmg9jtKP0T"
      },
      "outputs": [],
      "source": [
        "# separaremos el dataset entre entrenamiento y validación.\n",
        "# `p_val` será la proporción del corpus que se reservará para validación\n",
        "# `num_val` es la cantidad de secuencias de tamaño `max_context_size` que se usará en validación\n",
        "p_val = 0.1\n",
        "num_val = int(np.ceil(len(tokenized_text)*p_val/max_context_size))"
      ]
    },
    {
      "cell_type": "code",
      "execution_count": null,
      "metadata": {
        "id": "b7dCpGrdKll0"
      },
      "outputs": [],
      "source": [
        "# separamos la porción de texto utilizada en entrenamiento de la de validación.\n",
        "train_text = tokenized_text[:-num_val*max_context_size]\n",
        "val_text = tokenized_text[-num_val*max_context_size:]"
      ]
    },
    {
      "cell_type": "code",
      "execution_count": null,
      "metadata": {
        "id": "NmxQdxl8LRCg"
      },
      "outputs": [],
      "source": [
        "tokenized_sentences_val = [val_text[init*max_context_size:init*(max_context_size+1)] for init in range(num_val)]"
      ]
    },
    {
      "cell_type": "code",
      "execution_count": null,
      "metadata": {
        "id": "_gyFT9koLqDm"
      },
      "outputs": [],
      "source": [
        "tokenized_sentences_train = [train_text[init:init+max_context_size] for init in range(len(train_text)-max_context_size+1)]"
      ]
    },
    {
      "cell_type": "code",
      "execution_count": null,
      "metadata": {
        "id": "oVNqmmLRodT0"
      },
      "outputs": [],
      "source": [
        "X = np.array(tokenized_sentences_train[:-1])\n",
        "y = np.array(tokenized_sentences_train[1:])"
      ]
    },
    {
      "cell_type": "markdown",
      "source": [
        "Nótese que estamos estructurando el problema de aprendizaje como *many-to-many*:\n",
        "\n",
        "Entrada: secuencia de tokens [$x_0$, $x_1$, ..., $x_N$]\n",
        "\n",
        "Target: secuencia de tokens [$x_1$, $x_2$, ..., $x_{N+1}$]\n",
        "\n",
        "De manera que la red tiene que aprender que su salida deben ser los tokens desplazados en una posición y un nuevo token predicho (el N+1).\n",
        "\n",
        "La ventaja de estructurar el aprendizaje de esta manera es que para cada token de target se propaga una señal de gradiente por el grafo de cómputo recurrente, que es mejor que estructurar el problema como *many-to-one* en donde sólo una señal de gradiente se propaga."
      ],
      "metadata": {
        "id": "QGflulX_2H-L"
      }
    },
    {
      "cell_type": "markdown",
      "metadata": {
        "id": "l3iPTx-UJl6r"
      },
      "source": [
        "En este punto tenemos en la variable `tokenized_sentences` los versos tokenizados. Vamos a quedarnos con un conjunto de validación que utilizaremos para medir la calidad de la generación de secuencias con la métrica de Perplejidad."
      ]
    },
    {
      "cell_type": "code",
      "execution_count": null,
      "metadata": {
        "id": "KFAyA4zCWE-5",
        "colab": {
          "base_uri": "https://localhost:8080/"
        },
        "outputId": "a909028e-4429-4047-bfcb-a937ae200846"
      },
      "outputs": [
        {
          "output_type": "execute_result",
          "data": {
            "text/plain": [
              "(359900, 100)"
            ]
          },
          "metadata": {},
          "execution_count": 18
        }
      ],
      "source": [
        "X.shape"
      ]
    },
    {
      "cell_type": "code",
      "execution_count": null,
      "metadata": {
        "id": "qcKRl70HFTzG",
        "colab": {
          "base_uri": "https://localhost:8080/"
        },
        "outputId": "381a68c5-a714-4047-a33f-51783dfac608"
      },
      "outputs": [
        {
          "output_type": "execute_result",
          "data": {
            "text/plain": [
              "array([30, 22,  7, 36, 11, 23, 35, 24,  9, 36])"
            ]
          },
          "metadata": {},
          "execution_count": 19
        }
      ],
      "source": [
        "X[0,:10]"
      ]
    },
    {
      "cell_type": "code",
      "execution_count": null,
      "metadata": {
        "id": "TVpLCKSZFXZO",
        "colab": {
          "base_uri": "https://localhost:8080/"
        },
        "outputId": "4ab680ef-d355-4546-d81f-50c1e8e9cbfb"
      },
      "outputs": [
        {
          "output_type": "execute_result",
          "data": {
            "text/plain": [
              "array([22,  7, 36, 11, 23, 35, 24,  9, 36, 30])"
            ]
          },
          "metadata": {},
          "execution_count": 20
        }
      ],
      "source": [
        "y[0,:10]"
      ]
    },
    {
      "cell_type": "code",
      "execution_count": null,
      "metadata": {
        "id": "wOFCR-KqbW1N"
      },
      "outputs": [],
      "source": [
        "vocab_size = len(chars_vocab)"
      ]
    },
    {
      "cell_type": "markdown",
      "metadata": {
        "id": "tnnjdAQ5UAEJ"
      },
      "source": [
        "## Entrenamiento"
      ]
    },
    {
      "cell_type": "code",
      "source": [
        "# Configuramos para usar GPU\n",
        "\n",
        "import tensorflow as tf\n",
        "gpus = tf.config.experimental.list_physical_devices('GPU')\n",
        "if gpus:\n",
        "    try:\n",
        "        for gpu in gpus:\n",
        "            tf.config.experimental.set_memory_growth(gpu, True)\n",
        "    except RuntimeError as e:\n",
        "        print(e)"
      ],
      "metadata": {
        "id": "1tP5lU6IIliO"
      },
      "execution_count": null,
      "outputs": []
    },
    {
      "cell_type": "code",
      "execution_count": null,
      "metadata": {
        "id": "rkMCZvmhrQz4"
      },
      "outputs": [],
      "source": [
        "from keras.layers import Input, TimeDistributed, CategoryEncoding, Dense, SimpleRNN, LSTM, GRU\n",
        "from keras.models import Model, Sequential"
      ]
    },
    {
      "cell_type": "markdown",
      "metadata": {
        "id": "wgz7VKwTUbj6"
      },
      "source": [
        "Se probarán los 3 modelos propuestos: SimpleRNN, LSTM y GRU."
      ]
    },
    {
      "cell_type": "code",
      "execution_count": null,
      "metadata": {
        "id": "Zd2OkfQYs2Q7",
        "colab": {
          "base_uri": "https://localhost:8080/",
          "height": 296
        },
        "outputId": "4ae132a8-66af-41d2-b852-e94388f52b28"
      },
      "outputs": [
        {
          "output_type": "stream",
          "name": "stderr",
          "text": [
            "/usr/local/lib/python3.11/dist-packages/keras/src/layers/core/wrapper.py:27: UserWarning: Do not pass an `input_shape`/`input_dim` argument to a layer. When using Sequential models, prefer using an `Input(shape)` object as the first layer in the model instead.\n",
            "  super().__init__(**kwargs)\n"
          ]
        },
        {
          "output_type": "display_data",
          "data": {
            "text/plain": [
              "\u001b[1mModel: \"sequential\"\u001b[0m\n"
            ],
            "text/html": [
              "<pre style=\"white-space:pre;overflow-x:auto;line-height:normal;font-family:Menlo,'DejaVu Sans Mono',consolas,'Courier New',monospace\"><span style=\"font-weight: bold\">Model: \"sequential\"</span>\n",
              "</pre>\n"
            ]
          },
          "metadata": {}
        },
        {
          "output_type": "display_data",
          "data": {
            "text/plain": [
              "┏━━━━━━━━━━━━━━━━━━━━━━━━━━━━━━━━━┳━━━━━━━━━━━━━━━━━━━━━━━━┳━━━━━━━━━━━━━━━┓\n",
              "┃\u001b[1m \u001b[0m\u001b[1mLayer (type)                   \u001b[0m\u001b[1m \u001b[0m┃\u001b[1m \u001b[0m\u001b[1mOutput Shape          \u001b[0m\u001b[1m \u001b[0m┃\u001b[1m \u001b[0m\u001b[1m      Param #\u001b[0m\u001b[1m \u001b[0m┃\n",
              "┡━━━━━━━━━━━━━━━━━━━━━━━━━━━━━━━━━╇━━━━━━━━━━━━━━━━━━━━━━━━╇━━━━━━━━━━━━━━━┩\n",
              "│ time_distributed                │ (\u001b[38;5;45mNone\u001b[0m, \u001b[38;5;45mNone\u001b[0m, \u001b[38;5;34m47\u001b[0m)       │             \u001b[38;5;34m0\u001b[0m │\n",
              "│ (\u001b[38;5;33mTimeDistributed\u001b[0m)               │                        │               │\n",
              "├─────────────────────────────────┼────────────────────────┼───────────────┤\n",
              "│ simple_rnn (\u001b[38;5;33mSimpleRNN\u001b[0m)          │ (\u001b[38;5;45mNone\u001b[0m, \u001b[38;5;45mNone\u001b[0m, \u001b[38;5;34m200\u001b[0m)      │        \u001b[38;5;34m49,600\u001b[0m │\n",
              "├─────────────────────────────────┼────────────────────────┼───────────────┤\n",
              "│ dense (\u001b[38;5;33mDense\u001b[0m)                   │ (\u001b[38;5;45mNone\u001b[0m, \u001b[38;5;45mNone\u001b[0m, \u001b[38;5;34m47\u001b[0m)       │         \u001b[38;5;34m9,447\u001b[0m │\n",
              "└─────────────────────────────────┴────────────────────────┴───────────────┘\n"
            ],
            "text/html": [
              "<pre style=\"white-space:pre;overflow-x:auto;line-height:normal;font-family:Menlo,'DejaVu Sans Mono',consolas,'Courier New',monospace\">┏━━━━━━━━━━━━━━━━━━━━━━━━━━━━━━━━━┳━━━━━━━━━━━━━━━━━━━━━━━━┳━━━━━━━━━━━━━━━┓\n",
              "┃<span style=\"font-weight: bold\"> Layer (type)                    </span>┃<span style=\"font-weight: bold\"> Output Shape           </span>┃<span style=\"font-weight: bold\">       Param # </span>┃\n",
              "┡━━━━━━━━━━━━━━━━━━━━━━━━━━━━━━━━━╇━━━━━━━━━━━━━━━━━━━━━━━━╇━━━━━━━━━━━━━━━┩\n",
              "│ time_distributed                │ (<span style=\"color: #00d7ff; text-decoration-color: #00d7ff\">None</span>, <span style=\"color: #00d7ff; text-decoration-color: #00d7ff\">None</span>, <span style=\"color: #00af00; text-decoration-color: #00af00\">47</span>)       │             <span style=\"color: #00af00; text-decoration-color: #00af00\">0</span> │\n",
              "│ (<span style=\"color: #0087ff; text-decoration-color: #0087ff\">TimeDistributed</span>)               │                        │               │\n",
              "├─────────────────────────────────┼────────────────────────┼───────────────┤\n",
              "│ simple_rnn (<span style=\"color: #0087ff; text-decoration-color: #0087ff\">SimpleRNN</span>)          │ (<span style=\"color: #00d7ff; text-decoration-color: #00d7ff\">None</span>, <span style=\"color: #00d7ff; text-decoration-color: #00d7ff\">None</span>, <span style=\"color: #00af00; text-decoration-color: #00af00\">200</span>)      │        <span style=\"color: #00af00; text-decoration-color: #00af00\">49,600</span> │\n",
              "├─────────────────────────────────┼────────────────────────┼───────────────┤\n",
              "│ dense (<span style=\"color: #0087ff; text-decoration-color: #0087ff\">Dense</span>)                   │ (<span style=\"color: #00d7ff; text-decoration-color: #00d7ff\">None</span>, <span style=\"color: #00d7ff; text-decoration-color: #00d7ff\">None</span>, <span style=\"color: #00af00; text-decoration-color: #00af00\">47</span>)       │         <span style=\"color: #00af00; text-decoration-color: #00af00\">9,447</span> │\n",
              "└─────────────────────────────────┴────────────────────────┴───────────────┘\n",
              "</pre>\n"
            ]
          },
          "metadata": {}
        },
        {
          "output_type": "display_data",
          "data": {
            "text/plain": [
              "\u001b[1m Total params: \u001b[0m\u001b[38;5;34m59,047\u001b[0m (230.65 KB)\n"
            ],
            "text/html": [
              "<pre style=\"white-space:pre;overflow-x:auto;line-height:normal;font-family:Menlo,'DejaVu Sans Mono',consolas,'Courier New',monospace\"><span style=\"font-weight: bold\"> Total params: </span><span style=\"color: #00af00; text-decoration-color: #00af00\">59,047</span> (230.65 KB)\n",
              "</pre>\n"
            ]
          },
          "metadata": {}
        },
        {
          "output_type": "display_data",
          "data": {
            "text/plain": [
              "\u001b[1m Trainable params: \u001b[0m\u001b[38;5;34m59,047\u001b[0m (230.65 KB)\n"
            ],
            "text/html": [
              "<pre style=\"white-space:pre;overflow-x:auto;line-height:normal;font-family:Menlo,'DejaVu Sans Mono',consolas,'Courier New',monospace\"><span style=\"font-weight: bold\"> Trainable params: </span><span style=\"color: #00af00; text-decoration-color: #00af00\">59,047</span> (230.65 KB)\n",
              "</pre>\n"
            ]
          },
          "metadata": {}
        },
        {
          "output_type": "display_data",
          "data": {
            "text/plain": [
              "\u001b[1m Non-trainable params: \u001b[0m\u001b[38;5;34m0\u001b[0m (0.00 B)\n"
            ],
            "text/html": [
              "<pre style=\"white-space:pre;overflow-x:auto;line-height:normal;font-family:Menlo,'DejaVu Sans Mono',consolas,'Courier New',monospace\"><span style=\"font-weight: bold\"> Non-trainable params: </span><span style=\"color: #00af00; text-decoration-color: #00af00\">0</span> (0.00 B)\n",
              "</pre>\n"
            ]
          },
          "metadata": {}
        }
      ],
      "source": [
        "# SimpleRNN\n",
        "model_simpleRNN = Sequential()\n",
        "\n",
        "model_simpleRNN.add(TimeDistributed(CategoryEncoding(num_tokens=vocab_size, output_mode = \"one_hot\"),input_shape=(None,1)))\n",
        "model_simpleRNN.add(SimpleRNN(200, return_sequences=True, dropout=0.1, recurrent_dropout=0.1 ))\n",
        "model_simpleRNN.add(Dense(vocab_size, activation='softmax'))\n",
        "model_simpleRNN.compile(loss='sparse_categorical_crossentropy', optimizer='rmsprop')\n",
        "\n",
        "model_simpleRNN.summary()"
      ]
    },
    {
      "cell_type": "code",
      "source": [
        "# LSTM\n",
        "model_LSTM = Sequential()\n",
        "\n",
        "model_LSTM.add(TimeDistributed(CategoryEncoding(num_tokens=vocab_size, output_mode = \"one_hot\"),input_shape=(None,1)))\n",
        "model_LSTM.add(LSTM(100, return_sequences=True, dropout=0.1, recurrent_dropout=0.1))\n",
        "model_LSTM.add(Dense(vocab_size, activation='softmax'))\n",
        "model_LSTM.compile(loss='sparse_categorical_crossentropy', optimizer='rmsprop')\n",
        "\n",
        "model_LSTM.summary()"
      ],
      "metadata": {
        "colab": {
          "base_uri": "https://localhost:8080/",
          "height": 241
        },
        "id": "BW14PeNydfGC",
        "outputId": "d26ac73b-8789-43c5-b238-ac905220fb30"
      },
      "execution_count": null,
      "outputs": [
        {
          "output_type": "display_data",
          "data": {
            "text/plain": [
              "\u001b[1mModel: \"sequential_1\"\u001b[0m\n"
            ],
            "text/html": [
              "<pre style=\"white-space:pre;overflow-x:auto;line-height:normal;font-family:Menlo,'DejaVu Sans Mono',consolas,'Courier New',monospace\"><span style=\"font-weight: bold\">Model: \"sequential_1\"</span>\n",
              "</pre>\n"
            ]
          },
          "metadata": {}
        },
        {
          "output_type": "display_data",
          "data": {
            "text/plain": [
              "┏━━━━━━━━━━━━━━━━━━━━━━━━━━━━━━━━━┳━━━━━━━━━━━━━━━━━━━━━━━━┳━━━━━━━━━━━━━━━┓\n",
              "┃\u001b[1m \u001b[0m\u001b[1mLayer (type)                   \u001b[0m\u001b[1m \u001b[0m┃\u001b[1m \u001b[0m\u001b[1mOutput Shape          \u001b[0m\u001b[1m \u001b[0m┃\u001b[1m \u001b[0m\u001b[1m      Param #\u001b[0m\u001b[1m \u001b[0m┃\n",
              "┡━━━━━━━━━━━━━━━━━━━━━━━━━━━━━━━━━╇━━━━━━━━━━━━━━━━━━━━━━━━╇━━━━━━━━━━━━━━━┩\n",
              "│ time_distributed_1              │ (\u001b[38;5;45mNone\u001b[0m, \u001b[38;5;45mNone\u001b[0m, \u001b[38;5;34m47\u001b[0m)       │             \u001b[38;5;34m0\u001b[0m │\n",
              "│ (\u001b[38;5;33mTimeDistributed\u001b[0m)               │                        │               │\n",
              "├─────────────────────────────────┼────────────────────────┼───────────────┤\n",
              "│ lstm (\u001b[38;5;33mLSTM\u001b[0m)                     │ (\u001b[38;5;45mNone\u001b[0m, \u001b[38;5;45mNone\u001b[0m, \u001b[38;5;34m100\u001b[0m)      │        \u001b[38;5;34m59,200\u001b[0m │\n",
              "├─────────────────────────────────┼────────────────────────┼───────────────┤\n",
              "│ dense_1 (\u001b[38;5;33mDense\u001b[0m)                 │ (\u001b[38;5;45mNone\u001b[0m, \u001b[38;5;45mNone\u001b[0m, \u001b[38;5;34m47\u001b[0m)       │         \u001b[38;5;34m4,747\u001b[0m │\n",
              "└─────────────────────────────────┴────────────────────────┴───────────────┘\n"
            ],
            "text/html": [
              "<pre style=\"white-space:pre;overflow-x:auto;line-height:normal;font-family:Menlo,'DejaVu Sans Mono',consolas,'Courier New',monospace\">┏━━━━━━━━━━━━━━━━━━━━━━━━━━━━━━━━━┳━━━━━━━━━━━━━━━━━━━━━━━━┳━━━━━━━━━━━━━━━┓\n",
              "┃<span style=\"font-weight: bold\"> Layer (type)                    </span>┃<span style=\"font-weight: bold\"> Output Shape           </span>┃<span style=\"font-weight: bold\">       Param # </span>┃\n",
              "┡━━━━━━━━━━━━━━━━━━━━━━━━━━━━━━━━━╇━━━━━━━━━━━━━━━━━━━━━━━━╇━━━━━━━━━━━━━━━┩\n",
              "│ time_distributed_1              │ (<span style=\"color: #00d7ff; text-decoration-color: #00d7ff\">None</span>, <span style=\"color: #00d7ff; text-decoration-color: #00d7ff\">None</span>, <span style=\"color: #00af00; text-decoration-color: #00af00\">47</span>)       │             <span style=\"color: #00af00; text-decoration-color: #00af00\">0</span> │\n",
              "│ (<span style=\"color: #0087ff; text-decoration-color: #0087ff\">TimeDistributed</span>)               │                        │               │\n",
              "├─────────────────────────────────┼────────────────────────┼───────────────┤\n",
              "│ lstm (<span style=\"color: #0087ff; text-decoration-color: #0087ff\">LSTM</span>)                     │ (<span style=\"color: #00d7ff; text-decoration-color: #00d7ff\">None</span>, <span style=\"color: #00d7ff; text-decoration-color: #00d7ff\">None</span>, <span style=\"color: #00af00; text-decoration-color: #00af00\">100</span>)      │        <span style=\"color: #00af00; text-decoration-color: #00af00\">59,200</span> │\n",
              "├─────────────────────────────────┼────────────────────────┼───────────────┤\n",
              "│ dense_1 (<span style=\"color: #0087ff; text-decoration-color: #0087ff\">Dense</span>)                 │ (<span style=\"color: #00d7ff; text-decoration-color: #00d7ff\">None</span>, <span style=\"color: #00d7ff; text-decoration-color: #00d7ff\">None</span>, <span style=\"color: #00af00; text-decoration-color: #00af00\">47</span>)       │         <span style=\"color: #00af00; text-decoration-color: #00af00\">4,747</span> │\n",
              "└─────────────────────────────────┴────────────────────────┴───────────────┘\n",
              "</pre>\n"
            ]
          },
          "metadata": {}
        },
        {
          "output_type": "display_data",
          "data": {
            "text/plain": [
              "\u001b[1m Total params: \u001b[0m\u001b[38;5;34m63,947\u001b[0m (249.79 KB)\n"
            ],
            "text/html": [
              "<pre style=\"white-space:pre;overflow-x:auto;line-height:normal;font-family:Menlo,'DejaVu Sans Mono',consolas,'Courier New',monospace\"><span style=\"font-weight: bold\"> Total params: </span><span style=\"color: #00af00; text-decoration-color: #00af00\">63,947</span> (249.79 KB)\n",
              "</pre>\n"
            ]
          },
          "metadata": {}
        },
        {
          "output_type": "display_data",
          "data": {
            "text/plain": [
              "\u001b[1m Trainable params: \u001b[0m\u001b[38;5;34m63,947\u001b[0m (249.79 KB)\n"
            ],
            "text/html": [
              "<pre style=\"white-space:pre;overflow-x:auto;line-height:normal;font-family:Menlo,'DejaVu Sans Mono',consolas,'Courier New',monospace\"><span style=\"font-weight: bold\"> Trainable params: </span><span style=\"color: #00af00; text-decoration-color: #00af00\">63,947</span> (249.79 KB)\n",
              "</pre>\n"
            ]
          },
          "metadata": {}
        },
        {
          "output_type": "display_data",
          "data": {
            "text/plain": [
              "\u001b[1m Non-trainable params: \u001b[0m\u001b[38;5;34m0\u001b[0m (0.00 B)\n"
            ],
            "text/html": [
              "<pre style=\"white-space:pre;overflow-x:auto;line-height:normal;font-family:Menlo,'DejaVu Sans Mono',consolas,'Courier New',monospace\"><span style=\"font-weight: bold\"> Non-trainable params: </span><span style=\"color: #00af00; text-decoration-color: #00af00\">0</span> (0.00 B)\n",
              "</pre>\n"
            ]
          },
          "metadata": {}
        }
      ]
    },
    {
      "cell_type": "code",
      "source": [
        "# GRU\n",
        "model_GRU = Sequential()\n",
        "\n",
        "model_GRU.add(TimeDistributed(CategoryEncoding(num_tokens=vocab_size, output_mode = \"one_hot\"),input_shape=(None,1)))\n",
        "model_GRU.add(GRU(100, return_sequences=True, dropout=0.1, recurrent_dropout=0.1))\n",
        "model_GRU.add(Dense(vocab_size, activation='softmax'))\n",
        "model_GRU.compile(loss='sparse_categorical_crossentropy', optimizer='rmsprop')\n",
        "\n",
        "model_GRU.summary()"
      ],
      "metadata": {
        "colab": {
          "base_uri": "https://localhost:8080/",
          "height": 241
        },
        "id": "4zReiUf2dfZn",
        "outputId": "383c22f4-8217-4977-dc27-9e34ab92d0c3"
      },
      "execution_count": null,
      "outputs": [
        {
          "output_type": "display_data",
          "data": {
            "text/plain": [
              "\u001b[1mModel: \"sequential_2\"\u001b[0m\n"
            ],
            "text/html": [
              "<pre style=\"white-space:pre;overflow-x:auto;line-height:normal;font-family:Menlo,'DejaVu Sans Mono',consolas,'Courier New',monospace\"><span style=\"font-weight: bold\">Model: \"sequential_2\"</span>\n",
              "</pre>\n"
            ]
          },
          "metadata": {}
        },
        {
          "output_type": "display_data",
          "data": {
            "text/plain": [
              "┏━━━━━━━━━━━━━━━━━━━━━━━━━━━━━━━━━┳━━━━━━━━━━━━━━━━━━━━━━━━┳━━━━━━━━━━━━━━━┓\n",
              "┃\u001b[1m \u001b[0m\u001b[1mLayer (type)                   \u001b[0m\u001b[1m \u001b[0m┃\u001b[1m \u001b[0m\u001b[1mOutput Shape          \u001b[0m\u001b[1m \u001b[0m┃\u001b[1m \u001b[0m\u001b[1m      Param #\u001b[0m\u001b[1m \u001b[0m┃\n",
              "┡━━━━━━━━━━━━━━━━━━━━━━━━━━━━━━━━━╇━━━━━━━━━━━━━━━━━━━━━━━━╇━━━━━━━━━━━━━━━┩\n",
              "│ time_distributed_2              │ (\u001b[38;5;45mNone\u001b[0m, \u001b[38;5;45mNone\u001b[0m, \u001b[38;5;34m47\u001b[0m)       │             \u001b[38;5;34m0\u001b[0m │\n",
              "│ (\u001b[38;5;33mTimeDistributed\u001b[0m)               │                        │               │\n",
              "├─────────────────────────────────┼────────────────────────┼───────────────┤\n",
              "│ gru (\u001b[38;5;33mGRU\u001b[0m)                       │ (\u001b[38;5;45mNone\u001b[0m, \u001b[38;5;45mNone\u001b[0m, \u001b[38;5;34m100\u001b[0m)      │        \u001b[38;5;34m44,700\u001b[0m │\n",
              "├─────────────────────────────────┼────────────────────────┼───────────────┤\n",
              "│ dense_2 (\u001b[38;5;33mDense\u001b[0m)                 │ (\u001b[38;5;45mNone\u001b[0m, \u001b[38;5;45mNone\u001b[0m, \u001b[38;5;34m47\u001b[0m)       │         \u001b[38;5;34m4,747\u001b[0m │\n",
              "└─────────────────────────────────┴────────────────────────┴───────────────┘\n"
            ],
            "text/html": [
              "<pre style=\"white-space:pre;overflow-x:auto;line-height:normal;font-family:Menlo,'DejaVu Sans Mono',consolas,'Courier New',monospace\">┏━━━━━━━━━━━━━━━━━━━━━━━━━━━━━━━━━┳━━━━━━━━━━━━━━━━━━━━━━━━┳━━━━━━━━━━━━━━━┓\n",
              "┃<span style=\"font-weight: bold\"> Layer (type)                    </span>┃<span style=\"font-weight: bold\"> Output Shape           </span>┃<span style=\"font-weight: bold\">       Param # </span>┃\n",
              "┡━━━━━━━━━━━━━━━━━━━━━━━━━━━━━━━━━╇━━━━━━━━━━━━━━━━━━━━━━━━╇━━━━━━━━━━━━━━━┩\n",
              "│ time_distributed_2              │ (<span style=\"color: #00d7ff; text-decoration-color: #00d7ff\">None</span>, <span style=\"color: #00d7ff; text-decoration-color: #00d7ff\">None</span>, <span style=\"color: #00af00; text-decoration-color: #00af00\">47</span>)       │             <span style=\"color: #00af00; text-decoration-color: #00af00\">0</span> │\n",
              "│ (<span style=\"color: #0087ff; text-decoration-color: #0087ff\">TimeDistributed</span>)               │                        │               │\n",
              "├─────────────────────────────────┼────────────────────────┼───────────────┤\n",
              "│ gru (<span style=\"color: #0087ff; text-decoration-color: #0087ff\">GRU</span>)                       │ (<span style=\"color: #00d7ff; text-decoration-color: #00d7ff\">None</span>, <span style=\"color: #00d7ff; text-decoration-color: #00d7ff\">None</span>, <span style=\"color: #00af00; text-decoration-color: #00af00\">100</span>)      │        <span style=\"color: #00af00; text-decoration-color: #00af00\">44,700</span> │\n",
              "├─────────────────────────────────┼────────────────────────┼───────────────┤\n",
              "│ dense_2 (<span style=\"color: #0087ff; text-decoration-color: #0087ff\">Dense</span>)                 │ (<span style=\"color: #00d7ff; text-decoration-color: #00d7ff\">None</span>, <span style=\"color: #00d7ff; text-decoration-color: #00d7ff\">None</span>, <span style=\"color: #00af00; text-decoration-color: #00af00\">47</span>)       │         <span style=\"color: #00af00; text-decoration-color: #00af00\">4,747</span> │\n",
              "└─────────────────────────────────┴────────────────────────┴───────────────┘\n",
              "</pre>\n"
            ]
          },
          "metadata": {}
        },
        {
          "output_type": "display_data",
          "data": {
            "text/plain": [
              "\u001b[1m Total params: \u001b[0m\u001b[38;5;34m49,447\u001b[0m (193.15 KB)\n"
            ],
            "text/html": [
              "<pre style=\"white-space:pre;overflow-x:auto;line-height:normal;font-family:Menlo,'DejaVu Sans Mono',consolas,'Courier New',monospace\"><span style=\"font-weight: bold\"> Total params: </span><span style=\"color: #00af00; text-decoration-color: #00af00\">49,447</span> (193.15 KB)\n",
              "</pre>\n"
            ]
          },
          "metadata": {}
        },
        {
          "output_type": "display_data",
          "data": {
            "text/plain": [
              "\u001b[1m Trainable params: \u001b[0m\u001b[38;5;34m49,447\u001b[0m (193.15 KB)\n"
            ],
            "text/html": [
              "<pre style=\"white-space:pre;overflow-x:auto;line-height:normal;font-family:Menlo,'DejaVu Sans Mono',consolas,'Courier New',monospace\"><span style=\"font-weight: bold\"> Trainable params: </span><span style=\"color: #00af00; text-decoration-color: #00af00\">49,447</span> (193.15 KB)\n",
              "</pre>\n"
            ]
          },
          "metadata": {}
        },
        {
          "output_type": "display_data",
          "data": {
            "text/plain": [
              "\u001b[1m Non-trainable params: \u001b[0m\u001b[38;5;34m0\u001b[0m (0.00 B)\n"
            ],
            "text/html": [
              "<pre style=\"white-space:pre;overflow-x:auto;line-height:normal;font-family:Menlo,'DejaVu Sans Mono',consolas,'Courier New',monospace\"><span style=\"font-weight: bold\"> Non-trainable params: </span><span style=\"color: #00af00; text-decoration-color: #00af00\">0</span> (0.00 B)\n",
              "</pre>\n"
            ]
          },
          "metadata": {}
        }
      ]
    },
    {
      "cell_type": "markdown",
      "metadata": {
        "id": "YWK3z85sQfUe"
      },
      "source": [
        "Dado que por el momento no hay implementaciones adecuadas de la perplejidad que puedan operar en tiempo de entrenamiento, armaremos un Callback *ad-hoc* que la calcule en cada epoch."
      ]
    },
    {
      "cell_type": "code",
      "execution_count": null,
      "metadata": {
        "id": "zUHX3r5JD-MG"
      },
      "outputs": [],
      "source": [
        "class PplCallback(keras.callbacks.Callback):\n",
        "\n",
        "    '''\n",
        "    Este callback es una solución ad-hoc para calcular al final de cada epoch de\n",
        "    entrenamiento la métrica de Perplejidad sobre un conjunto de datos de validación.\n",
        "    La perplejidad es una métrica cuantitativa para evaluar la calidad de la generación de secuencias.\n",
        "    Además implementa la finalización del entrenamiento (Early Stopping)\n",
        "    si la perplejidad no mejora después de `patience` epochs.\n",
        "    '''\n",
        "\n",
        "    def __init__(self, val_data, history_ppl, model_name, patience=5):\n",
        "      # El callback lo inicializamos con secuencias de validación sobre las cuales\n",
        "      # mediremos la perplejidad\n",
        "      self.val_data = val_data\n",
        "\n",
        "      self.target = []\n",
        "      self.padded = []\n",
        "\n",
        "      count = 0\n",
        "      self.info = []\n",
        "      self.history_ppl = history_ppl\n",
        "      self.min_score = np.inf\n",
        "      self.patience_counter = 0\n",
        "      self.patience = patience\n",
        "      self.model_name = model_name\n",
        "\n",
        "      # nos movemos en todas las secuencias de los datos de validación\n",
        "      for seq in self.val_data:\n",
        "\n",
        "        len_seq = len(seq)\n",
        "        # armamos todas las subsecuencias\n",
        "        subseq = [seq[:i] for i in range(1,len_seq)]\n",
        "        self.target.extend([seq[i] for i in range(1,len_seq)])\n",
        "\n",
        "        if len(subseq)!=0:\n",
        "\n",
        "          self.padded.append(pad_sequences(subseq, maxlen=max_context_size, padding='pre'))\n",
        "\n",
        "          self.info.append((count,count+len_seq))\n",
        "          count += len_seq\n",
        "\n",
        "      self.padded = np.vstack(self.padded)\n",
        "\n",
        "\n",
        "    def on_epoch_end(self, epoch, logs=None):\n",
        "\n",
        "        # en `scores` iremos guardando la perplejidad de cada secuencia\n",
        "        scores = []\n",
        "\n",
        "        predictions = self.model.predict(self.padded,verbose=0)\n",
        "\n",
        "        # para cada secuencia de validación\n",
        "        for start,end in self.info:\n",
        "\n",
        "          # en `probs` iremos guardando las probabilidades de los términos target\n",
        "          probs = [predictions[idx_seq,-1,idx_vocab] for idx_seq, idx_vocab in zip(range(start,end),self.target[start:end])]\n",
        "\n",
        "          # calculamos la perplejidad por medio de logaritmos\n",
        "          scores.append(np.exp(-np.sum(np.log(probs))/(end-start)))\n",
        "\n",
        "        # promediamos todos los scores e imprimimos el valor promedio\n",
        "        current_score = np.mean(scores)\n",
        "        self.history_ppl.append(current_score)\n",
        "        print(f'\\n mean perplexity: {current_score} \\n')\n",
        "\n",
        "        # chequeamos si tenemos que detener el entrenamiento\n",
        "        if current_score < self.min_score:\n",
        "          self.min_score = current_score\n",
        "          self.model.save(f'{self.model_name}.keras')\n",
        "          print(\"Saved new model!\")\n",
        "          self.patience_counter = 0\n",
        "        else:\n",
        "          self.patience_counter += 1\n",
        "          if self.patience_counter == self.patience:\n",
        "            print(\"Stopping training...\")\n",
        "            self.model.stop_training = True"
      ]
    },
    {
      "cell_type": "code",
      "source": [
        "epochs = 15"
      ],
      "metadata": {
        "id": "zNRNObrnfyHE"
      },
      "execution_count": null,
      "outputs": []
    },
    {
      "cell_type": "code",
      "execution_count": null,
      "metadata": {
        "id": "oQq1PHDkxDvN",
        "colab": {
          "base_uri": "https://localhost:8080/"
        },
        "outputId": "ab2e385c-2736-409f-aba9-541b3a118380"
      },
      "outputs": [
        {
          "output_type": "stream",
          "name": "stdout",
          "text": [
            "Epoch 1/15\n",
            "\u001b[1m1406/1406\u001b[0m \u001b[32m━━━━━━━━━━━━━━━━━━━━\u001b[0m\u001b[37m\u001b[0m \u001b[1m0s\u001b[0m 16ms/step - loss: 2.3903\n",
            " mean perplexity: 6.319409567507068 \n",
            "\n",
            "Saved new model!\n",
            "\u001b[1m1406/1406\u001b[0m \u001b[32m━━━━━━━━━━━━━━━━━━━━\u001b[0m\u001b[37m\u001b[0m \u001b[1m53s\u001b[0m 31ms/step - loss: 2.3902\n",
            "Epoch 2/15\n",
            "\u001b[1m1404/1406\u001b[0m \u001b[32m━━━━━━━━━━━━━━━━━━━\u001b[0m\u001b[37m━\u001b[0m \u001b[1m0s\u001b[0m 14ms/step - loss: 1.9437\n",
            " mean perplexity: 5.381675513545472 \n",
            "\n",
            "Saved new model!\n",
            "\u001b[1m1406/1406\u001b[0m \u001b[32m━━━━━━━━━━━━━━━━━━━━\u001b[0m\u001b[37m\u001b[0m \u001b[1m75s\u001b[0m 29ms/step - loss: 1.9436\n",
            "Epoch 3/15\n",
            "\u001b[1m1404/1406\u001b[0m \u001b[32m━━━━━━━━━━━━━━━━━━━\u001b[0m\u001b[37m━\u001b[0m \u001b[1m0s\u001b[0m 14ms/step - loss: 1.8419\n",
            " mean perplexity: 5.05717811632396 \n",
            "\n",
            "Saved new model!\n",
            "\u001b[1m1406/1406\u001b[0m \u001b[32m━━━━━━━━━━━━━━━━━━━━\u001b[0m\u001b[37m\u001b[0m \u001b[1m31s\u001b[0m 22ms/step - loss: 1.8418\n",
            "Epoch 4/15\n",
            "\u001b[1m1404/1406\u001b[0m \u001b[32m━━━━━━━━━━━━━━━━━━━\u001b[0m\u001b[37m━\u001b[0m \u001b[1m0s\u001b[0m 14ms/step - loss: 1.7962\n",
            " mean perplexity: 4.778108146322433 \n",
            "\n",
            "Saved new model!\n",
            "\u001b[1m1406/1406\u001b[0m \u001b[32m━━━━━━━━━━━━━━━━━━━━\u001b[0m\u001b[37m\u001b[0m \u001b[1m31s\u001b[0m 22ms/step - loss: 1.7962\n",
            "Epoch 5/15\n",
            "\u001b[1m1403/1406\u001b[0m \u001b[32m━━━━━━━━━━━━━━━━━━━\u001b[0m\u001b[37m━\u001b[0m \u001b[1m0s\u001b[0m 14ms/step - loss: 1.7692\n",
            " mean perplexity: 4.677096918599689 \n",
            "\n",
            "Saved new model!\n",
            "\u001b[1m1406/1406\u001b[0m \u001b[32m━━━━━━━━━━━━━━━━━━━━\u001b[0m\u001b[37m\u001b[0m \u001b[1m31s\u001b[0m 22ms/step - loss: 1.7692\n",
            "Epoch 6/15\n",
            "\u001b[1m1405/1406\u001b[0m \u001b[32m━━━━━━━━━━━━━━━━━━━\u001b[0m\u001b[37m━\u001b[0m \u001b[1m0s\u001b[0m 14ms/step - loss: 1.7512\n",
            " mean perplexity: 4.636704028551303 \n",
            "\n",
            "Saved new model!\n",
            "\u001b[1m1406/1406\u001b[0m \u001b[32m━━━━━━━━━━━━━━━━━━━━\u001b[0m\u001b[37m\u001b[0m \u001b[1m50s\u001b[0m 29ms/step - loss: 1.7512\n",
            "Epoch 7/15\n",
            "\u001b[1m1405/1406\u001b[0m \u001b[32m━━━━━━━━━━━━━━━━━━━\u001b[0m\u001b[37m━\u001b[0m \u001b[1m0s\u001b[0m 14ms/step - loss: 1.7391\n",
            " mean perplexity: 4.56726843627853 \n",
            "\n",
            "Saved new model!\n",
            "\u001b[1m1406/1406\u001b[0m \u001b[32m━━━━━━━━━━━━━━━━━━━━\u001b[0m\u001b[37m\u001b[0m \u001b[1m31s\u001b[0m 21ms/step - loss: 1.7391\n",
            "Epoch 8/15\n",
            "\u001b[1m1406/1406\u001b[0m \u001b[32m━━━━━━━━━━━━━━━━━━━━\u001b[0m\u001b[37m\u001b[0m \u001b[1m0s\u001b[0m 14ms/step - loss: 1.7289\n",
            " mean perplexity: 4.479234887726942 \n",
            "\n",
            "Saved new model!\n",
            "\u001b[1m1406/1406\u001b[0m \u001b[32m━━━━━━━━━━━━━━━━━━━━\u001b[0m\u001b[37m\u001b[0m \u001b[1m32s\u001b[0m 23ms/step - loss: 1.7289\n",
            "Epoch 9/15\n",
            "\u001b[1m1406/1406\u001b[0m \u001b[32m━━━━━━━━━━━━━━━━━━━━\u001b[0m\u001b[37m\u001b[0m \u001b[1m0s\u001b[0m 14ms/step - loss: 1.7218\n",
            " mean perplexity: 4.48045821645152 \n",
            "\n",
            "\u001b[1m1406/1406\u001b[0m \u001b[32m━━━━━━━━━━━━━━━━━━━━\u001b[0m\u001b[37m\u001b[0m \u001b[1m40s\u001b[0m 28ms/step - loss: 1.7218\n",
            "Epoch 10/15\n",
            "\u001b[1m1405/1406\u001b[0m \u001b[32m━━━━━━━━━━━━━━━━━━━\u001b[0m\u001b[37m━\u001b[0m \u001b[1m0s\u001b[0m 14ms/step - loss: 1.7161\n",
            " mean perplexity: 4.473284577005472 \n",
            "\n",
            "Saved new model!\n",
            "\u001b[1m1406/1406\u001b[0m \u001b[32m━━━━━━━━━━━━━━━━━━━━\u001b[0m\u001b[37m\u001b[0m \u001b[1m30s\u001b[0m 22ms/step - loss: 1.7161\n",
            "Epoch 11/15\n",
            "\u001b[1m1406/1406\u001b[0m \u001b[32m━━━━━━━━━━━━━━━━━━━━\u001b[0m\u001b[37m\u001b[0m \u001b[1m0s\u001b[0m 14ms/step - loss: 1.7115\n",
            " mean perplexity: 4.420477151271686 \n",
            "\n",
            "Saved new model!\n",
            "\u001b[1m1406/1406\u001b[0m \u001b[32m━━━━━━━━━━━━━━━━━━━━\u001b[0m\u001b[37m\u001b[0m \u001b[1m51s\u001b[0m 29ms/step - loss: 1.7115\n",
            "Epoch 12/15\n",
            "\u001b[1m1404/1406\u001b[0m \u001b[32m━━━━━━━━━━━━━━━━━━━\u001b[0m\u001b[37m━\u001b[0m \u001b[1m0s\u001b[0m 14ms/step - loss: 1.7070\n",
            " mean perplexity: 4.417323807376114 \n",
            "\n",
            "Saved new model!\n",
            "\u001b[1m1406/1406\u001b[0m \u001b[32m━━━━━━━━━━━━━━━━━━━━\u001b[0m\u001b[37m\u001b[0m \u001b[1m40s\u001b[0m 29ms/step - loss: 1.7070\n",
            "Epoch 13/15\n",
            "\u001b[1m1405/1406\u001b[0m \u001b[32m━━━━━━━━━━━━━━━━━━━\u001b[0m\u001b[37m━\u001b[0m \u001b[1m0s\u001b[0m 14ms/step - loss: 1.7024\n",
            " mean perplexity: 4.411983208440656 \n",
            "\n",
            "Saved new model!\n",
            "\u001b[1m1406/1406\u001b[0m \u001b[32m━━━━━━━━━━━━━━━━━━━━\u001b[0m\u001b[37m\u001b[0m \u001b[1m31s\u001b[0m 22ms/step - loss: 1.7024\n",
            "Epoch 14/15\n",
            "\u001b[1m1404/1406\u001b[0m \u001b[32m━━━━━━━━━━━━━━━━━━━\u001b[0m\u001b[37m━\u001b[0m \u001b[1m0s\u001b[0m 14ms/step - loss: 1.7004\n",
            " mean perplexity: 4.3705374853095815 \n",
            "\n",
            "Saved new model!\n",
            "\u001b[1m1406/1406\u001b[0m \u001b[32m━━━━━━━━━━━━━━━━━━━━\u001b[0m\u001b[37m\u001b[0m \u001b[1m40s\u001b[0m 29ms/step - loss: 1.7004\n",
            "Epoch 15/15\n",
            "\u001b[1m1405/1406\u001b[0m \u001b[32m━━━━━━━━━━━━━━━━━━━\u001b[0m\u001b[37m━\u001b[0m \u001b[1m0s\u001b[0m 14ms/step - loss: 1.6968\n",
            " mean perplexity: 4.403997830410099 \n",
            "\n",
            "\u001b[1m1406/1406\u001b[0m \u001b[32m━━━━━━━━━━━━━━━━━━━━\u001b[0m\u001b[37m\u001b[0m \u001b[1m41s\u001b[0m 29ms/step - loss: 1.6968\n",
            "Tiempo de entrenamiento (SimpleRNN): 609.10 segundos\n"
          ]
        }
      ],
      "source": [
        "start_time = time.time()\n",
        "\n",
        "history_ppl_simpleRNN = []\n",
        "hist_simpleRNN = model_simpleRNN.fit(X, y, epochs=epochs, callbacks=[PplCallback(tokenized_sentences_val,history_ppl_simpleRNN, model_name='model_simpleRNN')], batch_size=256)\n",
        "\n",
        "end_time = time.time()\n",
        "elapsed_time = end_time - start_time\n",
        "\n",
        "print(f\"Tiempo de entrenamiento (SimpleRNN): {elapsed_time:.2f} segundos\")"
      ]
    },
    {
      "cell_type": "code",
      "source": [
        "start_time = time.time()\n",
        "\n",
        "history_ppl_LSTM = []\n",
        "hist_LSTM = model_LSTM.fit(X, y, epochs=epochs, callbacks=[PplCallback(tokenized_sentences_val,history_ppl_LSTM, model_name='model_LSTM')], batch_size=256)\n",
        "\n",
        "end_time = time.time()\n",
        "elapsed_time = end_time - start_time\n",
        "\n",
        "print(f\"Tiempo de entrenamiento (LSTM): {elapsed_time:.2f} segundos\")"
      ],
      "metadata": {
        "colab": {
          "base_uri": "https://localhost:8080/"
        },
        "id": "LMK3kxBUeHt8",
        "outputId": "f3110a4d-757f-404f-9a31-714d206fd3f9"
      },
      "execution_count": null,
      "outputs": [
        {
          "output_type": "stream",
          "name": "stdout",
          "text": [
            "Epoch 1/15\n",
            "\u001b[1m1406/1406\u001b[0m \u001b[32m━━━━━━━━━━━━━━━━━━━━\u001b[0m\u001b[37m\u001b[0m \u001b[1m0s\u001b[0m 275ms/step - loss: 2.6777\n",
            " mean perplexity: 8.479349522135365 \n",
            "\n",
            "Saved new model!\n",
            "\u001b[1m1406/1406\u001b[0m \u001b[32m━━━━━━━━━━━━━━━━━━━━\u001b[0m\u001b[37m\u001b[0m \u001b[1m598s\u001b[0m 418ms/step - loss: 2.6775\n",
            "Epoch 2/15\n",
            "\u001b[1m1406/1406\u001b[0m \u001b[32m━━━━━━━━━━━━━━━━━━━━\u001b[0m\u001b[37m\u001b[0m \u001b[1m0s\u001b[0m 274ms/step - loss: 2.1436\n",
            " mean perplexity: 7.599021539616225 \n",
            "\n",
            "Saved new model!\n",
            "\u001b[1m1406/1406\u001b[0m \u001b[32m━━━━━━━━━━━━━━━━━━━━\u001b[0m\u001b[37m\u001b[0m \u001b[1m560s\u001b[0m 376ms/step - loss: 2.1436\n",
            "Epoch 3/15\n",
            "\u001b[1m1406/1406\u001b[0m \u001b[32m━━━━━━━━━━━━━━━━━━━━\u001b[0m\u001b[37m\u001b[0m \u001b[1m0s\u001b[0m 273ms/step - loss: 2.0554\n",
            " mean perplexity: 7.064778404020185 \n",
            "\n",
            "Saved new model!\n",
            "\u001b[1m1406/1406\u001b[0m \u001b[32m━━━━━━━━━━━━━━━━━━━━\u001b[0m\u001b[37m\u001b[0m \u001b[1m560s\u001b[0m 375ms/step - loss: 2.0554\n",
            "Epoch 4/15\n",
            "\u001b[1m1406/1406\u001b[0m \u001b[32m━━━━━━━━━━━━━━━━━━━━\u001b[0m\u001b[37m\u001b[0m \u001b[1m0s\u001b[0m 272ms/step - loss: 1.9983\n",
            " mean perplexity: 6.7373329257246235 \n",
            "\n",
            "Saved new model!\n",
            "\u001b[1m1406/1406\u001b[0m \u001b[32m━━━━━━━━━━━━━━━━━━━━\u001b[0m\u001b[37m\u001b[0m \u001b[1m559s\u001b[0m 373ms/step - loss: 1.9983\n",
            "Epoch 5/15\n",
            "\u001b[1m1406/1406\u001b[0m \u001b[32m━━━━━━━━━━━━━━━━━━━━\u001b[0m\u001b[37m\u001b[0m \u001b[1m0s\u001b[0m 272ms/step - loss: 1.9500\n",
            " mean perplexity: 6.376341280625693 \n",
            "\n",
            "Saved new model!\n",
            "\u001b[1m1406/1406\u001b[0m \u001b[32m━━━━━━━━━━━━━━━━━━━━\u001b[0m\u001b[37m\u001b[0m \u001b[1m622s\u001b[0m 416ms/step - loss: 1.9500\n",
            "Epoch 6/15\n",
            "\u001b[1m1406/1406\u001b[0m \u001b[32m━━━━━━━━━━━━━━━━━━━━\u001b[0m\u001b[37m\u001b[0m \u001b[1m0s\u001b[0m 271ms/step - loss: 1.9113\n",
            " mean perplexity: 6.143999129683528 \n",
            "\n",
            "Saved new model!\n",
            "\u001b[1m1406/1406\u001b[0m \u001b[32m━━━━━━━━━━━━━━━━━━━━\u001b[0m\u001b[37m\u001b[0m \u001b[1m561s\u001b[0m 373ms/step - loss: 1.9112\n",
            "Epoch 7/15\n",
            "\u001b[1m1406/1406\u001b[0m \u001b[32m━━━━━━━━━━━━━━━━━━━━\u001b[0m\u001b[37m\u001b[0m \u001b[1m0s\u001b[0m 275ms/step - loss: 1.8795\n",
            " mean perplexity: 5.91661923015537 \n",
            "\n",
            "Saved new model!\n",
            "\u001b[1m1406/1406\u001b[0m \u001b[32m━━━━━━━━━━━━━━━━━━━━\u001b[0m\u001b[37m\u001b[0m \u001b[1m567s\u001b[0m 376ms/step - loss: 1.8795\n",
            "Epoch 8/15\n",
            "\u001b[1m1406/1406\u001b[0m \u001b[32m━━━━━━━━━━━━━━━━━━━━\u001b[0m\u001b[37m\u001b[0m \u001b[1m0s\u001b[0m 276ms/step - loss: 1.8528\n",
            " mean perplexity: 5.75930363808445 \n",
            "\n",
            "Saved new model!\n",
            "\u001b[1m1406/1406\u001b[0m \u001b[32m━━━━━━━━━━━━━━━━━━━━\u001b[0m\u001b[37m\u001b[0m \u001b[1m623s\u001b[0m 420ms/step - loss: 1.8528\n",
            "Epoch 9/15\n",
            "\u001b[1m1406/1406\u001b[0m \u001b[32m━━━━━━━━━━━━━━━━━━━━\u001b[0m\u001b[37m\u001b[0m \u001b[1m0s\u001b[0m 272ms/step - loss: 1.8324\n",
            " mean perplexity: 5.611981661475483 \n",
            "\n",
            "Saved new model!\n",
            "\u001b[1m1406/1406\u001b[0m \u001b[32m━━━━━━━━━━━━━━━━━━━━\u001b[0m\u001b[37m\u001b[0m \u001b[1m558s\u001b[0m 374ms/step - loss: 1.8324\n",
            "Epoch 10/15\n",
            "\u001b[1m1406/1406\u001b[0m \u001b[32m━━━━━━━━━━━━━━━━━━━━\u001b[0m\u001b[37m\u001b[0m \u001b[1m0s\u001b[0m 273ms/step - loss: 1.8157\n",
            " mean perplexity: 5.677730904152645 \n",
            "\n",
            "\u001b[1m1406/1406\u001b[0m \u001b[32m━━━━━━━━━━━━━━━━━━━━\u001b[0m\u001b[37m\u001b[0m \u001b[1m565s\u001b[0m 376ms/step - loss: 1.8157\n",
            "Epoch 11/15\n",
            "\u001b[1m1406/1406\u001b[0m \u001b[32m━━━━━━━━━━━━━━━━━━━━\u001b[0m\u001b[37m\u001b[0m \u001b[1m0s\u001b[0m 275ms/step - loss: 1.8032\n",
            " mean perplexity: 5.6038507882075095 \n",
            "\n",
            "Saved new model!\n",
            "\u001b[1m1406/1406\u001b[0m \u001b[32m━━━━━━━━━━━━━━━━━━━━\u001b[0m\u001b[37m\u001b[0m \u001b[1m563s\u001b[0m 377ms/step - loss: 1.8032\n",
            "Epoch 12/15\n",
            "\u001b[1m1406/1406\u001b[0m \u001b[32m━━━━━━━━━━━━━━━━━━━━\u001b[0m\u001b[37m\u001b[0m \u001b[1m0s\u001b[0m 277ms/step - loss: 1.7915\n",
            " mean perplexity: 5.541158471874256 \n",
            "\n",
            "Saved new model!\n",
            "\u001b[1m1406/1406\u001b[0m \u001b[32m━━━━━━━━━━━━━━━━━━━━\u001b[0m\u001b[37m\u001b[0m \u001b[1m623s\u001b[0m 421ms/step - loss: 1.7915\n",
            "Epoch 13/15\n",
            "\u001b[1m1406/1406\u001b[0m \u001b[32m━━━━━━━━━━━━━━━━━━━━\u001b[0m\u001b[37m\u001b[0m \u001b[1m0s\u001b[0m 271ms/step - loss: 1.7815\n",
            " mean perplexity: 5.484626130243043 \n",
            "\n",
            "Saved new model!\n",
            "\u001b[1m1406/1406\u001b[0m \u001b[32m━━━━━━━━━━━━━━━━━━━━\u001b[0m\u001b[37m\u001b[0m \u001b[1m554s\u001b[0m 372ms/step - loss: 1.7815\n",
            "Epoch 14/15\n",
            "\u001b[1m1406/1406\u001b[0m \u001b[32m━━━━━━━━━━━━━━━━━━━━\u001b[0m\u001b[37m\u001b[0m \u001b[1m0s\u001b[0m 271ms/step - loss: 1.7719\n",
            " mean perplexity: 5.416250009033548 \n",
            "\n",
            "Saved new model!\n",
            "\u001b[1m1406/1406\u001b[0m \u001b[32m━━━━━━━━━━━━━━━━━━━━\u001b[0m\u001b[37m\u001b[0m \u001b[1m567s\u001b[0m 375ms/step - loss: 1.7719\n",
            "Epoch 15/15\n",
            "\u001b[1m1406/1406\u001b[0m \u001b[32m━━━━━━━━━━━━━━━━━━━━\u001b[0m\u001b[37m\u001b[0m \u001b[1m0s\u001b[0m 270ms/step - loss: 1.7638\n",
            " mean perplexity: 5.411422757647145 \n",
            "\n",
            "Saved new model!\n",
            "\u001b[1m1406/1406\u001b[0m \u001b[32m━━━━━━━━━━━━━━━━━━━━\u001b[0m\u001b[37m\u001b[0m \u001b[1m582s\u001b[0m 414ms/step - loss: 1.7638\n",
            "Tiempo de entrenamiento (LSTM): 8662.18 segundos\n"
          ]
        }
      ]
    },
    {
      "cell_type": "code",
      "source": [
        "start_time = time.time()\n",
        "\n",
        "history_ppl_GRU = []\n",
        "hist_GRU = model_GRU.fit(X, y, epochs=epochs, callbacks=[PplCallback(tokenized_sentences_val,history_ppl_GRU, model_name='model_GRU')], batch_size=256)\n",
        "\n",
        "end_time = time.time()\n",
        "elapsed_time = end_time - start_time\n",
        "\n",
        "print(f\"Tiempo de entrenamiento (GRU): {elapsed_time:.2f} segundos\")"
      ],
      "metadata": {
        "colab": {
          "base_uri": "https://localhost:8080/"
        },
        "id": "dxH-e_NGeH-3",
        "outputId": "87ad2ff6-e56e-471d-b1c8-cf62196c118c"
      },
      "execution_count": null,
      "outputs": [
        {
          "output_type": "stream",
          "name": "stdout",
          "text": [
            "Epoch 1/15\n",
            "\u001b[1m1406/1406\u001b[0m \u001b[32m━━━━━━━━━━━━━━━━━━━━\u001b[0m\u001b[37m\u001b[0m \u001b[1m0s\u001b[0m 257ms/step - loss: 2.5088\n",
            " mean perplexity: 6.954186821702737 \n",
            "\n",
            "Saved new model!\n",
            "\u001b[1m1406/1406\u001b[0m \u001b[32m━━━━━━━━━━━━━━━━━━━━\u001b[0m\u001b[37m\u001b[0m \u001b[1m524s\u001b[0m 368ms/step - loss: 2.5086\n",
            "Epoch 2/15\n",
            "\u001b[1m1406/1406\u001b[0m \u001b[32m━━━━━━━━━━━━━━━━━━━━\u001b[0m\u001b[37m\u001b[0m \u001b[1m0s\u001b[0m 256ms/step - loss: 1.9538\n",
            " mean perplexity: 5.831301128444959 \n",
            "\n",
            "Saved new model!\n",
            "\u001b[1m1406/1406\u001b[0m \u001b[32m━━━━━━━━━━━━━━━━━━━━\u001b[0m\u001b[37m\u001b[0m \u001b[1m607s\u001b[0m 400ms/step - loss: 1.9538\n",
            "Epoch 3/15\n",
            "\u001b[1m1406/1406\u001b[0m \u001b[32m━━━━━━━━━━━━━━━━━━━━\u001b[0m\u001b[37m\u001b[0m \u001b[1m0s\u001b[0m 261ms/step - loss: 1.8304\n",
            " mean perplexity: 5.36371076047121 \n",
            "\n",
            "Saved new model!\n",
            "\u001b[1m1406/1406\u001b[0m \u001b[32m━━━━━━━━━━━━━━━━━━━━\u001b[0m\u001b[37m\u001b[0m \u001b[1m583s\u001b[0m 372ms/step - loss: 1.8304\n",
            "Epoch 4/15\n",
            "\u001b[1m1406/1406\u001b[0m \u001b[32m━━━━━━━━━━━━━━━━━━━━\u001b[0m\u001b[37m\u001b[0m \u001b[1m0s\u001b[0m 263ms/step - loss: 1.7674\n",
            " mean perplexity: 5.126094857052942 \n",
            "\n",
            "Saved new model!\n",
            "\u001b[1m1406/1406\u001b[0m \u001b[32m━━━━━━━━━━━━━━━━━━━━\u001b[0m\u001b[37m\u001b[0m \u001b[1m571s\u001b[0m 406ms/step - loss: 1.7674\n",
            "Epoch 5/15\n",
            "\u001b[1m1406/1406\u001b[0m \u001b[32m━━━━━━━━━━━━━━━━━━━━\u001b[0m\u001b[37m\u001b[0m \u001b[1m0s\u001b[0m 264ms/step - loss: 1.7277\n",
            " mean perplexity: 4.972419513529869 \n",
            "\n",
            "Saved new model!\n",
            "\u001b[1m1406/1406\u001b[0m \u001b[32m━━━━━━━━━━━━━━━━━━━━\u001b[0m\u001b[37m\u001b[0m \u001b[1m575s\u001b[0m 373ms/step - loss: 1.7277\n",
            "Epoch 6/15\n",
            "\u001b[1m1406/1406\u001b[0m \u001b[32m━━━━━━━━━━━━━━━━━━━━\u001b[0m\u001b[37m\u001b[0m \u001b[1m0s\u001b[0m 263ms/step - loss: 1.6991\n",
            " mean perplexity: 4.84796781396147 \n",
            "\n",
            "Saved new model!\n",
            "\u001b[1m1406/1406\u001b[0m \u001b[32m━━━━━━━━━━━━━━━━━━━━\u001b[0m\u001b[37m\u001b[0m \u001b[1m562s\u001b[0m 373ms/step - loss: 1.6991\n",
            "Epoch 7/15\n",
            "\u001b[1m1406/1406\u001b[0m \u001b[32m━━━━━━━━━━━━━━━━━━━━\u001b[0m\u001b[37m\u001b[0m \u001b[1m0s\u001b[0m 260ms/step - loss: 1.6772\n",
            " mean perplexity: 4.738827118921519 \n",
            "\n",
            "Saved new model!\n",
            "\u001b[1m1406/1406\u001b[0m \u001b[32m━━━━━━━━━━━━━━━━━━━━\u001b[0m\u001b[37m\u001b[0m \u001b[1m556s\u001b[0m 369ms/step - loss: 1.6772\n",
            "Epoch 8/15\n",
            "\u001b[1m1406/1406\u001b[0m \u001b[32m━━━━━━━━━━━━━━━━━━━━\u001b[0m\u001b[37m\u001b[0m \u001b[1m0s\u001b[0m 259ms/step - loss: 1.6597\n",
            " mean perplexity: 4.642534175110821 \n",
            "\n",
            "Saved new model!\n",
            "\u001b[1m1406/1406\u001b[0m \u001b[32m━━━━━━━━━━━━━━━━━━━━\u001b[0m\u001b[37m\u001b[0m \u001b[1m567s\u001b[0m 403ms/step - loss: 1.6597\n",
            "Epoch 9/15\n",
            "\u001b[1m1406/1406\u001b[0m \u001b[32m━━━━━━━━━━━━━━━━━━━━\u001b[0m\u001b[37m\u001b[0m \u001b[1m0s\u001b[0m 267ms/step - loss: 1.6459\n",
            " mean perplexity: 4.572560078534648 \n",
            "\n",
            "Saved new model!\n",
            "\u001b[1m1406/1406\u001b[0m \u001b[32m━━━━━━━━━━━━━━━━━━━━\u001b[0m\u001b[37m\u001b[0m \u001b[1m581s\u001b[0m 374ms/step - loss: 1.6459\n",
            "Epoch 10/15\n",
            "\u001b[1m1406/1406\u001b[0m \u001b[32m━━━━━━━━━━━━━━━━━━━━\u001b[0m\u001b[37m\u001b[0m \u001b[1m0s\u001b[0m 256ms/step - loss: 1.6339\n",
            " mean perplexity: 4.52054113179595 \n",
            "\n",
            "Saved new model!\n",
            "\u001b[1m1406/1406\u001b[0m \u001b[32m━━━━━━━━━━━━━━━━━━━━\u001b[0m\u001b[37m\u001b[0m \u001b[1m598s\u001b[0m 400ms/step - loss: 1.6339\n",
            "Epoch 11/15\n",
            "\u001b[1m1406/1406\u001b[0m \u001b[32m━━━━━━━━━━━━━━━━━━━━\u001b[0m\u001b[37m\u001b[0m \u001b[1m0s\u001b[0m 255ms/step - loss: 1.6240\n",
            " mean perplexity: 4.46786685505105 \n",
            "\n",
            "Saved new model!\n",
            "\u001b[1m1406/1406\u001b[0m \u001b[32m━━━━━━━━━━━━━━━━━━━━\u001b[0m\u001b[37m\u001b[0m \u001b[1m620s\u001b[0m 399ms/step - loss: 1.6240\n",
            "Epoch 12/15\n",
            "\u001b[1m1406/1406\u001b[0m \u001b[32m━━━━━━━━━━━━━━━━━━━━\u001b[0m\u001b[37m\u001b[0m \u001b[1m0s\u001b[0m 257ms/step - loss: 1.6143\n",
            " mean perplexity: 4.42851470822665 \n",
            "\n",
            "Saved new model!\n",
            "\u001b[1m1406/1406\u001b[0m \u001b[32m━━━━━━━━━━━━━━━━━━━━\u001b[0m\u001b[37m\u001b[0m \u001b[1m510s\u001b[0m 363ms/step - loss: 1.6143\n",
            "Epoch 13/15\n",
            "\u001b[1m1406/1406\u001b[0m \u001b[32m━━━━━━━━━━━━━━━━━━━━\u001b[0m\u001b[37m\u001b[0m \u001b[1m0s\u001b[0m 257ms/step - loss: 1.6043\n",
            " mean perplexity: 4.402283095834243 \n",
            "\n",
            "Saved new model!\n",
            "\u001b[1m1406/1406\u001b[0m \u001b[32m━━━━━━━━━━━━━━━━━━━━\u001b[0m\u001b[37m\u001b[0m \u001b[1m563s\u001b[0m 363ms/step - loss: 1.6043\n",
            "Epoch 14/15\n",
            "\u001b[1m1406/1406\u001b[0m \u001b[32m━━━━━━━━━━━━━━━━━━━━\u001b[0m\u001b[37m\u001b[0m \u001b[1m0s\u001b[0m 255ms/step - loss: 1.5970\n",
            " mean perplexity: 4.382045747047693 \n",
            "\n",
            "Saved new model!\n",
            "\u001b[1m1406/1406\u001b[0m \u001b[32m━━━━━━━━━━━━━━━━━━━━\u001b[0m\u001b[37m\u001b[0m \u001b[1m612s\u001b[0m 399ms/step - loss: 1.5970\n",
            "Epoch 15/15\n",
            "\u001b[1m1406/1406\u001b[0m \u001b[32m━━━━━━━━━━━━━━━━━━━━\u001b[0m\u001b[37m\u001b[0m \u001b[1m0s\u001b[0m 257ms/step - loss: 1.5901\n",
            " mean perplexity: 4.368389241659462 \n",
            "\n",
            "Saved new model!\n",
            "\u001b[1m1406/1406\u001b[0m \u001b[32m━━━━━━━━━━━━━━━━━━━━\u001b[0m\u001b[37m\u001b[0m \u001b[1m564s\u001b[0m 401ms/step - loss: 1.5901\n",
            "Tiempo de entrenamiento (GRU): 8653.30 segundos\n"
          ]
        }
      ]
    },
    {
      "cell_type": "code",
      "execution_count": null,
      "metadata": {
        "id": "K30JHB3Dv-mx"
      },
      "outputs": [],
      "source": [
        "def plot_ppl(history_ppl, model_name) :\n",
        "  epoch_count = range(1, len(history_ppl) + 1)\n",
        "\n",
        "  plt.figure(figsize=(8, 5))\n",
        "  sns.lineplot(x=epoch_count, y=history_ppl, marker='o')\n",
        "\n",
        "  plt.title(f\"Perplejidad VS Época - {model_name}\")\n",
        "  plt.xlabel(\"Épocas\")\n",
        "  plt.ylabel(\"Perplejidad\")\n",
        "  plt.xticks(epoch_count)\n",
        "\n",
        "  plt.grid(True)\n",
        "  plt.tight_layout()\n",
        "  plt.show()"
      ]
    },
    {
      "cell_type": "code",
      "source": [
        "# Gráficamos Perplejidad VS Época para cada uno de los 3 modelos\n",
        "plot_ppl(history_ppl_simpleRNN, \"SimpleRNN\")\n",
        "plot_ppl(history_ppl_LSTM, \"LSTM\")\n",
        "plot_ppl(history_ppl_GRU, \"GRU\")"
      ],
      "metadata": {
        "colab": {
          "base_uri": "https://localhost:8080/",
          "height": 1000
        },
        "id": "ZlT51MlFfM8u",
        "outputId": "a89d0e64-5d3f-4f22-8997-1b0342ccfa3e"
      },
      "execution_count": null,
      "outputs": [
        {
          "output_type": "display_data",
          "data": {
            "text/plain": [
              "<Figure size 800x500 with 1 Axes>"
            ],
            "image/png": "[encoded data removed]"
          },
          "metadata": {}
        },
        {
          "output_type": "display_data",
          "data": {
            "text/plain": [
              "<Figure size 800x500 with 1 Axes>"
            ],
            "image/png": "[encoded data removed]"
          },
          "metadata": {}
        },
        {
          "output_type": "display_data",
          "data": {
            "text/plain": [
              "<Figure size 800x500 with 1 Axes>"
            ],
            "image/png": "[encoded data removed]"
          },
          "metadata": {}
        }
      ]
    },
    {
      "cell_type": "code",
      "source": [
        "# Gráfico comparativo de Perplejidad VS Época para los 3 modelos\n",
        "\n",
        "epochs = list(range(1, len(history_ppl_simpleRNN) + 1))\n",
        "plt.figure(figsize=(10, 6))\n",
        "\n",
        "sns.lineplot(x=epochs, y=history_ppl_simpleRNN, label='SimpleRNN', marker='o')\n",
        "sns.lineplot(x=epochs, y=history_ppl_LSTM, label='LSTM', marker='s')\n",
        "sns.lineplot(x=epochs, y=history_ppl_GRU, label='GRU', marker='^')\n",
        "\n",
        "plt.title('Perplejidad VS Época')\n",
        "plt.xlabel('Épocas')\n",
        "plt.ylabel('Perplejidad')\n",
        "plt.xticks(epochs)\n",
        "plt.legend()\n",
        "plt.grid(True)\n",
        "plt.tight_layout()\n",
        "plt.show()"
      ],
      "metadata": {
        "colab": {
          "base_uri": "https://localhost:8080/",
          "height": 607
        },
        "id": "HO9j_bEsgYcP",
        "outputId": "adc7afa7-3366-415e-ab03-b9c96d4f4d1a"
      },
      "execution_count": null,
      "outputs": [
        {
          "output_type": "display_data",
          "data": {
            "text/plain": [
              "<Figure size 1000x600 with 1 Axes>"
            ],
            "image/png": "[encoded data removed]"
          },
          "metadata": {}
        }
      ]
    },
    {
      "cell_type": "markdown",
      "source": [
        "## Comparación de los modelos\n",
        "\n",
        "### Resultados finales tras 15 épocas\n",
        "\n",
        "| Modelo     | Perplejidad Final | Tiempo de Entrenamiento |\n",
        "|------------|-------------------|--------------------------|\n",
        "| SimpleRNN  | 4.40              | 609 s (≈ 10 min)         |\n",
        "| LSTM       | 5.41              | 8662 s (≈ 144 min)       |\n",
        "| GRU        | 4.37              | 8653 s (≈ 144 min)       |\n",
        "\n",
        "### Observaciones\n",
        "\n",
        "- **GRU** obtuvo la menor perplejidad (≈ 4.37), ligeramente mejor que SimpleRNN.\n",
        "- **SimpleRNN** entrenó muchísimo más rápido (≈ 10 minutos), con un desempeño competitivo.\n",
        "- **LSTM** tuvo la mayor perplejidad final, pese a su alto costo computacional.\n",
        "\n",
        "Para los 3 modelos vemos en los gráficos que con más épocas de entrenamiento podríamos seguir disminuyendo la perplejidad.\n",
        "\n",
        "En este caso, GRU ofrece el mejor equilibrio entre capacidad y generalización, aunque SimpleRNN puede ser una buena opción para prototipos rápidos.\n",
        "Teniendo en cuanta que el resultado es apenas inferior al de GRU, pero se entrenó mucho más rápido, SimpleRNN puede ser la mejor opción"
      ],
      "metadata": {
        "id": "k4bGtRzs59s3"
      }
    },
    {
      "cell_type": "markdown",
      "source": [
        "## Prueba de los modelos entrenados"
      ],
      "metadata": {
        "id": "4SeZCubTijJl"
      }
    },
    {
      "cell_type": "code",
      "execution_count": null,
      "metadata": {
        "id": "Rhy5hZN38qfO"
      },
      "outputs": [],
      "source": [
        "# Cargamos los mejores modelos guardados\n",
        "model_simpleRNN = keras.models.load_model('model_simpleRNN.keras')\n",
        "model_LSTM = keras.models.load_model('model_LSTM.keras')\n",
        "model_GRU = keras.models.load_model('model_GRU.keras')"
      ]
    },
    {
      "cell_type": "markdown",
      "metadata": {
        "id": "KN6Fg_BsxJe6"
      },
      "source": [
        "### Predicción del próximo caracter"
      ]
    },
    {
      "cell_type": "code",
      "execution_count": null,
      "metadata": {
        "id": "IBvKHFPmzpy2"
      },
      "outputs": [],
      "source": [
        "# Se puede usar gradio para probar el modelo\n",
        "# Gradio es una herramienta muy útil para crear interfaces para ensayar modelos\n",
        "# https://gradio.app/\n",
        "\n",
        "!pip install -q gradio"
      ]
    },
    {
      "cell_type": "code",
      "execution_count": null,
      "metadata": {
        "id": "HNyBykvhzs7-"
      },
      "outputs": [],
      "source": [
        "import gradio as gr\n",
        "\n",
        "def model_response(human_text, model=model_simpleRNN):\n",
        "\n",
        "    # Encodeamos\n",
        "    encoded = [char2idx[ch] for ch in human_text.lower() ]\n",
        "    # Si tienen distinto largo\n",
        "    encoded = pad_sequences([encoded], maxlen=max_context_size, padding='pre')\n",
        "\n",
        "    # Predicción softmax\n",
        "    y_hat = np.argmax(model.predict(encoded)[0,-1,:])\n",
        "\n",
        "\n",
        "    # Debemos buscar en el vocabulario el caracter\n",
        "    # que corresopnde al indice (y_hat) predicho por le modelo\n",
        "    out_word = ''\n",
        "    out_word = idx2char[y_hat]\n",
        "\n",
        "    # Agrego la palabra a la frase predicha\n",
        "    return human_text + out_word"
      ]
    },
    {
      "cell_type": "code",
      "source": [
        "iface = gr.Interface(\n",
        "    fn=model_response,\n",
        "    inputs=[\"textbox\"],\n",
        "    outputs=\"text\")\n",
        "\n",
        "iface.launch(debug=True)"
      ],
      "metadata": {
        "colab": {
          "base_uri": "https://localhost:8080/",
          "height": 715
        },
        "id": "QRtzkoqy_C9D",
        "outputId": "198fcae5-0b8a-4cf3-b685-83d9617cbeb2"
      },
      "execution_count": null,
      "outputs": [
        {
          "output_type": "stream",
          "name": "stdout",
          "text": [
            "It looks like you are running Gradio on a hosted a Jupyter notebook. For the Gradio app to work, sharing must be enabled. Automatically setting `share=True` (you can turn this off by setting `share=False` in `launch()` explicitly).\n",
            "\n",
            "Colab notebook detected. This cell will run indefinitely so that you can see errors and logs. To turn off, set debug=False in launch().\n",
            "* Running on public URL: https://86d4245fb2cc11708f.gradio.live\n",
            "\n",
            "This share link expires in 1 week. For free permanent hosting and GPU upgrades, run `gradio deploy` from the terminal in the working directory to deploy to Hugging Face Spaces (https://huggingface.co/spaces)\n"
          ]
        },
        {
          "output_type": "display_data",
          "data": {
            "text/plain": [
              "<IPython.core.display.HTML object>"
            ],
            "text/html": [
              "<div><iframe src=\"https://86d4245fb2cc11708f.gradio.live\" width=\"100%\" height=\"500\" allow=\"autoplay; camera; microphone; clipboard-read; clipboard-write;\" frameborder=\"0\" allowfullscreen></iframe></div>"
            ]
          },
          "metadata": {}
        },
        {
          "output_type": "stream",
          "name": "stdout",
          "text": [
            "\u001b[1m1/1\u001b[0m \u001b[32m━━━━━━━━━━━━━━━━━━━━\u001b[0m\u001b[37m\u001b[0m \u001b[1m2s\u001b[0m 2s/step\n",
            "\u001b[1m1/1\u001b[0m \u001b[32m━━━━━━━━━━━━━━━━━━━━\u001b[0m\u001b[37m\u001b[0m \u001b[1m0s\u001b[0m 42ms/step\n",
            "Keyboard interruption in main thread... closing server.\n",
            "Killing tunnel 127.0.0.1:7860 <> https://86d4245fb2cc11708f.gradio.live\n"
          ]
        },
        {
          "output_type": "execute_result",
          "data": {
            "text/plain": []
          },
          "metadata": {},
          "execution_count": 38
        }
      ]
    },
    {
      "cell_type": "code",
      "source": [
        "text = \"Person\"\n",
        "print(f'Respuesta SimpleRNN: {model_response(text, model_simpleRNN)}')\n",
        "print(f'Respuesta LSTM: { model_response(text, model_LSTM) }')\n",
        "print(f'Respuesta GRU: {model_response(text, model_GRU)}')"
      ],
      "metadata": {
        "colab": {
          "base_uri": "https://localhost:8080/"
        },
        "id": "92flXutq-qvH",
        "outputId": "d8081019-0564-468e-ca90-a5cbe0d7e2f6"
      },
      "execution_count": null,
      "outputs": [
        {
          "output_type": "stream",
          "name": "stdout",
          "text": [
            "\u001b[1m1/1\u001b[0m \u001b[32m━━━━━━━━━━━━━━━━━━━━\u001b[0m\u001b[37m\u001b[0m \u001b[1m0s\u001b[0m 33ms/step\n",
            "Respuesta SimpleRNN: Persona\n",
            "\u001b[1m1/1\u001b[0m \u001b[32m━━━━━━━━━━━━━━━━━━━━\u001b[0m\u001b[37m\u001b[0m \u001b[1m0s\u001b[0m 87ms/step\n",
            "Respuesta LSTM: Person \n",
            "\u001b[1m1/1\u001b[0m \u001b[32m━━━━━━━━━━━━━━━━━━━━\u001b[0m\u001b[37m\u001b[0m \u001b[1m0s\u001b[0m 87ms/step\n",
            "Respuesta GRU: Persona\n"
          ]
        }
      ]
    },
    {
      "cell_type": "markdown",
      "metadata": {
        "id": "mCeMWWupxN1-"
      },
      "source": [
        "### Greedy search"
      ]
    },
    {
      "cell_type": "code",
      "execution_count": null,
      "metadata": {
        "id": "bwbS_pfhxvB3"
      },
      "outputs": [],
      "source": [
        "def generate_seq(model, seed_text, max_length, n_words):\n",
        "    \"\"\"\n",
        "        Exec model sequence prediction\n",
        "\n",
        "        Args:\n",
        "            model (keras): modelo entrenado\n",
        "            seed_text (string): texto de entrada (input_seq)\n",
        "            max_length (int): máxima longitud de la sequencia de entrada\n",
        "            n_words (int): números de caracteres a agregar a la sequencia de entrada\n",
        "        returns:\n",
        "            output_text (string): sentencia con las \"n_words\" agregadas\n",
        "    \"\"\"\n",
        "    output_text = seed_text\n",
        "\t# generate a fixed number of words\n",
        "    for _ in range(n_words):\n",
        "\t\t# Encodeamos\n",
        "        encoded = [char2idx[ch] for ch in output_text.lower() ]\n",
        "\t\t# Si tienen distinto largo\n",
        "        encoded = pad_sequences([encoded], maxlen=max_length, padding='pre')\n",
        "\n",
        "\t\t# Predicción softmax\n",
        "        y_hat = np.argmax(model.predict(encoded,verbose=0)[0,-1,:])\n",
        "\t\t# Vamos concatenando las predicciones\n",
        "        out_word = ''\n",
        "\n",
        "        out_word = idx2char[y_hat]\n",
        "\n",
        "\t\t# Agrego las palabras a la frase predicha\n",
        "        output_text += out_word\n",
        "    return output_text"
      ]
    },
    {
      "cell_type": "code",
      "execution_count": null,
      "metadata": {
        "id": "JoFqRC5pxzqS",
        "colab": {
          "base_uri": "https://localhost:8080/"
        },
        "outputId": "d9c1e0b0-231e-4002-f072-78d21bacba1b"
      },
      "outputs": [
        {
          "output_type": "stream",
          "name": "stdout",
          "text": [
            "habia una vez que está bien? - ¿qué está bi\n",
            "habia una vez? - ¿qué está bien? - ¿qué est\n",
            "habia una vez de la contrar a la contrar a \n"
          ]
        }
      ],
      "source": [
        "input_text='habia una vez'\n",
        "\n",
        "print(generate_seq(model_simpleRNN, input_text, max_length=max_context_size, n_words=30))\n",
        "print(generate_seq(model_LSTM, input_text, max_length=max_context_size, n_words=30))\n",
        "print(generate_seq(model_GRU, input_text, max_length=max_context_size, n_words=30))"
      ]
    },
    {
      "cell_type": "code",
      "source": [
        "input_text='hoy es un día para'\n",
        "\n",
        "print(generate_seq(model_simpleRNN, input_text, max_length=max_context_size, n_words=30))\n",
        "print(generate_seq(model_LSTM, input_text, max_length=max_context_size, n_words=30))\n",
        "print(generate_seq(model_GRU, input_text, max_length=max_context_size, n_words=30))"
      ],
      "metadata": {
        "colab": {
          "base_uri": "https://localhost:8080/"
        },
        "id": "eTjhwUVnukjt",
        "outputId": "76549517-7e85-4916-d200-d80304ac4e97"
      },
      "execution_count": null,
      "outputs": [
        {
          "output_type": "stream",
          "name": "stdout",
          "text": [
            "hoy es un día para la contar es muy bien? - ¿qué\n",
            "hoy es un día para que está bien? - ¿qué está bi\n",
            "hoy es un día para con el contrar esta muerte. -\n"
          ]
        }
      ]
    },
    {
      "cell_type": "code",
      "source": [
        "input_text='Sr. Bond, usted es'\n",
        "\n",
        "print(generate_seq(model_simpleRNN, input_text, max_length=max_context_size, n_words=30))\n",
        "print(generate_seq(model_LSTM, input_text, max_length=max_context_size, n_words=30))\n",
        "print(generate_seq(model_GRU, input_text, max_length=max_context_size, n_words=30))"
      ],
      "metadata": {
        "colab": {
          "base_uri": "https://localhost:8080/"
        },
        "id": "c6gfsMakulYQ",
        "outputId": "58b251bb-a39f-48bd-c29d-94fcde3e4511"
      },
      "execution_count": null,
      "outputs": [
        {
          "output_type": "stream",
          "name": "stdout",
          "text": [
            "Sr. Bond, usted es mi como si es serio. - ¿qué e\n",
            "Sr. Bond, usted está bien. - ¿qué está bien? - ¿\n",
            "Sr. Bond, usted es un poco de la contrar a la co\n"
          ]
        }
      ]
    },
    {
      "cell_type": "markdown",
      "metadata": {
        "id": "drJ6xn5qW1Hl"
      },
      "source": [
        "###  Beam search"
      ]
    },
    {
      "cell_type": "code",
      "execution_count": null,
      "metadata": {
        "id": "_vovn9XZW1Hl"
      },
      "outputs": [],
      "source": [
        "# funcionalidades para hacer encoding y decoding\n",
        "\n",
        "def encode(text,max_length=max_context_size):\n",
        "\n",
        "    encoded = [char2idx[ch] for ch in text]\n",
        "    encoded = pad_sequences([encoded], maxlen=max_length, padding='pre')\n",
        "\n",
        "    return encoded\n",
        "\n",
        "def decode(seq):\n",
        "    return ''.join([idx2char[ch] for ch in seq])"
      ]
    },
    {
      "cell_type": "code",
      "execution_count": null,
      "metadata": {
        "id": "I_lZiQwkW1Hl"
      },
      "outputs": [],
      "source": [
        "from scipy.special import softmax\n",
        "\n",
        "# función que selecciona candidatos para el beam search\n",
        "def select_candidates(pred,num_beams,vocab_size,history_probs,history_tokens,temp,mode):\n",
        "\n",
        "  # colectar todas las probabilidades para la siguiente búsqueda\n",
        "  pred_large = []\n",
        "\n",
        "  for idx,pp in enumerate(pred):\n",
        "    pred_large.extend(np.log(pp+1E-10)+history_probs[idx])\n",
        "\n",
        "  pred_large = np.array(pred_large)\n",
        "\n",
        "  # criterio de selección\n",
        "  if mode == 'det':\n",
        "    idx_select = np.argsort(pred_large)[::-1][:num_beams] # beam search determinista\n",
        "  elif mode == 'sto':\n",
        "    idx_select = np.random.choice(np.arange(pred_large.shape[0]), num_beams, p=softmax(pred_large/temp)) # beam search con muestreo aleatorio\n",
        "  else:\n",
        "    raise ValueError(f'Wrong selection mode. {mode} was given. det and sto are supported.')\n",
        "\n",
        "  # traducir a índices de token en el vocabulario\n",
        "  new_history_tokens = np.concatenate((np.array(history_tokens)[idx_select//vocab_size],\n",
        "                        np.array([idx_select%vocab_size]).T),\n",
        "                      axis=1)\n",
        "\n",
        "  # devolver el producto de las probabilidades (log) y la secuencia de tokens seleccionados\n",
        "  return pred_large[idx_select.astype(int)], new_history_tokens.astype(int)\n",
        "\n",
        "\n",
        "def beam_search(model,num_beams,num_words,input,temp=1,mode='det'):\n",
        "\n",
        "    # first iteration\n",
        "\n",
        "    # encode\n",
        "    encoded = encode(input)\n",
        "\n",
        "    # first prediction\n",
        "    y_hat = model.predict(encoded,verbose=0)[0,-1,:]\n",
        "\n",
        "    # get vocabulary size\n",
        "    vocab_size = y_hat.shape[0]\n",
        "\n",
        "    # initialize history\n",
        "    history_probs = [0]*num_beams\n",
        "    history_tokens = [encoded[0]]*num_beams\n",
        "\n",
        "    # select num_beams candidates\n",
        "    history_probs, history_tokens = select_candidates([y_hat],\n",
        "                                        num_beams,\n",
        "                                        vocab_size,\n",
        "                                        history_probs,\n",
        "                                        history_tokens,\n",
        "                                        temp,\n",
        "                                        mode)\n",
        "\n",
        "    # beam search loop\n",
        "    for i in range(num_words-1):\n",
        "\n",
        "      preds = []\n",
        "\n",
        "      for hist in history_tokens:\n",
        "\n",
        "        # actualizar secuencia de tokens\n",
        "        input_update = np.array([hist[i+1:]]).copy()\n",
        "\n",
        "        # predicción\n",
        "        y_hat = model.predict(input_update,verbose=0)[0,-1,:]\n",
        "\n",
        "        preds.append(y_hat)\n",
        "\n",
        "      history_probs, history_tokens = select_candidates(preds,\n",
        "                                                        num_beams,\n",
        "                                                        vocab_size,\n",
        "                                                        history_probs,\n",
        "                                                        history_tokens,\n",
        "                                                        temp,\n",
        "                                                        mode)\n",
        "\n",
        "    return history_tokens[:,-(len(input)+num_words):]"
      ]
    },
    {
      "cell_type": "code",
      "source": [
        "def generate_text(input_text, mode, temp=1):\n",
        "    modelos = {\n",
        "        \"SimpleRNN\": model_simpleRNN,\n",
        "        \"LSTM\": model_LSTM,\n",
        "        \"GRU\": model_GRU\n",
        "    }\n",
        "\n",
        "    for nombre, modelo in modelos.items():\n",
        "        print(f\"\\n--- Modelo: {nombre} | Modo: {mode} | Temperatura: {temp} ---\")\n",
        "        salidas = beam_search(\n",
        "            modelo,\n",
        "            num_beams=10,\n",
        "            num_words=30,\n",
        "            input=input_text,\n",
        "            temp=temp,\n",
        "            mode=mode\n",
        "        )\n",
        "        print(decode(salidas[0]))\n"
      ],
      "metadata": {
        "id": "TG99x-0O0m_a"
      },
      "execution_count": null,
      "outputs": []
    },
    {
      "cell_type": "code",
      "source": [
        "input = 'habia una vez'\n",
        "generate_text(input_text=input, mode='det', temp=1)\n",
        "generate_text(input_text=input, mode='sto', temp=1)\n",
        "generate_text(input_text=input, mode='sto', temp=2)\n",
        "generate_text(input_text=input, mode='sto', temp=5)"
      ],
      "metadata": {
        "colab": {
          "base_uri": "https://localhost:8080/"
        },
        "id": "7mGT4c8W0yN7",
        "outputId": "06873144-84c8-4e58-f44d-9c8cc5821fef"
      },
      "execution_count": null,
      "outputs": [
        {
          "output_type": "stream",
          "name": "stdout",
          "text": [
            "\n",
            "--- Modelo: SimpleRNN | Modo: det | Temperatura: 1 ---\n",
            "habia una vez que está bien? - no lo siento\n",
            "\n",
            "--- Modelo: LSTM | Modo: det | Temperatura: 1 ---\n",
            "habia una vez? ¿qué está bien? - ¿qué está \n",
            "\n",
            "--- Modelo: GRU | Modo: det | Temperatura: 1 ---\n",
            "habia una vez para que no tengo que no pued\n",
            "\n",
            "--- Modelo: SimpleRNN | Modo: sto | Temperatura: 1 ---\n",
            "habia una vez? - no sé que no te estás desp\n",
            "\n",
            "--- Modelo: LSTM | Modo: sto | Temperatura: 1 ---\n",
            "habia una vez? - ¿qué estás por qué te que \n",
            "\n",
            "--- Modelo: GRU | Modo: sto | Temperatura: 1 ---\n",
            "habia una vez de la mierda. - ¿qué está cas\n",
            "\n",
            "--- Modelo: SimpleRNN | Modo: sto | Temperatura: 2 ---\n",
            "habia una vez los favor! una cinco sobre an\n",
            "\n",
            "--- Modelo: LSTM | Modo: sto | Temperatura: 2 ---\n",
            "habia una vez? ¿no te que te decir? emporo \n",
            "\n",
            "--- Modelo: GRU | Modo: sto | Temperatura: 2 ---\n",
            "habia una vez de milando. para que se me ab\n",
            "\n",
            "--- Modelo: SimpleRNN | Modo: sto | Temperatura: 5 ---\n",
            "habia una vezval há muerta redilliaima ektt\n",
            "\n",
            "--- Modelo: LSTM | Modo: sto | Temperatura: 5 ---\n",
            "habia una vez - qié quirir máli intút cacé,\n",
            "\n",
            "--- Modelo: GRU | Modo: sto | Temperatura: 5 ---\n",
            "habia una vez mumir. . ¿dobien el ter usáfn\n"
          ]
        }
      ]
    },
    {
      "cell_type": "code",
      "source": [
        "input = 'sr. bond, usted es'\n",
        "generate_text(input_text=input, mode='det', temp=1)\n",
        "generate_text(input_text=input, mode='sto', temp=1)\n",
        "generate_text(input_text=input, mode='sto', temp=2)\n",
        "generate_text(input_text=input, mode='sto', temp=5)"
      ],
      "metadata": {
        "colab": {
          "base_uri": "https://localhost:8080/"
        },
        "id": "IdCTv-011fNi",
        "outputId": "8e22f9b7-f956-4219-c23e-6dc1199fb2e8"
      },
      "execution_count": null,
      "outputs": [
        {
          "output_type": "stream",
          "name": "stdout",
          "text": [
            "\n",
            "--- Modelo: SimpleRNN | Modo: det | Temperatura: 1 ---\n",
            "sr. bond, usted está bien. ¿qué está bien? - no \n",
            "\n",
            "--- Modelo: LSTM | Modo: det | Temperatura: 1 ---\n",
            "sr. bond, usted está bien.......................\n",
            "\n",
            "--- Modelo: GRU | Modo: det | Temperatura: 1 ---\n",
            "sr. bond, usted está bien. por favor, por favor.\n",
            "\n",
            "--- Modelo: SimpleRNN | Modo: sto | Temperatura: 1 ---\n",
            "sr. bond, usted está bien. vamos. - no lo siento\n",
            "\n",
            "--- Modelo: LSTM | Modo: sto | Temperatura: 1 ---\n",
            "sr. bond, usted está bien. - ¿por qué no puede e\n",
            "\n",
            "--- Modelo: GRU | Modo: sto | Temperatura: 1 ---\n",
            "sr. bond, usted estaba con ellos. está bien. ¿cu\n",
            "\n",
            "--- Modelo: SimpleRNN | Modo: sto | Temperatura: 2 ---\n",
            "sr. bond, usted es mí. bien, no me dijeron tengo\n",
            "\n",
            "--- Modelo: LSTM | Modo: sto | Temperatura: 2 ---\n",
            "sr. bond, usted estás miner aquí. trato está ent\n",
            "\n",
            "--- Modelo: GRU | Modo: sto | Temperatura: 2 ---\n",
            "sr. bond, usted estoy estaba a salva. la pita. ¿\n",
            "\n",
            "--- Modelo: SimpleRNN | Modo: sto | Temperatura: 5 ---\n",
            "sr. bond, usted estttibienda.\"muertudio seamoméj\n",
            "\n",
            "--- Modelo: LSTM | Modo: sto | Temperatura: 5 ---\n",
            "sr. bond, usted estas - oh. tan nomírelo caperah\n",
            "\n",
            "--- Modelo: GRU | Modo: sto | Temperatura: 5 ---\n",
            "sr. bond, usted ese, conertemita ¡valghá se und.\n"
          ]
        }
      ]
    },
    {
      "cell_type": "markdown",
      "source": [
        "### Conclusión de resultados\n",
        "\n",
        "Los tres modelos entrenados (SimpleRNN, LSTM y GRU) muestran diferencias claras en su comportamiento tanto en la predicción puntual del próximo carácter como en la generación secuencial de texto.\n",
        "\n",
        "- Predicción del próximo carácter:  \n",
        "  SimpleRNN y GRU tienden a completar correctamente palabras, en este caso \"Persona\", mientras que LSTM no logró completarla reflejando una predicción más conservadora o menos precisa en este caso puntual.\n",
        "\n",
        "- Generación de secuencias con Greedy Search:  \n",
        "  Los modelos SimpleRNN y LSTM generan frases algo más coherentes en relación a las palabras que forman, aunque con repeticiones o frases poco naturales. GRU tiende a producir frases menos coherentes o con palabras inusuales, posiblemente por un mayor riesgo de desviarse del contexto en búsqueda codiciosa.\n",
        "\n",
        "- Generación con Beam Search y diferentes temperaturas:  \n",
        "  - En modo determinístico (temperatura = 1), los tres modelos producen frases coherentes, con SimpleRNN y LSTM generando textos más estructurados y formales, mientras GRU introduce frases más variadas pero a veces incoherentes.  \n",
        "  - En modo estocástico y con temperaturas crecientes, los tres modelos comienzan a producir textos menos coherentes y con mayor ruido, especialmente a temperaturas altas (5), donde el texto pierde sentido, lo cual es esperado por la mayor aleatoriedad.\n",
        "\n",
        "- Balance general:  \n",
        "  SimpleRNN ofrece resultados buenos en cuanto a coherencia y rapidez, siendo competitivo frente a modelos más complejos. LSTM genera textos más conservadores y menos variados, que podrían ser pulidos con más entrenamiento o ajuste. GRU, aunque tiene la mejor perplejidad final, presenta resultados más variados, lo que indica potencial para creatividad pero también inestabilidad en generación libre."
      ],
      "metadata": {
        "id": "AEhqQ-Vxv3DM"
      }
    },
    {
      "cell_type": "markdown",
      "source": [
        "## Conclusión final\n",
        "\n",
        "Ninguno de los modelos es del todo bueno para la generación de texto. Aunque se forman palabras correctas, las frases generadas no son muy coherentes sintácticamente ni semánticamente. Esto limita su utilidad para aplicaciones que requieran textos fluidos y naturales.\n",
        "\n",
        "Como próximos pasos, y disponiendo de más tiempo y recursos, se podría:\n",
        "\n",
        "- Entrenar con un corpus más amplio y representativo.  \n",
        "- Aumentar la cantidad de épocas de entrenamiento para mejorar la convergencia.  \n",
        "- Probar arquitecturas más complejas que puedan capturar mejor las dependencias del lenguaje.  \n",
        "- Realizar una búsqueda y ajuste más exhaustivo de hiperparámetros para optimizar el desempeño.\n",
        "\n",
        "Estas acciones pueden ayudar a mejorar la coherencia y calidad de las secuencias generadas."
      ],
      "metadata": {
        "id": "rtAAXWJk_Wah"
      }
    }
  ],
  "metadata": {
    "colab": {
      "provenance": [],
      "collapsed_sections": [
        "xTvXlEKQZdqx"
      ],
      "gpuType": "T4"
    },
    "kernelspec": {
      "display_name": "Python 3",
      "name": "python3"
    },
    "language_info": {
      "name": "python"
    },
    "accelerator": "GPU"
  },
  "nbformat": 4,
  "nbformat_minor": 0
}